{
 "cells": [
  {
   "cell_type": "code",
   "execution_count": 1,
   "id": "d8a58739-cd7c-4bea-803a-bd46a3ec21b0",
   "metadata": {
    "tags": []
   },
   "outputs": [
    {
     "data": {
      "text/html": [
       "<div>\n",
       "<style scoped>\n",
       "    .dataframe tbody tr th:only-of-type {\n",
       "        vertical-align: middle;\n",
       "    }\n",
       "\n",
       "    .dataframe tbody tr th {\n",
       "        vertical-align: top;\n",
       "    }\n",
       "\n",
       "    .dataframe thead th {\n",
       "        text-align: right;\n",
       "    }\n",
       "</style>\n",
       "<table border=\"1\" class=\"dataframe\">\n",
       "  <thead>\n",
       "    <tr style=\"text-align: right;\">\n",
       "      <th></th>\n",
       "      <th>0</th>\n",
       "      <th>1</th>\n",
       "      <th>2</th>\n",
       "      <th>3</th>\n",
       "      <th>4</th>\n",
       "      <th>5</th>\n",
       "    </tr>\n",
       "  </thead>\n",
       "  <tbody>\n",
       "    <tr>\n",
       "      <th>0</th>\n",
       "      <td>Wow... Loved this place.</td>\n",
       "      <td>1</td>\n",
       "      <td>NaN</td>\n",
       "      <td>NaN</td>\n",
       "      <td>NaN</td>\n",
       "      <td>NaN</td>\n",
       "    </tr>\n",
       "    <tr>\n",
       "      <th>1</th>\n",
       "      <td>Crust is not good.</td>\n",
       "      <td>0</td>\n",
       "      <td>NaN</td>\n",
       "      <td>NaN</td>\n",
       "      <td>NaN</td>\n",
       "      <td>NaN</td>\n",
       "    </tr>\n",
       "    <tr>\n",
       "      <th>2</th>\n",
       "      <td>Not tasty and the texture was just nasty.</td>\n",
       "      <td>0</td>\n",
       "      <td>NaN</td>\n",
       "      <td>NaN</td>\n",
       "      <td>NaN</td>\n",
       "      <td>NaN</td>\n",
       "    </tr>\n",
       "    <tr>\n",
       "      <th>3</th>\n",
       "      <td>Stopped by during the late May bank holiday of...</td>\n",
       "      <td>1</td>\n",
       "      <td>NaN</td>\n",
       "      <td>NaN</td>\n",
       "      <td>NaN</td>\n",
       "      <td>NaN</td>\n",
       "    </tr>\n",
       "    <tr>\n",
       "      <th>4</th>\n",
       "      <td>The selection on the menu was great and so wer...</td>\n",
       "      <td>1</td>\n",
       "      <td>NaN</td>\n",
       "      <td>NaN</td>\n",
       "      <td>NaN</td>\n",
       "      <td>NaN</td>\n",
       "    </tr>\n",
       "  </tbody>\n",
       "</table>\n",
       "</div>"
      ],
      "text/plain": [
       "                                                   0  1    2    3    4   5\n",
       "0                           Wow... Loved this place.  1  NaN  NaN  NaN NaN\n",
       "1                                 Crust is not good.  0  NaN  NaN  NaN NaN\n",
       "2          Not tasty and the texture was just nasty.  0  NaN  NaN  NaN NaN\n",
       "3  Stopped by during the late May bank holiday of...  1  NaN  NaN  NaN NaN\n",
       "4  The selection on the menu was great and so wer...  1  NaN  NaN  NaN NaN"
      ]
     },
     "execution_count": 1,
     "metadata": {},
     "output_type": "execute_result"
    }
   ],
   "source": [
    "# read data into pandas DataFrame\n",
    "import pandas as pd\n",
    "\n",
    "df = pd.read_csv('source/yelp_labelled.csv', header=None)\n",
    "df.head(5)"
   ]
  },
  {
   "cell_type": "code",
   "execution_count": 2,
   "id": "31a86cca-14fd-4f25-a250-2718f257c46b",
   "metadata": {
    "tags": []
   },
   "outputs": [
    {
     "data": {
      "text/plain": [
       "(992, 6)"
      ]
     },
     "execution_count": 2,
     "metadata": {},
     "output_type": "execute_result"
    }
   ],
   "source": [
    "df.shape"
   ]
  },
  {
   "cell_type": "markdown",
   "id": "f3972987-de41-4bbd-971b-7800ea01a475",
   "metadata": {},
   "source": [
    "## Data Preparation"
   ]
  },
  {
   "cell_type": "code",
   "execution_count": 3,
   "id": "cfa95a5f-014b-4d9e-97bc-0c3ddf88c1e6",
   "metadata": {
    "tags": []
   },
   "outputs": [
    {
     "data": {
      "text/html": [
       "<div>\n",
       "<style scoped>\n",
       "    .dataframe tbody tr th:only-of-type {\n",
       "        vertical-align: middle;\n",
       "    }\n",
       "\n",
       "    .dataframe tbody tr th {\n",
       "        vertical-align: top;\n",
       "    }\n",
       "\n",
       "    .dataframe thead th {\n",
       "        text-align: right;\n",
       "    }\n",
       "</style>\n",
       "<table border=\"1\" class=\"dataframe\">\n",
       "  <thead>\n",
       "    <tr style=\"text-align: right;\">\n",
       "      <th></th>\n",
       "      <th>0</th>\n",
       "      <th>1</th>\n",
       "      <th>2</th>\n",
       "      <th>3</th>\n",
       "      <th>4</th>\n",
       "      <th>5</th>\n",
       "    </tr>\n",
       "  </thead>\n",
       "  <tbody>\n",
       "    <tr>\n",
       "      <th>0</th>\n",
       "      <td>Wow... Loved this place.</td>\n",
       "      <td>1</td>\n",
       "      <td></td>\n",
       "      <td></td>\n",
       "      <td></td>\n",
       "      <td></td>\n",
       "    </tr>\n",
       "    <tr>\n",
       "      <th>1</th>\n",
       "      <td>Crust is not good.</td>\n",
       "      <td>0</td>\n",
       "      <td></td>\n",
       "      <td></td>\n",
       "      <td></td>\n",
       "      <td></td>\n",
       "    </tr>\n",
       "    <tr>\n",
       "      <th>2</th>\n",
       "      <td>Not tasty and the texture was just nasty.</td>\n",
       "      <td>0</td>\n",
       "      <td></td>\n",
       "      <td></td>\n",
       "      <td></td>\n",
       "      <td></td>\n",
       "    </tr>\n",
       "    <tr>\n",
       "      <th>3</th>\n",
       "      <td>Stopped by during the late May bank holiday of...</td>\n",
       "      <td>1</td>\n",
       "      <td></td>\n",
       "      <td></td>\n",
       "      <td></td>\n",
       "      <td></td>\n",
       "    </tr>\n",
       "    <tr>\n",
       "      <th>4</th>\n",
       "      <td>The selection on the menu was great and so wer...</td>\n",
       "      <td>1</td>\n",
       "      <td></td>\n",
       "      <td></td>\n",
       "      <td></td>\n",
       "      <td></td>\n",
       "    </tr>\n",
       "  </tbody>\n",
       "</table>\n",
       "</div>"
      ],
      "text/plain": [
       "                                                   0  1 2 3 4 5\n",
       "0                           Wow... Loved this place.  1        \n",
       "1                                 Crust is not good.  0        \n",
       "2          Not tasty and the texture was just nasty.  0        \n",
       "3  Stopped by during the late May bank holiday of...  1        \n",
       "4  The selection on the menu was great and so wer...  1        "
      ]
     },
     "execution_count": 3,
     "metadata": {},
     "output_type": "execute_result"
    }
   ],
   "source": [
    "# fill NA values\n",
    "df.fillna(value='', inplace=True)\n",
    "df.head(5)"
   ]
  },
  {
   "cell_type": "code",
   "execution_count": 4,
   "id": "10651a71-ff0f-4f92-b751-1cbb27c377db",
   "metadata": {
    "tags": []
   },
   "outputs": [
    {
     "data": {
      "text/plain": [
       "0                              Wow... Loved this place.1\n",
       "1                                    Crust is not good.0\n",
       "2             Not tasty and the texture was just nasty.0\n",
       "3      Stopped by during the late May bank holiday of...\n",
       "4      The selection on the menu was great and so wer...\n",
       "                             ...                        \n",
       "987    I think food should have flavor and texture an...\n",
       "988                            Appetite instantly gone.0\n",
       "989    Overall I was not impressed and would not go b...\n",
       "990    The whole experience was underwhelming and I t...\n",
       "991    Then as if I hadn't wasted enough of my life t...\n",
       "Name: review, Length: 992, dtype: string"
      ]
     },
     "execution_count": 4,
     "metadata": {},
     "output_type": "execute_result"
    }
   ],
   "source": [
    "# combine all columns to create 'review' column\n",
    "df = df.astype('string')\n",
    "df['review'] = df[0] + df[1] + df[2] + df[3] + df[4] + df[5]\n",
    "df.review"
   ]
  },
  {
   "cell_type": "code",
   "execution_count": 5,
   "id": "a1ba4004-3069-4614-8aee-84183037f117",
   "metadata": {
    "tags": []
   },
   "outputs": [
    {
     "data": {
      "text/plain": [
       "0      1\n",
       "1      0\n",
       "2      0\n",
       "3      1\n",
       "4      1\n",
       "      ..\n",
       "987    0\n",
       "988    0\n",
       "989    0\n",
       "990    0\n",
       "991    0\n",
       "Name: sentiment, Length: 992, dtype: string"
      ]
     },
     "execution_count": 5,
     "metadata": {},
     "output_type": "execute_result"
    }
   ],
   "source": [
    "# create 'sentiment' column using slice of 'review' column\n",
    "df['sentiment'] = df.review.str.slice(start=-1)\n",
    "df.sentiment"
   ]
  },
  {
   "cell_type": "code",
   "execution_count": 6,
   "id": "6227d63f-2a84-4464-9ba6-c80df689773d",
   "metadata": {
    "tags": []
   },
   "outputs": [
    {
     "data": {
      "text/plain": [
       "0                               Wow... Loved this place.\n",
       "1                                     Crust is not good.\n",
       "2              Not tasty and the texture was just nasty.\n",
       "3      Stopped by during the late May bank holiday of...\n",
       "4      The selection on the menu was great and so wer...\n",
       "                             ...                        \n",
       "987    I think food should have flavor and texture an...\n",
       "988                             Appetite instantly gone.\n",
       "989    Overall I was not impressed and would not go b...\n",
       "990    The whole experience was underwhelming and I t...\n",
       "991    Then as if I hadn't wasted enough of my life t...\n",
       "Name: review, Length: 992, dtype: string"
      ]
     },
     "execution_count": 6,
     "metadata": {},
     "output_type": "execute_result"
    }
   ],
   "source": [
    "# remove score from 'review' column using slice of 'review' column\n",
    "df.review = df.review.str.slice(stop=-1)\n",
    "df.review"
   ]
  },
  {
   "cell_type": "code",
   "execution_count": 7,
   "id": "65375ede-b138-4c1d-b373-7b73d4cbd0c7",
   "metadata": {
    "tags": []
   },
   "outputs": [
    {
     "data": {
      "text/html": [
       "<div>\n",
       "<style scoped>\n",
       "    .dataframe tbody tr th:only-of-type {\n",
       "        vertical-align: middle;\n",
       "    }\n",
       "\n",
       "    .dataframe tbody tr th {\n",
       "        vertical-align: top;\n",
       "    }\n",
       "\n",
       "    .dataframe thead th {\n",
       "        text-align: right;\n",
       "    }\n",
       "</style>\n",
       "<table border=\"1\" class=\"dataframe\">\n",
       "  <thead>\n",
       "    <tr style=\"text-align: right;\">\n",
       "      <th></th>\n",
       "      <th>review</th>\n",
       "      <th>sentiment</th>\n",
       "    </tr>\n",
       "  </thead>\n",
       "  <tbody>\n",
       "    <tr>\n",
       "      <th>0</th>\n",
       "      <td>Wow... Loved this place.</td>\n",
       "      <td>1</td>\n",
       "    </tr>\n",
       "    <tr>\n",
       "      <th>1</th>\n",
       "      <td>Crust is not good.</td>\n",
       "      <td>0</td>\n",
       "    </tr>\n",
       "    <tr>\n",
       "      <th>2</th>\n",
       "      <td>Not tasty and the texture was just nasty.</td>\n",
       "      <td>0</td>\n",
       "    </tr>\n",
       "    <tr>\n",
       "      <th>3</th>\n",
       "      <td>Stopped by during the late May bank holiday of...</td>\n",
       "      <td>1</td>\n",
       "    </tr>\n",
       "    <tr>\n",
       "      <th>4</th>\n",
       "      <td>The selection on the menu was great and so wer...</td>\n",
       "      <td>1</td>\n",
       "    </tr>\n",
       "  </tbody>\n",
       "</table>\n",
       "</div>"
      ],
      "text/plain": [
       "                                              review sentiment\n",
       "0                           Wow... Loved this place.         1\n",
       "1                                 Crust is not good.         0\n",
       "2          Not tasty and the texture was just nasty.         0\n",
       "3  Stopped by during the late May bank holiday of...         1\n",
       "4  The selection on the menu was great and so wer...         1"
      ]
     },
     "execution_count": 7,
     "metadata": {},
     "output_type": "execute_result"
    }
   ],
   "source": [
    "# update DataFrame to contain 'review' and 'sentiment' only\n",
    "df = df[['review', 'sentiment']]\n",
    "df.head(5)"
   ]
  },
  {
   "cell_type": "markdown",
   "id": "b4d13398-ed57-4c30-9815-97f948b94161",
   "metadata": {},
   "source": [
    "## Data Exploration"
   ]
  },
  {
   "cell_type": "code",
   "execution_count": 8,
   "id": "3930a39c-1c0c-4d66-b8b8-98f2dfd91a03",
   "metadata": {
    "tags": []
   },
   "outputs": [
    {
     "data": {
      "text/plain": [
       "0    497\n",
       "1    495\n",
       "Name: sentiment, dtype: Int64"
      ]
     },
     "execution_count": 8,
     "metadata": {},
     "output_type": "execute_result"
    }
   ],
   "source": [
    "df.sentiment.value_counts()"
   ]
  },
  {
   "cell_type": "markdown",
   "id": "0ebe3acc-c7ba-4bb9-9d90-5c247ae4c73d",
   "metadata": {},
   "source": [
    "Sentiment has two values, 0 and 1 (negative and positive, respectively). The number of negative and positive reviews is roughly equal."
   ]
  },
  {
   "cell_type": "code",
   "execution_count": 9,
   "id": "68ad1167-2c87-4de4-896a-5b8389870fc9",
   "metadata": {
    "tags": []
   },
   "outputs": [
    {
     "data": {
      "text/html": [
       "<div>\n",
       "<style scoped>\n",
       "    .dataframe tbody tr th:only-of-type {\n",
       "        vertical-align: middle;\n",
       "    }\n",
       "\n",
       "    .dataframe tbody tr th {\n",
       "        vertical-align: top;\n",
       "    }\n",
       "\n",
       "    .dataframe thead th {\n",
       "        text-align: right;\n",
       "    }\n",
       "</style>\n",
       "<table border=\"1\" class=\"dataframe\">\n",
       "  <thead>\n",
       "    <tr style=\"text-align: right;\">\n",
       "      <th></th>\n",
       "      <th>review</th>\n",
       "      <th>sentiment</th>\n",
       "    </tr>\n",
       "  </thead>\n",
       "  <tbody>\n",
       "    <tr>\n",
       "      <th>6</th>\n",
       "      <td>Honeslty it didn't taste THAT fresh.)</td>\n",
       "      <td>0</td>\n",
       "    </tr>\n",
       "    <tr>\n",
       "      <th>13</th>\n",
       "      <td>I tried the Cape Cod ravoli chickenwith cranbe...</td>\n",
       "      <td>1</td>\n",
       "    </tr>\n",
       "    <tr>\n",
       "      <th>20</th>\n",
       "      <td>The Burrittos Blah!</td>\n",
       "      <td>0</td>\n",
       "    </tr>\n",
       "    <tr>\n",
       "      <th>26</th>\n",
       "      <td>- They never brought a salad we asked for.</td>\n",
       "      <td>0</td>\n",
       "    </tr>\n",
       "    <tr>\n",
       "      <th>31</th>\n",
       "      <td>This was like the final blow!</td>\n",
       "      <td>0</td>\n",
       "    </tr>\n",
       "    <tr>\n",
       "      <th>...</th>\n",
       "      <td>...</td>\n",
       "      <td>...</td>\n",
       "    </tr>\n",
       "    <tr>\n",
       "      <th>953</th>\n",
       "      <td>If someone orders two tacos don't' you think i...</td>\n",
       "      <td>0</td>\n",
       "    </tr>\n",
       "    <tr>\n",
       "      <th>955</th>\n",
       "      <td>After all the rave reviews I couldn't wait to ...</td>\n",
       "      <td>0</td>\n",
       "    </tr>\n",
       "    <tr>\n",
       "      <th>961</th>\n",
       "      <td>I don't know what the big deal is about this p...</td>\n",
       "      <td>0</td>\n",
       "    </tr>\n",
       "    <tr>\n",
       "      <th>977</th>\n",
       "      <td>The problem I have is that they charge $11.99 ...</td>\n",
       "      <td>0</td>\n",
       "    </tr>\n",
       "    <tr>\n",
       "      <th>978</th>\n",
       "      <td>Shrimp- When I unwrapped it (I live only 1/2 a...</td>\n",
       "      <td>0</td>\n",
       "    </tr>\n",
       "  </tbody>\n",
       "</table>\n",
       "<p>257 rows × 2 columns</p>\n",
       "</div>"
      ],
      "text/plain": [
       "                                                review sentiment\n",
       "6                Honeslty it didn't taste THAT fresh.)         0\n",
       "13   I tried the Cape Cod ravoli chickenwith cranbe...         1\n",
       "20                                 The Burrittos Blah!         0\n",
       "26          - They never brought a salad we asked for.         0\n",
       "31                       This was like the final blow!         0\n",
       "..                                                 ...       ...\n",
       "953  If someone orders two tacos don't' you think i...         0\n",
       "955  After all the rave reviews I couldn't wait to ...         0\n",
       "961  I don't know what the big deal is about this p...         0\n",
       "977  The problem I have is that they charge $11.99 ...         0\n",
       "978  Shrimp- When I unwrapped it (I live only 1/2 a...         0\n",
       "\n",
       "[257 rows x 2 columns]"
      ]
     },
     "execution_count": 9,
     "metadata": {},
     "output_type": "execute_result"
    }
   ],
   "source": [
    "# return all rows containing non alphanumeric characters\n",
    "df[df.review.str.contains(\"[^a-zA-Z\\d\\s\\'\\.]\") == True]"
   ]
  },
  {
   "cell_type": "markdown",
   "id": "4a1cf58b-41d8-4db3-b138-f648da8433a5",
   "metadata": {
    "tags": []
   },
   "source": [
    "There are 257 rows containing unusual characters. Examples of these unusual characters can be seen in the above output."
   ]
  },
  {
   "cell_type": "code",
   "execution_count": 10,
   "id": "b8f5a8cd-90d8-4734-95db-ac52ea98e8be",
   "metadata": {
    "tags": []
   },
   "outputs": [
    {
     "data": {
      "image/png": "[encoded data removed]",
      "text/plain": [
       "<Figure size 640x480 with 1 Axes>"
      ]
     },
     "metadata": {},
     "output_type": "display_data"
    }
   ],
   "source": [
    "# import matplotlib for visualizations\n",
    "import matplotlib.pyplot as plt\n",
    "\n",
    "# plot histogram of review lengths\n",
    "df.review.str.len().hist()\n",
    "plt.xlim(1, 150)\n",
    "plt.title('Review Length')\n",
    "plt.show()"
   ]
  },
  {
   "cell_type": "code",
   "execution_count": 11,
   "id": "70d8e8c5-eae9-4403-b3da-230eee19232c",
   "metadata": {
    "tags": []
   },
   "outputs": [
    {
     "data": {
      "text/plain": [
       "count        992.0\n",
       "mean      58.44254\n",
       "std      38.668149\n",
       "min           11.0\n",
       "25%          32.75\n",
       "50%           50.5\n",
       "75%           79.0\n",
       "max          743.0\n",
       "Name: review, dtype: Float64"
      ]
     },
     "execution_count": 11,
     "metadata": {},
     "output_type": "execute_result"
    }
   ],
   "source": [
    "df.review.str.len().describe()"
   ]
  },
  {
   "cell_type": "markdown",
   "id": "d988a626-8451-4c2a-a4da-c1e5cceba84e",
   "metadata": {},
   "source": [
    "The mean number of words per review is approximately 36, while the median number of words per review is 32."
   ]
  },
  {
   "cell_type": "markdown",
   "id": "dcb2e753-6496-4ee9-8ef1-bfd51ee36a91",
   "metadata": {},
   "source": [
    "### Data Cleaning"
   ]
  },
  {
   "cell_type": "code",
   "execution_count": 12,
   "id": "201cba67-2a25-49fb-8932-b50f69acdcef",
   "metadata": {
    "tags": []
   },
   "outputs": [
    {
     "data": {
      "text/plain": [
       "0                               wow... loved this place.\n",
       "1                                     crust is not good.\n",
       "2              not tasty and the texture was just nasty.\n",
       "3      stopped by during the late may bank holiday of...\n",
       "4      the selection on the menu was great and so wer...\n",
       "                             ...                        \n",
       "987    i think food should have flavor and texture an...\n",
       "988                             appetite instantly gone.\n",
       "989    overall i was not impressed and would not go b...\n",
       "990    the whole experience was underwhelming and i t...\n",
       "991    then as if i hadn't wasted enough of my life t...\n",
       "Name: review, Length: 992, dtype: string"
      ]
     },
     "execution_count": 12,
     "metadata": {},
     "output_type": "execute_result"
    }
   ],
   "source": [
    "# convert 'review' column to lowercase\n",
    "df.review = df.review.str.lower()\n",
    "df.review"
   ]
  },
  {
   "cell_type": "code",
   "execution_count": 13,
   "id": "27428f43-cd88-45fb-b6a8-99070df5c9b9",
   "metadata": {
    "tags": []
   },
   "outputs": [],
   "source": [
    "# install nltk\n",
    "#!pip install nltk"
   ]
  },
  {
   "cell_type": "code",
   "execution_count": 14,
   "id": "bc9fd812-e85c-42b5-9366-6d37e0d64c32",
   "metadata": {
    "tags": []
   },
   "outputs": [
    {
     "data": {
      "text/plain": [
       "0                              [wow, loved, this, place]\n",
       "1                                 [crust, is, not, good]\n",
       "2      [not, tasty, and, the, texture, was, just, nasty]\n",
       "3      [stopped, by, during, the, late, may, bank, ho...\n",
       "4      [the, selection, on, the, menu, was, great, an...\n",
       "                             ...                        \n",
       "987    [i, think, food, should, have, flavor, and, te...\n",
       "988                          [appetite, instantly, gone]\n",
       "989    [overall, i, was, not, impressed, and, would, ...\n",
       "990    [the, whole, experience, was, underwhelming, a...\n",
       "991    [then, as, if, i, hadn, t, wasted, enough, of,...\n",
       "Name: review, Length: 992, dtype: object"
      ]
     },
     "execution_count": 14,
     "metadata": {},
     "output_type": "execute_result"
    }
   ],
   "source": [
    "# import nltk for text pre-processing\n",
    "# tokenize each row in 'review'\n",
    "from nltk.tokenize import RegexpTokenizer\n",
    "\n",
    "tokenizer = RegexpTokenizer('\\w+')\n",
    "df.review = df.review.apply(tokenizer.tokenize)\n",
    "df.review"
   ]
  },
  {
   "cell_type": "code",
   "execution_count": 15,
   "id": "8f76c49d-1a82-4467-8da9-dfe303e55f58",
   "metadata": {
    "tags": []
   },
   "outputs": [
    {
     "name": "stderr",
     "output_type": "stream",
     "text": [
      "[nltk_data] Downloading package stopwords to\n",
      "[nltk_data]     C:\\Users\\Shantel\\AppData\\Roaming\\nltk_data...\n",
      "[nltk_data]   Package stopwords is already up-to-date!\n"
     ]
    }
   ],
   "source": [
    "# download stopwords corpus\n",
    "# remove stopwords from each row in 'review'\n",
    "\n",
    "import nltk\n",
    "from nltk.corpus import stopwords\n",
    "\n",
    "nltk.download('stopwords')\n",
    "stop_words = set(stopwords.words('english'))\n",
    "stop_words = list(stop_words)\n",
    "\n",
    "# remove select words from stop_words array\n",
    "remove_words = ['isn', \"isn't\", \n",
    "                'not', 'nor', 'no', \n",
    "                'ain', 'aren', \"aren't\", \n",
    "                'couldn', \"couldn't\", \n",
    "                'didn', \"didn't\", 'doesn', \"doesn't\", \n",
    "                'haven', \"haven't\", 'hadn', \"hadn't\", 'hasn', \"hasn't\",\n",
    "                'mightn', \"mightn't\", 'mustn', \"mustn't\", \n",
    "                'shouldn', \"shouldn't\", 'shan', \"shan't\",\n",
    "                'wasn', \"wasn't\", 'weren', \"weren't\", 'won', \"won't\", 'wouldn', \"wouldn't\"]\n",
    "\n",
    "for word in stop_words:\n",
    "    if word in remove_words:\n",
    "        stop_words.remove(word)"
   ]
  },
  {
   "cell_type": "code",
   "execution_count": 16,
   "id": "27e533fc-bb85-4692-b091-0715a11ad1be",
   "metadata": {
    "tags": []
   },
   "outputs": [],
   "source": [
    "# function removes stopwords from each row in 'review'\n",
    "def remove_stops(review):\n",
    "    filtered_words = []\n",
    "    for word in review:\n",
    "        if word not in stop_words:\n",
    "            filtered_words.append(word)\n",
    "    return filtered_words"
   ]
  },
  {
   "cell_type": "code",
   "execution_count": 17,
   "id": "a000bb23-7316-4c14-a25b-ada95db2f96d",
   "metadata": {
    "tags": []
   },
   "outputs": [
    {
     "data": {
      "text/plain": [
       "0                                    [wow, loved, place]\n",
       "1                                     [crust, not, good]\n",
       "2                           [not, tasty, texture, nasty]\n",
       "3      [stopped, late, may, bank, holiday, rick, stev...\n",
       "4                       [selection, menu, great, prices]\n",
       "                             ...                        \n",
       "987              [think, food, flavor, texture, lacking]\n",
       "988                          [appetite, instantly, gone]\n",
       "989      [overall, not, impressed, would, not, go, back]\n",
       "990    [whole, experience, underwhelming, think, go, ...\n",
       "991    [wasted, enough, life, poured, salt, wound, dr...\n",
       "Name: review, Length: 992, dtype: object"
      ]
     },
     "execution_count": 17,
     "metadata": {},
     "output_type": "execute_result"
    }
   ],
   "source": [
    "# remove stop_words\n",
    "df.review = df.review.apply(remove_stops)\n",
    "df.review"
   ]
  },
  {
   "cell_type": "code",
   "execution_count": 18,
   "id": "f93f1ec0-16ac-4f66-b4aa-6f3acb8d46f0",
   "metadata": {
    "tags": []
   },
   "outputs": [
    {
     "name": "stderr",
     "output_type": "stream",
     "text": [
      "[nltk_data] Downloading package wordnet to\n",
      "[nltk_data]     C:\\Users\\Shantel\\AppData\\Roaming\\nltk_data...\n",
      "[nltk_data]   Package wordnet is already up-to-date!\n"
     ]
    }
   ],
   "source": [
    "# lemmatize words using nltk\n",
    "from nltk.stem import WordNetLemmatizer\n",
    "nltk.download('wordnet')\n",
    " \n",
    "wnl = WordNetLemmatizer()"
   ]
  },
  {
   "cell_type": "code",
   "execution_count": 19,
   "id": "44a7860f-4efe-4b5d-899c-9107396f8488",
   "metadata": {
    "tags": []
   },
   "outputs": [],
   "source": [
    "def get_lemms(review):\n",
    "    lemms = []\n",
    "    for word in review:\n",
    "        lemms.append(wnl.lemmatize(word))\n",
    "    return lemms"
   ]
  },
  {
   "cell_type": "code",
   "execution_count": 20,
   "id": "972c5863-a96a-45e0-a8dc-58b3acd1da5f",
   "metadata": {
    "tags": []
   },
   "outputs": [
    {
     "data": {
      "text/plain": [
       "0                                    [wow, loved, place]\n",
       "1                                     [crust, not, good]\n",
       "2                           [not, tasty, texture, nasty]\n",
       "3      [stopped, late, may, bank, holiday, rick, stev...\n",
       "4                        [selection, menu, great, price]\n",
       "                             ...                        \n",
       "987              [think, food, flavor, texture, lacking]\n",
       "988                          [appetite, instantly, gone]\n",
       "989      [overall, not, impressed, would, not, go, back]\n",
       "990    [whole, experience, underwhelming, think, go, ...\n",
       "991    [wasted, enough, life, poured, salt, wound, dr...\n",
       "Name: review, Length: 992, dtype: object"
      ]
     },
     "execution_count": 20,
     "metadata": {},
     "output_type": "execute_result"
    }
   ],
   "source": [
    "# lemmatize words\n",
    "df.review = df.review.apply(get_lemms)\n",
    "df.review"
   ]
  },
  {
   "cell_type": "code",
   "execution_count": 21,
   "id": "9bffb1f7-675b-4969-8e85-54969e2d1804",
   "metadata": {
    "tags": []
   },
   "outputs": [
    {
     "data": {
      "text/plain": [
       "0                                        wow loved place\n",
       "1                                         crust not good\n",
       "2                                not tasty texture nasty\n",
       "3      stopped late may bank holiday rick steve recom...\n",
       "4                             selection menu great price\n",
       "                             ...                        \n",
       "987                    think food flavor texture lacking\n",
       "988                              appetite instantly gone\n",
       "989              overall not impressed would not go back\n",
       "990    whole experience underwhelming think go ninja ...\n",
       "991    wasted enough life poured salt wound drawing t...\n",
       "Name: review, Length: 992, dtype: object"
      ]
     },
     "execution_count": 21,
     "metadata": {},
     "output_type": "execute_result"
    }
   ],
   "source": [
    "# join string elements in 'review' column\n",
    "# required for vectorization\n",
    "df.review = df.review.str.join(' ')\n",
    "df.review"
   ]
  },
  {
   "cell_type": "markdown",
   "id": "977a4b44-3871-4acd-90d9-40da3b67ecb6",
   "metadata": {},
   "source": [
    "### Train/Test Split"
   ]
  },
  {
   "cell_type": "code",
   "execution_count": 22,
   "id": "e528bc08-9c58-490b-bcc6-ab266edd0326",
   "metadata": {
    "tags": []
   },
   "outputs": [],
   "source": [
    "# split data into train and test sets\n",
    "from sklearn.model_selection import train_test_split\n",
    "\n",
    "X_train, X_test, y_train, y_test = train_test_split(df.review, df.sentiment, test_size=0.3, random_state=42)"
   ]
  },
  {
   "cell_type": "markdown",
   "id": "1aa4c1f6-ef6a-42e7-b025-08a5840b21bb",
   "metadata": {
    "tags": []
   },
   "source": [
    "Train/test output"
   ]
  },
  {
   "cell_type": "code",
   "execution_count": 23,
   "id": "e988e952-56aa-43ce-92ac-949fa8986581",
   "metadata": {
    "tags": []
   },
   "outputs": [],
   "source": [
    "# save train/test splits as CSV files\n",
    "X_train.to_csv('output/x_train.csv', index=0)\n",
    "X_test.to_csv('output/x_test.csv', index=0)\n",
    "y_train.to_csv('output/y_train.csv', index=0)\n",
    "y_test.to_csv('output/y_test.csv', index=0)"
   ]
  },
  {
   "cell_type": "markdown",
   "id": "6dfa59ac-b15c-4b6e-bbb7-7487fbdacbdc",
   "metadata": {},
   "source": [
    "### Word Embeddings"
   ]
  },
  {
   "cell_type": "code",
   "execution_count": 24,
   "id": "0099b4a4-de9e-44bc-be98-94779037e13a",
   "metadata": {
    "tags": []
   },
   "outputs": [],
   "source": [
    "# install tensorflow and keras\n",
    "#!pip install tensorflow"
   ]
  },
  {
   "cell_type": "code",
   "execution_count": 25,
   "id": "60e3f900-c5ff-4848-a5fe-808dc9c50ac4",
   "metadata": {
    "tags": []
   },
   "outputs": [],
   "source": [
    "# import tensorflow for\n",
    "import tensorflow as tf\n",
    "from tensorflow.keras import Sequential\n",
    "from tensorflow.keras.layers import Dense, Embedding, GlobalAveragePooling1D\n",
    "from tensorflow.keras.layers import TextVectorization"
   ]
  },
  {
   "cell_type": "code",
   "execution_count": 26,
   "id": "5f329f56-c609-4ae3-94a9-5ca7a12f24bc",
   "metadata": {
    "tags": []
   },
   "outputs": [],
   "source": [
    "# use the text vectorization layer to normalize and map strings to integers\n",
    "vectorize_layer = TextVectorization(\n",
    "    standardize=None,\n",
    "    output_mode='int',\n",
    "    output_sequence_length=32)"
   ]
  },
  {
   "cell_type": "markdown",
   "id": "69e29a1b-4a5c-49d8-90a5-cbff25960df5",
   "metadata": {},
   "source": [
    "Recall in 'Data Exploration' that the median number of words per review was 32. For this reason, the output_sequence_length will be set to 32."
   ]
  },
  {
   "cell_type": "code",
   "execution_count": 27,
   "id": "62d7686b-0082-4914-9d5f-5e8190868a2e",
   "metadata": {},
   "outputs": [],
   "source": [
    "# adapt train dataset to build the vocabulary.\n",
    "vectorize_layer.adapt(X_train)"
   ]
  },
  {
   "cell_type": "markdown",
   "id": "14fbb593-bf20-40e2-81c9-7d86e3dd5b1c",
   "metadata": {},
   "source": [
    "We will vectorize the first row of the train dataset (X_train) and view the output."
   ]
  },
  {
   "cell_type": "code",
   "execution_count": 28,
   "id": "888625d5-9e43-40d3-baf6-ca1e21d7d7a9",
   "metadata": {
    "tags": []
   },
   "outputs": [
    {
     "data": {
      "text/plain": [
       "array([ 99, 198,   3,  11,  88,  69, 462,  59,   0,   0,   0,   0,   0,\n",
       "         0,   0,   0,   0,   0,   0,   0,   0,   0,   0,   0,   0,   0,\n",
       "         0,   0,   0,   0,   0,   0], dtype=int64)"
      ]
     },
     "execution_count": 28,
     "metadata": {},
     "output_type": "execute_result"
    }
   ],
   "source": [
    "vectorize_layer(X_train.iloc[0]).numpy()"
   ]
  },
  {
   "cell_type": "markdown",
   "id": "aef6953b-2ee2-4046-a0ab-d0bd638a1ffd",
   "metadata": {},
   "source": [
    "In this example, we can see that padding occurs after the text sequence."
   ]
  },
  {
   "cell_type": "markdown",
   "id": "018fdc36-2682-4e83-90e4-707c627a93cb",
   "metadata": {},
   "source": [
    "Next, we will calculate Vocab Size, which will be used to set the max_features parameter of the embedding layer."
   ]
  },
  {
   "cell_type": "code",
   "execution_count": 29,
   "id": "2cefbe20-fd2c-4c6b-9bbc-f04c0977cb4e",
   "metadata": {
    "tags": []
   },
   "outputs": [
    {
     "name": "stdout",
     "output_type": "stream",
     "text": [
      "Vocab size: 1475\n"
     ]
    }
   ],
   "source": [
    "max_features = len(vectorize_layer.get_vocabulary())\n",
    "print('Vocab size: ' + str(max_features))"
   ]
  },
  {
   "cell_type": "markdown",
   "id": "a8b06d41-3277-4217-9e84-98b82678f13a",
   "metadata": {},
   "source": [
    "### Model"
   ]
  },
  {
   "cell_type": "code",
   "execution_count": 30,
   "id": "f6cafa2f-2fe1-4128-ab54-a47036b204da",
   "metadata": {
    "tags": []
   },
   "outputs": [],
   "source": [
    "# import layers and losses from tensorflow to create model\n",
    "from tensorflow.keras import layers\n",
    "from tensorflow.keras import losses"
   ]
  },
  {
   "cell_type": "code",
   "execution_count": 31,
   "id": "42e72faa-656c-436a-be5f-45db673afae0",
   "metadata": {
    "tags": []
   },
   "outputs": [
    {
     "name": "stdout",
     "output_type": "stream",
     "text": [
      "Model: \"sequential\"\n",
      "_________________________________________________________________\n",
      " Layer (type)                Output Shape              Param #   \n",
      "=================================================================\n",
      " embedding (Embedding)       (None, None, 10)          14760     \n",
      "                                                                 \n",
      " lstm (LSTM)                 (None, 10)                840       \n",
      "                                                                 \n",
      " dense (Dense)               (None, 10)                110       \n",
      "                                                                 \n",
      " dropout (Dropout)           (None, 10)                0         \n",
      "                                                                 \n",
      " dense_1 (Dense)             (None, 1)                 11        \n",
      "                                                                 \n",
      "=================================================================\n",
      "Total params: 15721 (61.41 KB)\n",
      "Trainable params: 15721 (61.41 KB)\n",
      "Non-trainable params: 0 (0.00 Byte)\n",
      "_________________________________________________________________\n"
     ]
    }
   ],
   "source": [
    "model = tf.keras.Sequential([\n",
    "    layers.Embedding(max_features + 1, 10),\n",
    "    layers.LSTM(10,dropout=0.5),\n",
    "    layers.Dense(10, activation='relu'), \n",
    "    layers.Dropout(0.5),\n",
    "    layers.Dense(1)])\n",
    "\n",
    "model.summary()"
   ]
  },
  {
   "cell_type": "markdown",
   "id": "2ef17bb6-063f-4747-8722-4ee4bba19b7b",
   "metadata": {},
   "source": [
    "#### Activation function\n",
    "    Rectified Linear Unit (ReLU)\n",
    "\n",
    "#### Layers\n",
    "    Number of layers: 5\n",
    "    Type of layers: Embedding,LSTM, dense, dropout\n",
    "    Number of nodes per layer: 10\n",
    "    Total number of parameters: 14K"
   ]
  },
  {
   "cell_type": "markdown",
   "id": "d17934ad-6624-4d24-b10b-9cceaca9136f",
   "metadata": {},
   "source": [
    "### Loss Function and Optimizer"
   ]
  },
  {
   "cell_type": "code",
   "execution_count": 32,
   "id": "4267ec6c-2ceb-46fa-b1a8-17a231640d88",
   "metadata": {
    "tags": []
   },
   "outputs": [],
   "source": [
    "model.compile(loss=losses.BinaryCrossentropy(from_logits=True),\n",
    "              optimizer='adam',\n",
    "              metrics=tf.metrics.BinaryAccuracy(threshold=0.0))"
   ]
  },
  {
   "cell_type": "code",
   "execution_count": 33,
   "id": "8707aff9-7ce2-4f9c-9fdd-9ffc444e0b32",
   "metadata": {},
   "outputs": [],
   "source": [
    "callback = tf.keras.callbacks.EarlyStopping(monitor='val_binary_accuracy', patience=5)"
   ]
  },
  {
   "cell_type": "markdown",
   "id": "3c65b96d-17dc-49a5-b2d4-5bc8f7930db2",
   "metadata": {},
   "source": [
    "#### Loss function\n",
    "    Binary Crossentropy\n",
    "\n",
    "#### Optimizer\n",
    "    Adam\n",
    "\n",
    "#### Stopping criteria\n",
    "    Validation accuracy (max), with a patience of 5.\n",
    "\n",
    "#### Evaluation metric\n",
    "    Binary Accuracy"
   ]
  },
  {
   "cell_type": "markdown",
   "id": "34591378-808a-4847-9178-edc1dbcda88d",
   "metadata": {},
   "source": [
    "### Training"
   ]
  },
  {
   "cell_type": "code",
   "execution_count": 34,
   "id": "c7ed7e19-1f82-4bbf-9341-4b9687e63e3e",
   "metadata": {
    "tags": []
   },
   "outputs": [
    {
     "name": "stdout",
     "output_type": "stream",
     "text": [
      "Epoch 1/20\n"
     ]
    },
    {
     "name": "stderr",
     "output_type": "stream",
     "text": [
      "C:\\Users\\Shantel\\.conda\\envs\\myenv\\lib\\site-packages\\keras\\src\\engine\\data_adapter.py:1798: FutureWarning: The behavior of `series[i:j]` with an integer-dtype index is deprecated. In a future version, this will be treated as *label-based* indexing, consistent with e.g. `series[i]` lookups. To retain the old behavior, use `series.iloc[i:j]`. To get the future behavior, use `series.loc[i:j]`.\n",
      "  return t[start:end]\n"
     ]
    },
    {
     "name": "stdout",
     "output_type": "stream",
     "text": [
      "16/16 [==============================] - 3s 45ms/step - loss: 0.6936 - binary_accuracy: 0.5134 - val_loss: 0.6931 - val_binary_accuracy: 0.5072\n",
      "Epoch 2/20\n",
      "16/16 [==============================] - 0s 11ms/step - loss: 0.6937 - binary_accuracy: 0.5093 - val_loss: 0.6931 - val_binary_accuracy: 0.5072\n"
     ]
    }
   ],
   "source": [
    "history = model.fit(\n",
    "    x=vectorize_layer(X_train),\n",
    "    y=y_train.astype('int32'),\n",
    "    validation_split=0.3,\n",
    "    epochs=20, \n",
    "    callbacks=[callback])"
   ]
  },
  {
   "cell_type": "code",
   "execution_count": null,
   "id": "492fa24e-520a-4e3a-b40b-0f0908a57909",
   "metadata": {},
   "outputs": [],
   "source": []
  }
 ],
 "metadata": {
  "kernelspec": {
   "display_name": "myenv",
   "language": "python",
   "name": "myenv"
  },
  "language_info": {
   "codemirror_mode": {
    "name": "ipython",
    "version": 3
   },
   "file_extension": ".py",
   "mimetype": "text/x-python",
   "name": "python",
   "nbconvert_exporter": "python",
   "pygments_lexer": "ipython3",
   "version": "3.9.15"
  }
 },
 "nbformat": 4,
 "nbformat_minor": 5
}
