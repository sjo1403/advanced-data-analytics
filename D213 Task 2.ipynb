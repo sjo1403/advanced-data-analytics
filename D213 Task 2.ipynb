{
 "cells": [
  {
   "cell_type": "code",
   "execution_count": 1,
   "id": "d8a58739-cd7c-4bea-803a-bd46a3ec21b0",
   "metadata": {
    "tags": []
   },
   "outputs": [
    {
     "data": {
      "text/html": [
       "<div>\n",
       "<style scoped>\n",
       "    .dataframe tbody tr th:only-of-type {\n",
       "        vertical-align: middle;\n",
       "    }\n",
       "\n",
       "    .dataframe tbody tr th {\n",
       "        vertical-align: top;\n",
       "    }\n",
       "\n",
       "    .dataframe thead th {\n",
       "        text-align: right;\n",
       "    }\n",
       "</style>\n",
       "<table border=\"1\" class=\"dataframe\">\n",
       "  <thead>\n",
       "    <tr style=\"text-align: right;\">\n",
       "      <th></th>\n",
       "      <th>0</th>\n",
       "      <th>1</th>\n",
       "      <th>2</th>\n",
       "      <th>3</th>\n",
       "      <th>4</th>\n",
       "      <th>5</th>\n",
       "    </tr>\n",
       "  </thead>\n",
       "  <tbody>\n",
       "    <tr>\n",
       "      <th>0</th>\n",
       "      <td>Wow... Loved this place.</td>\n",
       "      <td>1</td>\n",
       "      <td>NaN</td>\n",
       "      <td>NaN</td>\n",
       "      <td>NaN</td>\n",
       "      <td>NaN</td>\n",
       "    </tr>\n",
       "    <tr>\n",
       "      <th>1</th>\n",
       "      <td>Crust is not good.</td>\n",
       "      <td>0</td>\n",
       "      <td>NaN</td>\n",
       "      <td>NaN</td>\n",
       "      <td>NaN</td>\n",
       "      <td>NaN</td>\n",
       "    </tr>\n",
       "    <tr>\n",
       "      <th>2</th>\n",
       "      <td>Not tasty and the texture was just nasty.</td>\n",
       "      <td>0</td>\n",
       "      <td>NaN</td>\n",
       "      <td>NaN</td>\n",
       "      <td>NaN</td>\n",
       "      <td>NaN</td>\n",
       "    </tr>\n",
       "    <tr>\n",
       "      <th>3</th>\n",
       "      <td>Stopped by during the late May bank holiday of...</td>\n",
       "      <td>1</td>\n",
       "      <td>NaN</td>\n",
       "      <td>NaN</td>\n",
       "      <td>NaN</td>\n",
       "      <td>NaN</td>\n",
       "    </tr>\n",
       "    <tr>\n",
       "      <th>4</th>\n",
       "      <td>The selection on the menu was great and so wer...</td>\n",
       "      <td>1</td>\n",
       "      <td>NaN</td>\n",
       "      <td>NaN</td>\n",
       "      <td>NaN</td>\n",
       "      <td>NaN</td>\n",
       "    </tr>\n",
       "  </tbody>\n",
       "</table>\n",
       "</div>"
      ],
      "text/plain": [
       "                                                   0  1    2    3    4   5\n",
       "0                           Wow... Loved this place.  1  NaN  NaN  NaN NaN\n",
       "1                                 Crust is not good.  0  NaN  NaN  NaN NaN\n",
       "2          Not tasty and the texture was just nasty.  0  NaN  NaN  NaN NaN\n",
       "3  Stopped by during the late May bank holiday of...  1  NaN  NaN  NaN NaN\n",
       "4  The selection on the menu was great and so wer...  1  NaN  NaN  NaN NaN"
      ]
     },
     "execution_count": 1,
     "metadata": {},
     "output_type": "execute_result"
    }
   ],
   "source": [
    "# read data into pandas DataFrame\n",
    "import pandas as pd\n",
    "\n",
    "df = pd.read_csv('source/yelp_labelled.csv', header=None)\n",
    "df.head(5)"
   ]
  },
  {
   "cell_type": "code",
   "execution_count": 2,
   "id": "31a86cca-14fd-4f25-a250-2718f257c46b",
   "metadata": {
    "tags": []
   },
   "outputs": [
    {
     "data": {
      "text/plain": [
       "(992, 6)"
      ]
     },
     "execution_count": 2,
     "metadata": {},
     "output_type": "execute_result"
    }
   ],
   "source": [
    "df.shape"
   ]
  },
  {
   "cell_type": "markdown",
   "id": "f3972987-de41-4bbd-971b-7800ea01a475",
   "metadata": {},
   "source": [
    "## Data Preparation"
   ]
  },
  {
   "cell_type": "code",
   "execution_count": 3,
   "id": "cfa95a5f-014b-4d9e-97bc-0c3ddf88c1e6",
   "metadata": {
    "tags": []
   },
   "outputs": [
    {
     "data": {
      "text/html": [
       "<div>\n",
       "<style scoped>\n",
       "    .dataframe tbody tr th:only-of-type {\n",
       "        vertical-align: middle;\n",
       "    }\n",
       "\n",
       "    .dataframe tbody tr th {\n",
       "        vertical-align: top;\n",
       "    }\n",
       "\n",
       "    .dataframe thead th {\n",
       "        text-align: right;\n",
       "    }\n",
       "</style>\n",
       "<table border=\"1\" class=\"dataframe\">\n",
       "  <thead>\n",
       "    <tr style=\"text-align: right;\">\n",
       "      <th></th>\n",
       "      <th>0</th>\n",
       "      <th>1</th>\n",
       "      <th>2</th>\n",
       "      <th>3</th>\n",
       "      <th>4</th>\n",
       "      <th>5</th>\n",
       "    </tr>\n",
       "  </thead>\n",
       "  <tbody>\n",
       "    <tr>\n",
       "      <th>0</th>\n",
       "      <td>Wow... Loved this place.</td>\n",
       "      <td>1</td>\n",
       "      <td></td>\n",
       "      <td></td>\n",
       "      <td></td>\n",
       "      <td></td>\n",
       "    </tr>\n",
       "    <tr>\n",
       "      <th>1</th>\n",
       "      <td>Crust is not good.</td>\n",
       "      <td>0</td>\n",
       "      <td></td>\n",
       "      <td></td>\n",
       "      <td></td>\n",
       "      <td></td>\n",
       "    </tr>\n",
       "    <tr>\n",
       "      <th>2</th>\n",
       "      <td>Not tasty and the texture was just nasty.</td>\n",
       "      <td>0</td>\n",
       "      <td></td>\n",
       "      <td></td>\n",
       "      <td></td>\n",
       "      <td></td>\n",
       "    </tr>\n",
       "    <tr>\n",
       "      <th>3</th>\n",
       "      <td>Stopped by during the late May bank holiday of...</td>\n",
       "      <td>1</td>\n",
       "      <td></td>\n",
       "      <td></td>\n",
       "      <td></td>\n",
       "      <td></td>\n",
       "    </tr>\n",
       "    <tr>\n",
       "      <th>4</th>\n",
       "      <td>The selection on the menu was great and so wer...</td>\n",
       "      <td>1</td>\n",
       "      <td></td>\n",
       "      <td></td>\n",
       "      <td></td>\n",
       "      <td></td>\n",
       "    </tr>\n",
       "  </tbody>\n",
       "</table>\n",
       "</div>"
      ],
      "text/plain": [
       "                                                   0  1 2 3 4 5\n",
       "0                           Wow... Loved this place.  1        \n",
       "1                                 Crust is not good.  0        \n",
       "2          Not tasty and the texture was just nasty.  0        \n",
       "3  Stopped by during the late May bank holiday of...  1        \n",
       "4  The selection on the menu was great and so wer...  1        "
      ]
     },
     "execution_count": 3,
     "metadata": {},
     "output_type": "execute_result"
    }
   ],
   "source": [
    "# fill NA values\n",
    "df.fillna(value='', inplace=True)\n",
    "df.head(5)"
   ]
  },
  {
   "cell_type": "code",
   "execution_count": 4,
   "id": "10651a71-ff0f-4f92-b751-1cbb27c377db",
   "metadata": {
    "tags": []
   },
   "outputs": [
    {
     "data": {
      "text/plain": [
       "0                              Wow... Loved this place.1\n",
       "1                                    Crust is not good.0\n",
       "2             Not tasty and the texture was just nasty.0\n",
       "3      Stopped by during the late May bank holiday of...\n",
       "4      The selection on the menu was great and so wer...\n",
       "                             ...                        \n",
       "987    I think food should have flavor and texture an...\n",
       "988                            Appetite instantly gone.0\n",
       "989    Overall I was not impressed and would not go b...\n",
       "990    The whole experience was underwhelming and I t...\n",
       "991    Then as if I hadn't wasted enough of my life t...\n",
       "Name: review, Length: 992, dtype: string"
      ]
     },
     "execution_count": 4,
     "metadata": {},
     "output_type": "execute_result"
    }
   ],
   "source": [
    "# combine all columns to create 'review' column\n",
    "df = df.astype('string')\n",
    "df['review'] = df[0] + df[1] + df[2] + df[3] + df[4] + df[5]\n",
    "df.review"
   ]
  },
  {
   "cell_type": "code",
   "execution_count": 5,
   "id": "a1ba4004-3069-4614-8aee-84183037f117",
   "metadata": {
    "tags": []
   },
   "outputs": [
    {
     "data": {
      "text/plain": [
       "0      1\n",
       "1      0\n",
       "2      0\n",
       "3      1\n",
       "4      1\n",
       "      ..\n",
       "987    0\n",
       "988    0\n",
       "989    0\n",
       "990    0\n",
       "991    0\n",
       "Name: sentiment, Length: 992, dtype: string"
      ]
     },
     "execution_count": 5,
     "metadata": {},
     "output_type": "execute_result"
    }
   ],
   "source": [
    "# create 'sentiment' column using slice of 'review' column\n",
    "df['sentiment'] = df.review.str.slice(start=-1)\n",
    "df.sentiment"
   ]
  },
  {
   "cell_type": "code",
   "execution_count": 6,
   "id": "6227d63f-2a84-4464-9ba6-c80df689773d",
   "metadata": {
    "tags": []
   },
   "outputs": [
    {
     "data": {
      "text/plain": [
       "0                               Wow... Loved this place.\n",
       "1                                     Crust is not good.\n",
       "2              Not tasty and the texture was just nasty.\n",
       "3      Stopped by during the late May bank holiday of...\n",
       "4      The selection on the menu was great and so wer...\n",
       "                             ...                        \n",
       "987    I think food should have flavor and texture an...\n",
       "988                             Appetite instantly gone.\n",
       "989    Overall I was not impressed and would not go b...\n",
       "990    The whole experience was underwhelming and I t...\n",
       "991    Then as if I hadn't wasted enough of my life t...\n",
       "Name: review, Length: 992, dtype: string"
      ]
     },
     "execution_count": 6,
     "metadata": {},
     "output_type": "execute_result"
    }
   ],
   "source": [
    "# remove score from 'review' column using slice of 'review' column\n",
    "df.review = df.review.str.slice(stop=-1)\n",
    "df.review"
   ]
  },
  {
   "cell_type": "code",
   "execution_count": 7,
   "id": "60b42484-3dcb-494b-ad06-99ab95d4a30b",
   "metadata": {
    "tags": []
   },
   "outputs": [
    {
     "data": {
      "text/html": [
       "<div>\n",
       "<style scoped>\n",
       "    .dataframe tbody tr th:only-of-type {\n",
       "        vertical-align: middle;\n",
       "    }\n",
       "\n",
       "    .dataframe tbody tr th {\n",
       "        vertical-align: top;\n",
       "    }\n",
       "\n",
       "    .dataframe thead th {\n",
       "        text-align: right;\n",
       "    }\n",
       "</style>\n",
       "<table border=\"1\" class=\"dataframe\">\n",
       "  <thead>\n",
       "    <tr style=\"text-align: right;\">\n",
       "      <th></th>\n",
       "      <th>review</th>\n",
       "      <th>sentiment</th>\n",
       "    </tr>\n",
       "  </thead>\n",
       "  <tbody>\n",
       "    <tr>\n",
       "      <th>0</th>\n",
       "      <td>Wow... Loved this place.</td>\n",
       "      <td>1</td>\n",
       "    </tr>\n",
       "    <tr>\n",
       "      <th>1</th>\n",
       "      <td>Crust is not good.</td>\n",
       "      <td>0</td>\n",
       "    </tr>\n",
       "    <tr>\n",
       "      <th>2</th>\n",
       "      <td>Not tasty and the texture was just nasty.</td>\n",
       "      <td>0</td>\n",
       "    </tr>\n",
       "    <tr>\n",
       "      <th>3</th>\n",
       "      <td>Stopped by during the late May bank holiday of...</td>\n",
       "      <td>1</td>\n",
       "    </tr>\n",
       "    <tr>\n",
       "      <th>4</th>\n",
       "      <td>The selection on the menu was great and so wer...</td>\n",
       "      <td>1</td>\n",
       "    </tr>\n",
       "  </tbody>\n",
       "</table>\n",
       "</div>"
      ],
      "text/plain": [
       "                                              review sentiment\n",
       "0                           Wow... Loved this place.         1\n",
       "1                                 Crust is not good.         0\n",
       "2          Not tasty and the texture was just nasty.         0\n",
       "3  Stopped by during the late May bank holiday of...         1\n",
       "4  The selection on the menu was great and so wer...         1"
      ]
     },
     "execution_count": 7,
     "metadata": {},
     "output_type": "execute_result"
    }
   ],
   "source": [
    "# update DataFrame to contain 'review' and 'sentiment' only\n",
    "df = df[['review', 'sentiment']]\n",
    "df.head(5)"
   ]
  },
  {
   "cell_type": "markdown",
   "id": "dcb2e753-6496-4ee9-8ef1-bfd51ee36a91",
   "metadata": {},
   "source": [
    "### Data Cleaning"
   ]
  },
  {
   "cell_type": "code",
   "execution_count": 8,
   "id": "201cba67-2a25-49fb-8932-b50f69acdcef",
   "metadata": {
    "tags": []
   },
   "outputs": [
    {
     "data": {
      "text/plain": [
       "0                               wow... loved this place.\n",
       "1                                     crust is not good.\n",
       "2              not tasty and the texture was just nasty.\n",
       "3      stopped by during the late may bank holiday of...\n",
       "4      the selection on the menu was great and so wer...\n",
       "                             ...                        \n",
       "987    i think food should have flavor and texture an...\n",
       "988                             appetite instantly gone.\n",
       "989    overall i was not impressed and would not go b...\n",
       "990    the whole experience was underwhelming and i t...\n",
       "991    then as if i hadn't wasted enough of my life t...\n",
       "Name: review, Length: 992, dtype: string"
      ]
     },
     "execution_count": 8,
     "metadata": {},
     "output_type": "execute_result"
    }
   ],
   "source": [
    "# convert 'review' column to lowercase\n",
    "df.review = df.review.str.lower()\n",
    "df.review"
   ]
  },
  {
   "cell_type": "code",
   "execution_count": 9,
   "id": "27428f43-cd88-45fb-b6a8-99070df5c9b9",
   "metadata": {
    "tags": []
   },
   "outputs": [],
   "source": [
    "# install nltk\n",
    "#!pip install nltk"
   ]
  },
  {
   "cell_type": "code",
   "execution_count": 10,
   "id": "bc9fd812-e85c-42b5-9366-6d37e0d64c32",
   "metadata": {
    "tags": []
   },
   "outputs": [
    {
     "data": {
      "text/plain": [
       "0                              [wow, loved, this, place]\n",
       "1                                 [crust, is, not, good]\n",
       "2      [not, tasty, and, the, texture, was, just, nasty]\n",
       "3      [stopped, by, during, the, late, may, bank, ho...\n",
       "4      [the, selection, on, the, menu, was, great, an...\n",
       "                             ...                        \n",
       "987    [i, think, food, should, have, flavor, and, te...\n",
       "988                          [appetite, instantly, gone]\n",
       "989    [overall, i, was, not, impressed, and, would, ...\n",
       "990    [the, whole, experience, was, underwhelming, a...\n",
       "991    [then, as, if, i, hadn, t, wasted, enough, of,...\n",
       "Name: review, Length: 992, dtype: object"
      ]
     },
     "execution_count": 10,
     "metadata": {},
     "output_type": "execute_result"
    }
   ],
   "source": [
    "# import nltk for text pre-processing\n",
    "# tokenize each row in 'review'\n",
    "from nltk.tokenize import RegexpTokenizer\n",
    "\n",
    "tokenizer = RegexpTokenizer('\\w+')\n",
    "df.review = df.review.apply(tokenizer.tokenize)\n",
    "df.review"
   ]
  },
  {
   "cell_type": "code",
   "execution_count": 11,
   "id": "8f76c49d-1a82-4467-8da9-dfe303e55f58",
   "metadata": {
    "tags": []
   },
   "outputs": [
    {
     "name": "stderr",
     "output_type": "stream",
     "text": [
      "[nltk_data] Downloading package stopwords to\n",
      "[nltk_data]     C:\\Users\\Shantel\\AppData\\Roaming\\nltk_data...\n",
      "[nltk_data]   Package stopwords is already up-to-date!\n"
     ]
    }
   ],
   "source": [
    "# download stopwords corpus\n",
    "# remove stopwords from each row in 'review'\n",
    "\n",
    "import nltk\n",
    "from nltk.corpus import stopwords\n",
    "\n",
    "nltk.download('stopwords')\n",
    "stop_words = set(stopwords.words('english'))\n",
    "stop_words = list(stop_words)\n",
    "\n",
    "# remove select words from stop_words array\n",
    "remove_words = ['isn', \"isn't\", \n",
    "                'not', 'nor', 'no', \n",
    "                'ain', 'aren', \"aren't\", \n",
    "                'couldn', \"couldn't\", \n",
    "                'didn', \"didn't\", 'doesn', \"doesn't\", \n",
    "                'haven', \"haven't\", 'hadn', \"hadn't\", 'hasn', \"hasn't\",\n",
    "                'mightn', \"mightn't\", 'mustn', \"mustn't\", \n",
    "                'shouldn', \"shouldn't\", 'shan', \"shan't\",\n",
    "                'wasn', \"wasn't\", 'weren', \"weren't\", 'won', \"won't\", 'wouldn', \"wouldn't\"]\n",
    "\n",
    "for word in stop_words:\n",
    "    if word in remove_words:\n",
    "        stop_words.remove(word)"
   ]
  },
  {
   "cell_type": "code",
   "execution_count": 12,
   "id": "27e533fc-bb85-4692-b091-0715a11ad1be",
   "metadata": {
    "tags": []
   },
   "outputs": [],
   "source": [
    "# function removes stopwords from each row in 'review'\n",
    "def remove_stops(review):\n",
    "    filtered_words = []\n",
    "    for word in review:\n",
    "        if word not in stop_words:\n",
    "            filtered_words.append(word)\n",
    "    return filtered_words"
   ]
  },
  {
   "cell_type": "code",
   "execution_count": 13,
   "id": "a000bb23-7316-4c14-a25b-ada95db2f96d",
   "metadata": {
    "tags": []
   },
   "outputs": [
    {
     "data": {
      "text/plain": [
       "0                                    [wow, loved, place]\n",
       "1                                          [crust, good]\n",
       "2                                [tasty, texture, nasty]\n",
       "3      [stopped, late, may, bank, holiday, rick, stev...\n",
       "4                       [selection, menu, great, prices]\n",
       "                             ...                        \n",
       "987              [think, food, flavor, texture, lacking]\n",
       "988                          [appetite, instantly, gone]\n",
       "989                [overall, impressed, would, go, back]\n",
       "990    [whole, experience, underwhelming, think, go, ...\n",
       "991    [wasted, enough, life, poured, salt, wound, dr...\n",
       "Name: review, Length: 992, dtype: object"
      ]
     },
     "execution_count": 13,
     "metadata": {},
     "output_type": "execute_result"
    }
   ],
   "source": [
    "# remove stop_words\n",
    "df.review = df.review.apply(remove_stops)\n",
    "df.review"
   ]
  },
  {
   "cell_type": "code",
   "execution_count": 14,
   "id": "9bffb1f7-675b-4969-8e85-54969e2d1804",
   "metadata": {
    "tags": []
   },
   "outputs": [
    {
     "data": {
      "text/plain": [
       "0                                        wow loved place\n",
       "1                                             crust good\n",
       "2                                    tasty texture nasty\n",
       "3      stopped late may bank holiday rick steve recom...\n",
       "4                            selection menu great prices\n",
       "                             ...                        \n",
       "987                    think food flavor texture lacking\n",
       "988                              appetite instantly gone\n",
       "989                      overall impressed would go back\n",
       "990    whole experience underwhelming think go ninja ...\n",
       "991    wasted enough life poured salt wound drawing t...\n",
       "Name: review, Length: 992, dtype: object"
      ]
     },
     "execution_count": 14,
     "metadata": {},
     "output_type": "execute_result"
    }
   ],
   "source": [
    "# join string elements in 'review' column\n",
    "# required for vectorization\n",
    "df.review = df.review.str.join(' ')\n",
    "df.review"
   ]
  },
  {
   "cell_type": "markdown",
   "id": "977a4b44-3871-4acd-90d9-40da3b67ecb6",
   "metadata": {},
   "source": [
    "### Train/Test Split"
   ]
  },
  {
   "cell_type": "code",
   "execution_count": 15,
   "id": "e528bc08-9c58-490b-bcc6-ab266edd0326",
   "metadata": {
    "tags": []
   },
   "outputs": [],
   "source": [
    "# split data into train and test sets\n",
    "from sklearn.model_selection import train_test_split\n",
    "\n",
    "X_train, X_test, y_train, y_test = train_test_split(df.review, df.sentiment, test_size=0.3, random_state=42)"
   ]
  },
  {
   "cell_type": "markdown",
   "id": "1aa4c1f6-ef6a-42e7-b025-08a5840b21bb",
   "metadata": {
    "tags": []
   },
   "source": [
    "Train/test output"
   ]
  },
  {
   "cell_type": "code",
   "execution_count": 16,
   "id": "e988e952-56aa-43ce-92ac-949fa8986581",
   "metadata": {
    "tags": []
   },
   "outputs": [],
   "source": [
    "# save train/test splits as CSV files\n",
    "X_train.to_csv('output/x_train.csv', index=0)\n",
    "X_test.to_csv('output/x_test.csv', index=0)\n",
    "y_train.to_csv('output/y_train.csv', index=0)\n",
    "y_test.to_csv('output/y_test.csv', index=0)"
   ]
  },
  {
   "cell_type": "markdown",
   "id": "6dfa59ac-b15c-4b6e-bbb7-7487fbdacbdc",
   "metadata": {},
   "source": [
    "### Word Embeddings"
   ]
  },
  {
   "cell_type": "code",
   "execution_count": 17,
   "id": "0099b4a4-de9e-44bc-be98-94779037e13a",
   "metadata": {
    "tags": []
   },
   "outputs": [],
   "source": [
    "# install tensorflow and keras\n",
    "#!pip install tensorflow"
   ]
  },
  {
   "cell_type": "code",
   "execution_count": 18,
   "id": "60e3f900-c5ff-4848-a5fe-808dc9c50ac4",
   "metadata": {
    "tags": []
   },
   "outputs": [],
   "source": [
    "# import tensorflow for\n",
    "import tensorflow as tf\n",
    "from tensorflow.keras import Sequential\n",
    "from tensorflow.keras.layers import Dense, Embedding, GlobalAveragePooling1D\n",
    "from tensorflow.keras.layers import TextVectorization"
   ]
  },
  {
   "cell_type": "code",
   "execution_count": 19,
   "id": "5f329f56-c609-4ae3-94a9-5ca7a12f24bc",
   "metadata": {
    "tags": []
   },
   "outputs": [],
   "source": [
    "# use the text vectorization layer to normalize and map strings to integers\n",
    "vectorize_layer = TextVectorization(\n",
    "    standardize=None,\n",
    "    output_mode='int',\n",
    "    output_sequence_length=32)"
   ]
  },
  {
   "cell_type": "code",
   "execution_count": 20,
   "id": "62d7686b-0082-4914-9d5f-5e8190868a2e",
   "metadata": {},
   "outputs": [],
   "source": [
    "# adapt train dataset to build the vocabulary.\n",
    "vectorize_layer.adapt(X_train)"
   ]
  },
  {
   "cell_type": "code",
   "execution_count": 21,
   "id": "2cefbe20-fd2c-4c6b-9bbc-f04c0977cb4e",
   "metadata": {
    "tags": []
   },
   "outputs": [
    {
     "name": "stdout",
     "output_type": "stream",
     "text": [
      "Vocab size: 1559\n"
     ]
    }
   ],
   "source": [
    "max_features = len(vectorize_layer.get_vocabulary())\n",
    "print('Vocab size: ' + str(max_features))"
   ]
  },
  {
   "cell_type": "markdown",
   "id": "a8b06d41-3277-4217-9e84-98b82678f13a",
   "metadata": {},
   "source": [
    "### Model"
   ]
  },
  {
   "cell_type": "code",
   "execution_count": 34,
   "id": "f6cafa2f-2fe1-4128-ab54-a47036b204da",
   "metadata": {
    "tags": []
   },
   "outputs": [],
   "source": [
    "# import layers and losses from tensorflow to create model\n",
    "from tensorflow.keras import layers\n",
    "from tensorflow.keras import losses"
   ]
  },
  {
   "cell_type": "code",
   "execution_count": 35,
   "id": "42e72faa-656c-436a-be5f-45db673afae0",
   "metadata": {
    "tags": []
   },
   "outputs": [
    {
     "name": "stdout",
     "output_type": "stream",
     "text": [
      "Model: \"sequential_4\"\n",
      "_________________________________________________________________\n",
      " Layer (type)                Output Shape              Param #   \n",
      "=================================================================\n",
      " embedding_4 (Embedding)     (None, None, 32)          49920     \n",
      "                                                                 \n",
      " lstm_4 (LSTM)               (None, 16)                3136      \n",
      "                                                                 \n",
      " dense_8 (Dense)             (None, 1)                 17        \n",
      "                                                                 \n",
      " dropout_4 (Dropout)         (None, 1)                 0         \n",
      "                                                                 \n",
      " dense_9 (Dense)             (None, 1)                 2         \n",
      "                                                                 \n",
      "=================================================================\n",
      "Total params: 53075 (207.32 KB)\n",
      "Trainable params: 53075 (207.32 KB)\n",
      "Non-trainable params: 0 (0.00 Byte)\n",
      "_________________________________________________________________\n"
     ]
    }
   ],
   "source": [
    "model = tf.keras.Sequential([\n",
    "    layers.Embedding(max_features + 1, 16),\n",
    "    layers.LSTM(16,dropout=0.5),\n",
    "    layers.Dense(1), \n",
    "    layers.Dropout(0.5),\n",
    "    layers.Dense(1)])\n",
    "\n",
    "model.summary()"
   ]
  },
  {
   "cell_type": "markdown",
   "id": "d17934ad-6624-4d24-b10b-9cceaca9136f",
   "metadata": {},
   "source": [
    "### Loss Function and Optimizer"
   ]
  },
  {
   "cell_type": "code",
   "execution_count": 36,
   "id": "4267ec6c-2ceb-46fa-b1a8-17a231640d88",
   "metadata": {
    "tags": []
   },
   "outputs": [],
   "source": [
    "model.compile(loss=losses.BinaryCrossentropy(from_logits=True),\n",
    "              optimizer='adam',\n",
    "              metrics=tf.metrics.BinaryAccuracy(threshold=0.0))"
   ]
  },
  {
   "cell_type": "markdown",
   "id": "34591378-808a-4847-9178-edc1dbcda88d",
   "metadata": {},
   "source": [
    "### Training"
   ]
  },
  {
   "cell_type": "code",
   "execution_count": 37,
   "id": "c7ed7e19-1f82-4bbf-9341-4b9687e63e3e",
   "metadata": {
    "tags": []
   },
   "outputs": [
    {
     "name": "stdout",
     "output_type": "stream",
     "text": [
      "Epoch 1/100\n",
      "16/16 [==============================] - 2s 25ms/step - loss: 0.6931 - binary_accuracy: 0.5031 - val_loss: 0.6932 - val_binary_accuracy: 0.4928\n",
      "Epoch 2/100\n",
      "16/16 [==============================] - 0s 7ms/step - loss: 0.6930 - binary_accuracy: 0.4990 - val_loss: 0.6932 - val_binary_accuracy: 0.4928\n",
      "Epoch 3/100\n",
      "16/16 [==============================] - 0s 7ms/step - loss: 0.6920 - binary_accuracy: 0.5093 - val_loss: 0.6933 - val_binary_accuracy: 0.4928\n",
      "Epoch 4/100\n",
      "16/16 [==============================] - 0s 7ms/step - loss: 0.6917 - binary_accuracy: 0.5093 - val_loss: 0.6939 - val_binary_accuracy: 0.4928\n",
      "Epoch 5/100\n",
      "16/16 [==============================] - 0s 7ms/step - loss: 0.6917 - binary_accuracy: 0.5093 - val_loss: 0.6934 - val_binary_accuracy: 0.4928\n",
      "Epoch 6/100\n",
      "16/16 [==============================] - 0s 7ms/step - loss: 0.6903 - binary_accuracy: 0.5093 - val_loss: 0.6930 - val_binary_accuracy: 0.4928\n",
      "Epoch 7/100\n",
      "16/16 [==============================] - 0s 7ms/step - loss: 0.6855 - binary_accuracy: 0.5175 - val_loss: 0.6897 - val_binary_accuracy: 0.4976\n",
      "Epoch 8/100\n",
      "16/16 [==============================] - 0s 7ms/step - loss: 0.6658 - binary_accuracy: 0.5835 - val_loss: 0.6624 - val_binary_accuracy: 0.6938\n",
      "Epoch 9/100\n",
      "16/16 [==============================] - 0s 7ms/step - loss: 0.6047 - binary_accuracy: 0.7052 - val_loss: 0.6318 - val_binary_accuracy: 0.7273\n",
      "Epoch 10/100\n",
      "16/16 [==============================] - 0s 7ms/step - loss: 0.5524 - binary_accuracy: 0.7237 - val_loss: 0.6116 - val_binary_accuracy: 0.7225\n",
      "Epoch 11/100\n",
      "16/16 [==============================] - 0s 7ms/step - loss: 0.5109 - binary_accuracy: 0.7340 - val_loss: 0.5963 - val_binary_accuracy: 0.6938\n",
      "Epoch 12/100\n",
      "16/16 [==============================] - 0s 6ms/step - loss: 0.4990 - binary_accuracy: 0.7216 - val_loss: 0.5652 - val_binary_accuracy: 0.7608\n",
      "Epoch 13/100\n",
      "16/16 [==============================] - 0s 7ms/step - loss: 0.4669 - binary_accuracy: 0.7423 - val_loss: 0.5882 - val_binary_accuracy: 0.7368\n",
      "Epoch 14/100\n",
      "16/16 [==============================] - 0s 7ms/step - loss: 0.4757 - binary_accuracy: 0.7155 - val_loss: 0.5728 - val_binary_accuracy: 0.7129\n",
      "Epoch 15/100\n",
      "16/16 [==============================] - 0s 7ms/step - loss: 0.4370 - binary_accuracy: 0.7320 - val_loss: 0.5641 - val_binary_accuracy: 0.7273\n",
      "Epoch 16/100\n",
      "16/16 [==============================] - 0s 7ms/step - loss: 0.4286 - binary_accuracy: 0.7320 - val_loss: 0.5344 - val_binary_accuracy: 0.7656\n",
      "Epoch 17/100\n",
      "16/16 [==============================] - 0s 7ms/step - loss: 0.4450 - binary_accuracy: 0.7258 - val_loss: 0.6059 - val_binary_accuracy: 0.7273\n",
      "Epoch 18/100\n",
      "16/16 [==============================] - 0s 7ms/step - loss: 0.4346 - binary_accuracy: 0.7320 - val_loss: 0.6644 - val_binary_accuracy: 0.7033\n",
      "Epoch 19/100\n",
      "16/16 [==============================] - 0s 7ms/step - loss: 0.4157 - binary_accuracy: 0.7175 - val_loss: 0.6291 - val_binary_accuracy: 0.7225\n",
      "Epoch 20/100\n",
      "16/16 [==============================] - 0s 7ms/step - loss: 0.4565 - binary_accuracy: 0.7134 - val_loss: 0.6076 - val_binary_accuracy: 0.7225\n",
      "Epoch 21/100\n",
      "16/16 [==============================] - 0s 7ms/step - loss: 0.3905 - binary_accuracy: 0.7423 - val_loss: 0.5849 - val_binary_accuracy: 0.7416\n",
      "Epoch 22/100\n",
      "16/16 [==============================] - 0s 7ms/step - loss: 0.4028 - binary_accuracy: 0.7216 - val_loss: 0.6209 - val_binary_accuracy: 0.7177\n",
      "Epoch 23/100\n",
      "16/16 [==============================] - 0s 7ms/step - loss: 0.4475 - binary_accuracy: 0.7010 - val_loss: 0.6151 - val_binary_accuracy: 0.7225\n",
      "Epoch 24/100\n",
      "16/16 [==============================] - 0s 7ms/step - loss: 0.4253 - binary_accuracy: 0.7113 - val_loss: 0.5663 - val_binary_accuracy: 0.7464\n",
      "Epoch 25/100\n",
      "16/16 [==============================] - 0s 8ms/step - loss: 0.4333 - binary_accuracy: 0.7216 - val_loss: 0.5191 - val_binary_accuracy: 0.7799\n",
      "Epoch 26/100\n",
      "16/16 [==============================] - 0s 8ms/step - loss: 0.4296 - binary_accuracy: 0.6948 - val_loss: 0.5234 - val_binary_accuracy: 0.7847\n",
      "Epoch 27/100\n",
      "16/16 [==============================] - 0s 8ms/step - loss: 0.4073 - binary_accuracy: 0.7278 - val_loss: 0.5776 - val_binary_accuracy: 0.7464\n",
      "Epoch 28/100\n",
      "16/16 [==============================] - 0s 8ms/step - loss: 0.4123 - binary_accuracy: 0.7072 - val_loss: 0.6375 - val_binary_accuracy: 0.7081\n",
      "Epoch 29/100\n",
      "16/16 [==============================] - 0s 8ms/step - loss: 0.3890 - binary_accuracy: 0.7629 - val_loss: 0.5754 - val_binary_accuracy: 0.7464\n",
      "Epoch 30/100\n",
      "16/16 [==============================] - 0s 8ms/step - loss: 0.3964 - binary_accuracy: 0.7299 - val_loss: 0.5588 - val_binary_accuracy: 0.7608\n",
      "Epoch 31/100\n",
      "16/16 [==============================] - 0s 8ms/step - loss: 0.3554 - binary_accuracy: 0.7629 - val_loss: 0.6158 - val_binary_accuracy: 0.7273\n",
      "Epoch 32/100\n",
      "16/16 [==============================] - 0s 8ms/step - loss: 0.3707 - binary_accuracy: 0.7588 - val_loss: 0.6272 - val_binary_accuracy: 0.7177\n",
      "Epoch 33/100\n",
      "16/16 [==============================] - 0s 8ms/step - loss: 0.3655 - binary_accuracy: 0.7340 - val_loss: 0.6754 - val_binary_accuracy: 0.6986\n",
      "Epoch 34/100\n",
      "16/16 [==============================] - 0s 8ms/step - loss: 0.3857 - binary_accuracy: 0.7381 - val_loss: 0.7160 - val_binary_accuracy: 0.6842\n",
      "Epoch 35/100\n",
      "16/16 [==============================] - 0s 8ms/step - loss: 0.3915 - binary_accuracy: 0.7278 - val_loss: 0.6746 - val_binary_accuracy: 0.7033\n",
      "Epoch 36/100\n",
      "16/16 [==============================] - 0s 7ms/step - loss: 0.3783 - binary_accuracy: 0.7485 - val_loss: 0.5641 - val_binary_accuracy: 0.7656\n",
      "Epoch 37/100\n",
      "16/16 [==============================] - 0s 7ms/step - loss: 0.3568 - binary_accuracy: 0.7732 - val_loss: 0.5457 - val_binary_accuracy: 0.7799\n",
      "Epoch 38/100\n",
      "16/16 [==============================] - 0s 7ms/step - loss: 0.4365 - binary_accuracy: 0.7155 - val_loss: 0.5517 - val_binary_accuracy: 0.7656\n",
      "Epoch 39/100\n",
      "16/16 [==============================] - 0s 7ms/step - loss: 0.3439 - binary_accuracy: 0.7588 - val_loss: 0.6451 - val_binary_accuracy: 0.7177\n",
      "Epoch 40/100\n",
      "16/16 [==============================] - 0s 7ms/step - loss: 0.3839 - binary_accuracy: 0.7093 - val_loss: 0.6804 - val_binary_accuracy: 0.7081\n",
      "Epoch 41/100\n",
      "16/16 [==============================] - 0s 7ms/step - loss: 0.3949 - binary_accuracy: 0.7216 - val_loss: 0.6042 - val_binary_accuracy: 0.7416\n",
      "Epoch 42/100\n",
      "16/16 [==============================] - 0s 7ms/step - loss: 0.3941 - binary_accuracy: 0.7423 - val_loss: 0.5659 - val_binary_accuracy: 0.7656\n",
      "Epoch 43/100\n",
      "16/16 [==============================] - 0s 7ms/step - loss: 0.3886 - binary_accuracy: 0.7320 - val_loss: 0.5986 - val_binary_accuracy: 0.7321\n",
      "Epoch 44/100\n",
      "16/16 [==============================] - 0s 7ms/step - loss: 0.3998 - binary_accuracy: 0.7216 - val_loss: 0.5854 - val_binary_accuracy: 0.7512\n",
      "Epoch 45/100\n",
      "16/16 [==============================] - 0s 7ms/step - loss: 0.3956 - binary_accuracy: 0.7278 - val_loss: 0.5829 - val_binary_accuracy: 0.7560\n",
      "Epoch 46/100\n",
      "16/16 [==============================] - 0s 7ms/step - loss: 0.3493 - binary_accuracy: 0.7464 - val_loss: 0.5843 - val_binary_accuracy: 0.7608\n",
      "Epoch 47/100\n",
      "16/16 [==============================] - 0s 7ms/step - loss: 0.3484 - binary_accuracy: 0.7732 - val_loss: 0.6180 - val_binary_accuracy: 0.7273\n",
      "Epoch 48/100\n",
      "16/16 [==============================] - 0s 7ms/step - loss: 0.3620 - binary_accuracy: 0.7464 - val_loss: 0.6465 - val_binary_accuracy: 0.7225\n",
      "Epoch 49/100\n",
      "16/16 [==============================] - 0s 7ms/step - loss: 0.3680 - binary_accuracy: 0.7443 - val_loss: 0.6649 - val_binary_accuracy: 0.7081\n",
      "Epoch 50/100\n",
      "16/16 [==============================] - 0s 8ms/step - loss: 0.3720 - binary_accuracy: 0.7361 - val_loss: 0.5865 - val_binary_accuracy: 0.7560\n",
      "Epoch 51/100\n",
      "16/16 [==============================] - 0s 7ms/step - loss: 0.3340 - binary_accuracy: 0.7567 - val_loss: 0.6023 - val_binary_accuracy: 0.7512\n",
      "Epoch 52/100\n",
      "16/16 [==============================] - 0s 8ms/step - loss: 0.3508 - binary_accuracy: 0.7526 - val_loss: 0.6123 - val_binary_accuracy: 0.7512\n",
      "Epoch 53/100\n",
      "16/16 [==============================] - 0s 8ms/step - loss: 0.3872 - binary_accuracy: 0.7299 - val_loss: 0.6293 - val_binary_accuracy: 0.7512\n",
      "Epoch 54/100\n",
      "16/16 [==============================] - 0s 8ms/step - loss: 0.3445 - binary_accuracy: 0.7608 - val_loss: 0.6335 - val_binary_accuracy: 0.7512\n",
      "Epoch 55/100\n",
      "16/16 [==============================] - 0s 7ms/step - loss: 0.3478 - binary_accuracy: 0.7753 - val_loss: 0.6136 - val_binary_accuracy: 0.7560\n",
      "Epoch 56/100\n",
      "16/16 [==============================] - 0s 7ms/step - loss: 0.3460 - binary_accuracy: 0.7608 - val_loss: 0.5666 - val_binary_accuracy: 0.7703\n",
      "Epoch 57/100\n",
      "16/16 [==============================] - 0s 7ms/step - loss: 0.3454 - binary_accuracy: 0.7567 - val_loss: 0.6052 - val_binary_accuracy: 0.7656\n",
      "Epoch 58/100\n",
      "16/16 [==============================] - 0s 8ms/step - loss: 0.3392 - binary_accuracy: 0.7526 - val_loss: 0.5909 - val_binary_accuracy: 0.7608\n",
      "Epoch 59/100\n",
      "16/16 [==============================] - 0s 7ms/step - loss: 0.3603 - binary_accuracy: 0.7485 - val_loss: 0.6171 - val_binary_accuracy: 0.7512\n",
      "Epoch 60/100\n",
      "16/16 [==============================] - 0s 8ms/step - loss: 0.3502 - binary_accuracy: 0.7361 - val_loss: 0.5952 - val_binary_accuracy: 0.7512\n",
      "Epoch 61/100\n",
      "16/16 [==============================] - 0s 8ms/step - loss: 0.3807 - binary_accuracy: 0.7299 - val_loss: 0.6375 - val_binary_accuracy: 0.7368\n",
      "Epoch 62/100\n",
      "16/16 [==============================] - 0s 8ms/step - loss: 0.3596 - binary_accuracy: 0.7443 - val_loss: 0.6502 - val_binary_accuracy: 0.7368\n",
      "Epoch 63/100\n",
      "16/16 [==============================] - 0s 8ms/step - loss: 0.3604 - binary_accuracy: 0.7361 - val_loss: 0.6543 - val_binary_accuracy: 0.7416\n",
      "Epoch 64/100\n",
      "16/16 [==============================] - 0s 7ms/step - loss: 0.3326 - binary_accuracy: 0.7588 - val_loss: 0.6658 - val_binary_accuracy: 0.7416\n",
      "Epoch 65/100\n",
      "16/16 [==============================] - 0s 7ms/step - loss: 0.3556 - binary_accuracy: 0.7093 - val_loss: 0.6416 - val_binary_accuracy: 0.7464\n",
      "Epoch 66/100\n",
      "16/16 [==============================] - 0s 7ms/step - loss: 0.3637 - binary_accuracy: 0.7649 - val_loss: 0.6632 - val_binary_accuracy: 0.7464\n",
      "Epoch 67/100\n",
      "16/16 [==============================] - 0s 7ms/step - loss: 0.3697 - binary_accuracy: 0.7196 - val_loss: 0.7078 - val_binary_accuracy: 0.7225\n",
      "Epoch 68/100\n",
      "16/16 [==============================] - 0s 7ms/step - loss: 0.3734 - binary_accuracy: 0.7258 - val_loss: 0.7194 - val_binary_accuracy: 0.7225\n",
      "Epoch 69/100\n",
      "16/16 [==============================] - 0s 7ms/step - loss: 0.3565 - binary_accuracy: 0.7361 - val_loss: 0.7197 - val_binary_accuracy: 0.7225\n",
      "Epoch 70/100\n",
      "16/16 [==============================] - 0s 7ms/step - loss: 0.3404 - binary_accuracy: 0.7526 - val_loss: 0.6286 - val_binary_accuracy: 0.7560\n",
      "Epoch 71/100\n",
      "16/16 [==============================] - 0s 7ms/step - loss: 0.3530 - binary_accuracy: 0.7526 - val_loss: 0.6292 - val_binary_accuracy: 0.7703\n",
      "Epoch 72/100\n",
      "16/16 [==============================] - 0s 8ms/step - loss: 0.3644 - binary_accuracy: 0.7567 - val_loss: 0.6265 - val_binary_accuracy: 0.7799\n",
      "Epoch 73/100\n",
      "16/16 [==============================] - 0s 8ms/step - loss: 0.3529 - binary_accuracy: 0.7402 - val_loss: 0.6814 - val_binary_accuracy: 0.7512\n",
      "Epoch 74/100\n",
      "16/16 [==============================] - 0s 8ms/step - loss: 0.3446 - binary_accuracy: 0.7546 - val_loss: 0.6761 - val_binary_accuracy: 0.7512\n",
      "Epoch 75/100\n",
      "16/16 [==============================] - 0s 8ms/step - loss: 0.3758 - binary_accuracy: 0.7464 - val_loss: 0.6879 - val_binary_accuracy: 0.7368\n",
      "Epoch 76/100\n",
      "16/16 [==============================] - 0s 7ms/step - loss: 0.3483 - binary_accuracy: 0.7588 - val_loss: 0.7393 - val_binary_accuracy: 0.7177\n",
      "Epoch 77/100\n",
      "16/16 [==============================] - 0s 7ms/step - loss: 0.3538 - binary_accuracy: 0.7505 - val_loss: 0.7229 - val_binary_accuracy: 0.7225\n",
      "Epoch 78/100\n",
      "16/16 [==============================] - 0s 7ms/step - loss: 0.3590 - binary_accuracy: 0.7361 - val_loss: 0.6652 - val_binary_accuracy: 0.7464\n",
      "Epoch 79/100\n",
      "16/16 [==============================] - 0s 7ms/step - loss: 0.3591 - binary_accuracy: 0.7526 - val_loss: 0.5772 - val_binary_accuracy: 0.7608\n",
      "Epoch 80/100\n",
      "16/16 [==============================] - 0s 7ms/step - loss: 0.3609 - binary_accuracy: 0.7216 - val_loss: 0.6023 - val_binary_accuracy: 0.7703\n",
      "Epoch 81/100\n",
      "16/16 [==============================] - 0s 7ms/step - loss: 0.3681 - binary_accuracy: 0.7175 - val_loss: 0.6491 - val_binary_accuracy: 0.7799\n",
      "Epoch 82/100\n",
      "16/16 [==============================] - 0s 7ms/step - loss: 0.3486 - binary_accuracy: 0.7423 - val_loss: 0.6842 - val_binary_accuracy: 0.7368\n",
      "Epoch 83/100\n",
      "16/16 [==============================] - 0s 7ms/step - loss: 0.3312 - binary_accuracy: 0.7608 - val_loss: 0.7075 - val_binary_accuracy: 0.7368\n",
      "Epoch 84/100\n",
      "16/16 [==============================] - 0s 7ms/step - loss: 0.3442 - binary_accuracy: 0.7691 - val_loss: 0.7134 - val_binary_accuracy: 0.7464\n",
      "Epoch 85/100\n",
      "16/16 [==============================] - 0s 8ms/step - loss: 0.3529 - binary_accuracy: 0.7402 - val_loss: 0.7253 - val_binary_accuracy: 0.7464\n",
      "Epoch 86/100\n",
      "16/16 [==============================] - 0s 8ms/step - loss: 0.3480 - binary_accuracy: 0.7464 - val_loss: 0.7236 - val_binary_accuracy: 0.7512\n",
      "Epoch 87/100\n",
      "16/16 [==============================] - 0s 8ms/step - loss: 0.3548 - binary_accuracy: 0.7505 - val_loss: 0.7094 - val_binary_accuracy: 0.7703\n",
      "Epoch 88/100\n",
      "16/16 [==============================] - 0s 7ms/step - loss: 0.3622 - binary_accuracy: 0.7361 - val_loss: 0.7373 - val_binary_accuracy: 0.7608\n",
      "Epoch 89/100\n",
      "16/16 [==============================] - 0s 7ms/step - loss: 0.3601 - binary_accuracy: 0.7216 - val_loss: 0.7442 - val_binary_accuracy: 0.7560\n",
      "Epoch 90/100\n",
      "16/16 [==============================] - 0s 7ms/step - loss: 0.3524 - binary_accuracy: 0.7711 - val_loss: 0.7409 - val_binary_accuracy: 0.7608\n",
      "Epoch 91/100\n",
      "16/16 [==============================] - 0s 7ms/step - loss: 0.3579 - binary_accuracy: 0.7464 - val_loss: 0.7424 - val_binary_accuracy: 0.7608\n",
      "Epoch 92/100\n",
      "16/16 [==============================] - 0s 7ms/step - loss: 0.3790 - binary_accuracy: 0.7320 - val_loss: 0.7245 - val_binary_accuracy: 0.7321\n",
      "Epoch 93/100\n",
      "16/16 [==============================] - 0s 8ms/step - loss: 0.3563 - binary_accuracy: 0.7485 - val_loss: 0.7185 - val_binary_accuracy: 0.7464\n",
      "Epoch 94/100\n",
      "16/16 [==============================] - 0s 8ms/step - loss: 0.3456 - binary_accuracy: 0.7773 - val_loss: 0.7559 - val_binary_accuracy: 0.7273\n",
      "Epoch 95/100\n",
      "16/16 [==============================] - 0s 8ms/step - loss: 0.3626 - binary_accuracy: 0.7649 - val_loss: 0.7639 - val_binary_accuracy: 0.7321\n",
      "Epoch 96/100\n",
      "16/16 [==============================] - 0s 8ms/step - loss: 0.3410 - binary_accuracy: 0.7443 - val_loss: 0.7510 - val_binary_accuracy: 0.7416\n",
      "Epoch 97/100\n",
      "16/16 [==============================] - 0s 8ms/step - loss: 0.3411 - binary_accuracy: 0.7361 - val_loss: 0.7486 - val_binary_accuracy: 0.7416\n",
      "Epoch 98/100\n",
      "16/16 [==============================] - 0s 7ms/step - loss: 0.3478 - binary_accuracy: 0.7485 - val_loss: 0.7731 - val_binary_accuracy: 0.7416\n",
      "Epoch 99/100\n",
      "16/16 [==============================] - 0s 7ms/step - loss: 0.3278 - binary_accuracy: 0.7876 - val_loss: 0.7774 - val_binary_accuracy: 0.7416\n",
      "Epoch 100/100\n",
      "16/16 [==============================] - 0s 7ms/step - loss: 0.3452 - binary_accuracy: 0.7629 - val_loss: 0.7827 - val_binary_accuracy: 0.7416\n"
     ]
    }
   ],
   "source": [
    "history = model.fit(\n",
    "    x=vectorize_layer(X_train),\n",
    "    y=y_train.astype('int32'),\n",
    "    validation_split=0.3,\n",
    "    epochs=100)"
   ]
  },
  {
   "cell_type": "code",
   "execution_count": null,
   "id": "492fa24e-520a-4e3a-b40b-0f0908a57909",
   "metadata": {},
   "outputs": [],
   "source": []
  }
 ],
 "metadata": {
  "kernelspec": {
   "display_name": "myenv",
   "language": "python",
   "name": "myenv"
  },
  "language_info": {
   "codemirror_mode": {
    "name": "ipython",
    "version": 3
   },
   "file_extension": ".py",
   "mimetype": "text/x-python",
   "name": "python",
   "nbconvert_exporter": "python",
   "pygments_lexer": "ipython3",
   "version": "3.9.15"
  }
 },
 "nbformat": 4,
 "nbformat_minor": 5
}
