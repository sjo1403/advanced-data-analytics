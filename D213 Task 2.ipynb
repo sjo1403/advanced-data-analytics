{
 "cells": [
  {
   "cell_type": "markdown",
   "id": "874e441e-2c13-47b5-abb2-9cc0411c41a0",
   "metadata": {},
   "source": [
    "# Research Question\n",
    "As the project’s data scientist, it is my job to answer the following research question: What is the sentiment of a customer's review?\n",
    "\n",
    "## Project Goal\n",
    "The goal of this analysis is to classify the sentiment of the following restaurant reviews:\n",
    "\n",
    "1.\tThe pizza was disappointing. After a few bites, it left a weird taste in my mouth.\n",
    "\n",
    "2.\tThe soup is spicy and super flavorful. This is my favorite place to eat!\n",
    "\n",
    "## Analysis\n",
    "This research question will be answered using natural language processing, specifically a Recurrent Neural Network (RNN) model. RNN is a type of neural network capable of performing text classification tasks such as sentiment analysis."
   ]
  },
  {
   "cell_type": "code",
   "execution_count": 286,
   "id": "d8a58739-cd7c-4bea-803a-bd46a3ec21b0",
   "metadata": {
    "tags": []
   },
   "outputs": [
    {
     "data": {
      "text/html": [
       "<div>\n",
       "<style scoped>\n",
       "    .dataframe tbody tr th:only-of-type {\n",
       "        vertical-align: middle;\n",
       "    }\n",
       "\n",
       "    .dataframe tbody tr th {\n",
       "        vertical-align: top;\n",
       "    }\n",
       "\n",
       "    .dataframe thead th {\n",
       "        text-align: right;\n",
       "    }\n",
       "</style>\n",
       "<table border=\"1\" class=\"dataframe\">\n",
       "  <thead>\n",
       "    <tr style=\"text-align: right;\">\n",
       "      <th></th>\n",
       "      <th>0</th>\n",
       "      <th>1</th>\n",
       "      <th>2</th>\n",
       "      <th>3</th>\n",
       "      <th>4</th>\n",
       "      <th>5</th>\n",
       "    </tr>\n",
       "  </thead>\n",
       "  <tbody>\n",
       "    <tr>\n",
       "      <th>0</th>\n",
       "      <td>Wow... Loved this place.</td>\n",
       "      <td>1</td>\n",
       "      <td>NaN</td>\n",
       "      <td>NaN</td>\n",
       "      <td>NaN</td>\n",
       "      <td>NaN</td>\n",
       "    </tr>\n",
       "    <tr>\n",
       "      <th>1</th>\n",
       "      <td>Crust is not good.</td>\n",
       "      <td>0</td>\n",
       "      <td>NaN</td>\n",
       "      <td>NaN</td>\n",
       "      <td>NaN</td>\n",
       "      <td>NaN</td>\n",
       "    </tr>\n",
       "    <tr>\n",
       "      <th>2</th>\n",
       "      <td>Not tasty and the texture was just nasty.</td>\n",
       "      <td>0</td>\n",
       "      <td>NaN</td>\n",
       "      <td>NaN</td>\n",
       "      <td>NaN</td>\n",
       "      <td>NaN</td>\n",
       "    </tr>\n",
       "    <tr>\n",
       "      <th>3</th>\n",
       "      <td>Stopped by during the late May bank holiday of...</td>\n",
       "      <td>1</td>\n",
       "      <td>NaN</td>\n",
       "      <td>NaN</td>\n",
       "      <td>NaN</td>\n",
       "      <td>NaN</td>\n",
       "    </tr>\n",
       "    <tr>\n",
       "      <th>4</th>\n",
       "      <td>The selection on the menu was great and so wer...</td>\n",
       "      <td>1</td>\n",
       "      <td>NaN</td>\n",
       "      <td>NaN</td>\n",
       "      <td>NaN</td>\n",
       "      <td>NaN</td>\n",
       "    </tr>\n",
       "  </tbody>\n",
       "</table>\n",
       "</div>"
      ],
      "text/plain": [
       "                                                   0  1    2    3    4   5\n",
       "0                           Wow... Loved this place.  1  NaN  NaN  NaN NaN\n",
       "1                                 Crust is not good.  0  NaN  NaN  NaN NaN\n",
       "2          Not tasty and the texture was just nasty.  0  NaN  NaN  NaN NaN\n",
       "3  Stopped by during the late May bank holiday of...  1  NaN  NaN  NaN NaN\n",
       "4  The selection on the menu was great and so wer...  1  NaN  NaN  NaN NaN"
      ]
     },
     "execution_count": 286,
     "metadata": {},
     "output_type": "execute_result"
    }
   ],
   "source": [
    "# read data into pandas DataFrame\n",
    "import pandas as pd\n",
    "\n",
    "df = pd.read_csv('source/yelp_labelled.csv', header=None)\n",
    "df.head(5)"
   ]
  },
  {
   "cell_type": "code",
   "execution_count": 287,
   "id": "31a86cca-14fd-4f25-a250-2718f257c46b",
   "metadata": {
    "tags": []
   },
   "outputs": [
    {
     "data": {
      "text/plain": [
       "(992, 6)"
      ]
     },
     "execution_count": 287,
     "metadata": {},
     "output_type": "execute_result"
    }
   ],
   "source": [
    "df.shape"
   ]
  },
  {
   "cell_type": "markdown",
   "id": "f3972987-de41-4bbd-971b-7800ea01a475",
   "metadata": {},
   "source": [
    "# Data Preparation"
   ]
  },
  {
   "cell_type": "code",
   "execution_count": 288,
   "id": "cfa95a5f-014b-4d9e-97bc-0c3ddf88c1e6",
   "metadata": {
    "tags": []
   },
   "outputs": [
    {
     "data": {
      "text/html": [
       "<div>\n",
       "<style scoped>\n",
       "    .dataframe tbody tr th:only-of-type {\n",
       "        vertical-align: middle;\n",
       "    }\n",
       "\n",
       "    .dataframe tbody tr th {\n",
       "        vertical-align: top;\n",
       "    }\n",
       "\n",
       "    .dataframe thead th {\n",
       "        text-align: right;\n",
       "    }\n",
       "</style>\n",
       "<table border=\"1\" class=\"dataframe\">\n",
       "  <thead>\n",
       "    <tr style=\"text-align: right;\">\n",
       "      <th></th>\n",
       "      <th>0</th>\n",
       "      <th>1</th>\n",
       "      <th>2</th>\n",
       "      <th>3</th>\n",
       "      <th>4</th>\n",
       "      <th>5</th>\n",
       "    </tr>\n",
       "  </thead>\n",
       "  <tbody>\n",
       "    <tr>\n",
       "      <th>0</th>\n",
       "      <td>Wow... Loved this place.</td>\n",
       "      <td>1</td>\n",
       "      <td></td>\n",
       "      <td></td>\n",
       "      <td></td>\n",
       "      <td></td>\n",
       "    </tr>\n",
       "    <tr>\n",
       "      <th>1</th>\n",
       "      <td>Crust is not good.</td>\n",
       "      <td>0</td>\n",
       "      <td></td>\n",
       "      <td></td>\n",
       "      <td></td>\n",
       "      <td></td>\n",
       "    </tr>\n",
       "    <tr>\n",
       "      <th>2</th>\n",
       "      <td>Not tasty and the texture was just nasty.</td>\n",
       "      <td>0</td>\n",
       "      <td></td>\n",
       "      <td></td>\n",
       "      <td></td>\n",
       "      <td></td>\n",
       "    </tr>\n",
       "    <tr>\n",
       "      <th>3</th>\n",
       "      <td>Stopped by during the late May bank holiday of...</td>\n",
       "      <td>1</td>\n",
       "      <td></td>\n",
       "      <td></td>\n",
       "      <td></td>\n",
       "      <td></td>\n",
       "    </tr>\n",
       "    <tr>\n",
       "      <th>4</th>\n",
       "      <td>The selection on the menu was great and so wer...</td>\n",
       "      <td>1</td>\n",
       "      <td></td>\n",
       "      <td></td>\n",
       "      <td></td>\n",
       "      <td></td>\n",
       "    </tr>\n",
       "  </tbody>\n",
       "</table>\n",
       "</div>"
      ],
      "text/plain": [
       "                                                   0  1 2 3 4 5\n",
       "0                           Wow... Loved this place.  1        \n",
       "1                                 Crust is not good.  0        \n",
       "2          Not tasty and the texture was just nasty.  0        \n",
       "3  Stopped by during the late May bank holiday of...  1        \n",
       "4  The selection on the menu was great and so wer...  1        "
      ]
     },
     "execution_count": 288,
     "metadata": {},
     "output_type": "execute_result"
    }
   ],
   "source": [
    "# fill NA values\n",
    "df.fillna(value='', inplace=True)\n",
    "df.head(5)"
   ]
  },
  {
   "cell_type": "code",
   "execution_count": 289,
   "id": "10651a71-ff0f-4f92-b751-1cbb27c377db",
   "metadata": {
    "tags": []
   },
   "outputs": [
    {
     "data": {
      "text/plain": [
       "0                              Wow... Loved this place.1\n",
       "1                                    Crust is not good.0\n",
       "2             Not tasty and the texture was just nasty.0\n",
       "3      Stopped by during the late May bank holiday of...\n",
       "4      The selection on the menu was great and so wer...\n",
       "                             ...                        \n",
       "987    I think food should have flavor and texture an...\n",
       "988                            Appetite instantly gone.0\n",
       "989    Overall I was not impressed and would not go b...\n",
       "990    The whole experience was underwhelming and I t...\n",
       "991    Then as if I hadn't wasted enough of my life t...\n",
       "Name: review, Length: 992, dtype: string"
      ]
     },
     "execution_count": 289,
     "metadata": {},
     "output_type": "execute_result"
    }
   ],
   "source": [
    "# combine all columns to create 'review' column\n",
    "df = df.astype('string')\n",
    "df['review'] = df[0] + df[1] + df[2] + df[3] + df[4] + df[5]\n",
    "df.review"
   ]
  },
  {
   "cell_type": "code",
   "execution_count": 290,
   "id": "a1ba4004-3069-4614-8aee-84183037f117",
   "metadata": {
    "tags": []
   },
   "outputs": [
    {
     "data": {
      "text/plain": [
       "0      1\n",
       "1      0\n",
       "2      0\n",
       "3      1\n",
       "4      1\n",
       "      ..\n",
       "987    0\n",
       "988    0\n",
       "989    0\n",
       "990    0\n",
       "991    0\n",
       "Name: sentiment, Length: 992, dtype: string"
      ]
     },
     "execution_count": 290,
     "metadata": {},
     "output_type": "execute_result"
    }
   ],
   "source": [
    "# create 'sentiment' column using slice of 'review' column\n",
    "df['sentiment'] = df.review.str.slice(start=-1)\n",
    "df.sentiment"
   ]
  },
  {
   "cell_type": "code",
   "execution_count": 291,
   "id": "6227d63f-2a84-4464-9ba6-c80df689773d",
   "metadata": {
    "tags": []
   },
   "outputs": [
    {
     "data": {
      "text/plain": [
       "0                               Wow... Loved this place.\n",
       "1                                     Crust is not good.\n",
       "2              Not tasty and the texture was just nasty.\n",
       "3      Stopped by during the late May bank holiday of...\n",
       "4      The selection on the menu was great and so wer...\n",
       "                             ...                        \n",
       "987    I think food should have flavor and texture an...\n",
       "988                             Appetite instantly gone.\n",
       "989    Overall I was not impressed and would not go b...\n",
       "990    The whole experience was underwhelming and I t...\n",
       "991    Then as if I hadn't wasted enough of my life t...\n",
       "Name: review, Length: 992, dtype: string"
      ]
     },
     "execution_count": 291,
     "metadata": {},
     "output_type": "execute_result"
    }
   ],
   "source": [
    "# remove score from 'review' column using slice of 'review' column\n",
    "df.review = df.review.str.slice(stop=-1)\n",
    "df.review"
   ]
  },
  {
   "cell_type": "code",
   "execution_count": 292,
   "id": "65375ede-b138-4c1d-b373-7b73d4cbd0c7",
   "metadata": {
    "tags": []
   },
   "outputs": [
    {
     "data": {
      "text/html": [
       "<div>\n",
       "<style scoped>\n",
       "    .dataframe tbody tr th:only-of-type {\n",
       "        vertical-align: middle;\n",
       "    }\n",
       "\n",
       "    .dataframe tbody tr th {\n",
       "        vertical-align: top;\n",
       "    }\n",
       "\n",
       "    .dataframe thead th {\n",
       "        text-align: right;\n",
       "    }\n",
       "</style>\n",
       "<table border=\"1\" class=\"dataframe\">\n",
       "  <thead>\n",
       "    <tr style=\"text-align: right;\">\n",
       "      <th></th>\n",
       "      <th>review</th>\n",
       "      <th>sentiment</th>\n",
       "    </tr>\n",
       "  </thead>\n",
       "  <tbody>\n",
       "    <tr>\n",
       "      <th>0</th>\n",
       "      <td>Wow... Loved this place.</td>\n",
       "      <td>1</td>\n",
       "    </tr>\n",
       "    <tr>\n",
       "      <th>1</th>\n",
       "      <td>Crust is not good.</td>\n",
       "      <td>0</td>\n",
       "    </tr>\n",
       "    <tr>\n",
       "      <th>2</th>\n",
       "      <td>Not tasty and the texture was just nasty.</td>\n",
       "      <td>0</td>\n",
       "    </tr>\n",
       "    <tr>\n",
       "      <th>3</th>\n",
       "      <td>Stopped by during the late May bank holiday of...</td>\n",
       "      <td>1</td>\n",
       "    </tr>\n",
       "    <tr>\n",
       "      <th>4</th>\n",
       "      <td>The selection on the menu was great and so wer...</td>\n",
       "      <td>1</td>\n",
       "    </tr>\n",
       "  </tbody>\n",
       "</table>\n",
       "</div>"
      ],
      "text/plain": [
       "                                              review sentiment\n",
       "0                           Wow... Loved this place.         1\n",
       "1                                 Crust is not good.         0\n",
       "2          Not tasty and the texture was just nasty.         0\n",
       "3  Stopped by during the late May bank holiday of...         1\n",
       "4  The selection on the menu was great and so wer...         1"
      ]
     },
     "execution_count": 292,
     "metadata": {},
     "output_type": "execute_result"
    }
   ],
   "source": [
    "# update DataFrame to contain 'review' and 'sentiment' only\n",
    "df = df[['review', 'sentiment']]\n",
    "df.head(5)"
   ]
  },
  {
   "cell_type": "markdown",
   "id": "b4d13398-ed57-4c30-9815-97f948b94161",
   "metadata": {},
   "source": [
    "## Data Exploration"
   ]
  },
  {
   "cell_type": "code",
   "execution_count": 293,
   "id": "3930a39c-1c0c-4d66-b8b8-98f2dfd91a03",
   "metadata": {
    "tags": []
   },
   "outputs": [
    {
     "data": {
      "text/plain": [
       "0    497\n",
       "1    495\n",
       "Name: sentiment, dtype: Int64"
      ]
     },
     "execution_count": 293,
     "metadata": {},
     "output_type": "execute_result"
    }
   ],
   "source": [
    "df.sentiment.value_counts()"
   ]
  },
  {
   "cell_type": "markdown",
   "id": "0ebe3acc-c7ba-4bb9-9d90-5c247ae4c73d",
   "metadata": {},
   "source": [
    "Sentiment has two values, 0 and 1 (negative and positive, respectively). The number of negative and positive reviews is roughly equal."
   ]
  },
  {
   "cell_type": "code",
   "execution_count": 294,
   "id": "68ad1167-2c87-4de4-896a-5b8389870fc9",
   "metadata": {
    "tags": []
   },
   "outputs": [
    {
     "data": {
      "text/html": [
       "<div>\n",
       "<style scoped>\n",
       "    .dataframe tbody tr th:only-of-type {\n",
       "        vertical-align: middle;\n",
       "    }\n",
       "\n",
       "    .dataframe tbody tr th {\n",
       "        vertical-align: top;\n",
       "    }\n",
       "\n",
       "    .dataframe thead th {\n",
       "        text-align: right;\n",
       "    }\n",
       "</style>\n",
       "<table border=\"1\" class=\"dataframe\">\n",
       "  <thead>\n",
       "    <tr style=\"text-align: right;\">\n",
       "      <th></th>\n",
       "      <th>review</th>\n",
       "      <th>sentiment</th>\n",
       "    </tr>\n",
       "  </thead>\n",
       "  <tbody>\n",
       "    <tr>\n",
       "      <th>6</th>\n",
       "      <td>Honeslty it didn't taste THAT fresh.)</td>\n",
       "      <td>0</td>\n",
       "    </tr>\n",
       "    <tr>\n",
       "      <th>13</th>\n",
       "      <td>I tried the Cape Cod ravoli chickenwith cranbe...</td>\n",
       "      <td>1</td>\n",
       "    </tr>\n",
       "    <tr>\n",
       "      <th>20</th>\n",
       "      <td>The Burrittos Blah!</td>\n",
       "      <td>0</td>\n",
       "    </tr>\n",
       "    <tr>\n",
       "      <th>26</th>\n",
       "      <td>- They never brought a salad we asked for.</td>\n",
       "      <td>0</td>\n",
       "    </tr>\n",
       "    <tr>\n",
       "      <th>31</th>\n",
       "      <td>This was like the final blow!</td>\n",
       "      <td>0</td>\n",
       "    </tr>\n",
       "    <tr>\n",
       "      <th>...</th>\n",
       "      <td>...</td>\n",
       "      <td>...</td>\n",
       "    </tr>\n",
       "    <tr>\n",
       "      <th>953</th>\n",
       "      <td>If someone orders two tacos don't' you think i...</td>\n",
       "      <td>0</td>\n",
       "    </tr>\n",
       "    <tr>\n",
       "      <th>955</th>\n",
       "      <td>After all the rave reviews I couldn't wait to ...</td>\n",
       "      <td>0</td>\n",
       "    </tr>\n",
       "    <tr>\n",
       "      <th>961</th>\n",
       "      <td>I don't know what the big deal is about this p...</td>\n",
       "      <td>0</td>\n",
       "    </tr>\n",
       "    <tr>\n",
       "      <th>977</th>\n",
       "      <td>The problem I have is that they charge $11.99 ...</td>\n",
       "      <td>0</td>\n",
       "    </tr>\n",
       "    <tr>\n",
       "      <th>978</th>\n",
       "      <td>Shrimp- When I unwrapped it (I live only 1/2 a...</td>\n",
       "      <td>0</td>\n",
       "    </tr>\n",
       "  </tbody>\n",
       "</table>\n",
       "<p>257 rows × 2 columns</p>\n",
       "</div>"
      ],
      "text/plain": [
       "                                                review sentiment\n",
       "6                Honeslty it didn't taste THAT fresh.)         0\n",
       "13   I tried the Cape Cod ravoli chickenwith cranbe...         1\n",
       "20                                 The Burrittos Blah!         0\n",
       "26          - They never brought a salad we asked for.         0\n",
       "31                       This was like the final blow!         0\n",
       "..                                                 ...       ...\n",
       "953  If someone orders two tacos don't' you think i...         0\n",
       "955  After all the rave reviews I couldn't wait to ...         0\n",
       "961  I don't know what the big deal is about this p...         0\n",
       "977  The problem I have is that they charge $11.99 ...         0\n",
       "978  Shrimp- When I unwrapped it (I live only 1/2 a...         0\n",
       "\n",
       "[257 rows x 2 columns]"
      ]
     },
     "execution_count": 294,
     "metadata": {},
     "output_type": "execute_result"
    }
   ],
   "source": [
    "# return all rows containing non alphanumeric characters\n",
    "df[df.review.str.contains(\"[^a-zA-Z\\d\\s\\'\\.]\") == True]"
   ]
  },
  {
   "cell_type": "markdown",
   "id": "4a1cf58b-41d8-4db3-b138-f648da8433a5",
   "metadata": {
    "tags": []
   },
   "source": [
    "There are 257 rows containing unusual characters. Examples of these unusual characters can be seen in the above output."
   ]
  },
  {
   "cell_type": "code",
   "execution_count": 295,
   "id": "b8f5a8cd-90d8-4734-95db-ac52ea98e8be",
   "metadata": {
    "tags": []
   },
   "outputs": [
    {
     "data": {
      "image/png": "[encoded data removed]",
      "text/plain": [
       "<Figure size 640x480 with 1 Axes>"
      ]
     },
     "metadata": {},
     "output_type": "display_data"
    }
   ],
   "source": [
    "# import matplotlib for visualizations\n",
    "import matplotlib.pyplot as plt\n",
    "\n",
    "# plot histogram of review lengths\n",
    "df.review.str.len().hist()\n",
    "plt.xlim(1, 150)\n",
    "plt.title('Review Length')\n",
    "plt.show()"
   ]
  },
  {
   "cell_type": "code",
   "execution_count": 296,
   "id": "70d8e8c5-eae9-4403-b3da-230eee19232c",
   "metadata": {
    "tags": []
   },
   "outputs": [
    {
     "data": {
      "text/plain": [
       "count        992.0\n",
       "mean      58.44254\n",
       "std      38.668149\n",
       "min           11.0\n",
       "25%          32.75\n",
       "50%           50.5\n",
       "75%           79.0\n",
       "max          743.0\n",
       "Name: review, dtype: Float64"
      ]
     },
     "execution_count": 296,
     "metadata": {},
     "output_type": "execute_result"
    }
   ],
   "source": [
    "df.review.str.len().describe()"
   ]
  },
  {
   "cell_type": "markdown",
   "id": "d988a626-8451-4c2a-a4da-c1e5cceba84e",
   "metadata": {},
   "source": [
    "The mean number of words per review is approximately 36, while the median number of words per review is 32."
   ]
  },
  {
   "cell_type": "markdown",
   "id": "dcb2e753-6496-4ee9-8ef1-bfd51ee36a91",
   "metadata": {},
   "source": [
    "## Data Cleaning"
   ]
  },
  {
   "cell_type": "code",
   "execution_count": 297,
   "id": "201cba67-2a25-49fb-8932-b50f69acdcef",
   "metadata": {
    "tags": []
   },
   "outputs": [
    {
     "data": {
      "text/plain": [
       "0                               wow... loved this place.\n",
       "1                                     crust is not good.\n",
       "2              not tasty and the texture was just nasty.\n",
       "3      stopped by during the late may bank holiday of...\n",
       "4      the selection on the menu was great and so wer...\n",
       "                             ...                        \n",
       "987    i think food should have flavor and texture an...\n",
       "988                             appetite instantly gone.\n",
       "989    overall i was not impressed and would not go b...\n",
       "990    the whole experience was underwhelming and i t...\n",
       "991    then as if i hadn't wasted enough of my life t...\n",
       "Name: review, Length: 992, dtype: string"
      ]
     },
     "execution_count": 297,
     "metadata": {},
     "output_type": "execute_result"
    }
   ],
   "source": [
    "# convert 'review' column to lowercase\n",
    "df.review = df.review.str.lower()\n",
    "df.review"
   ]
  },
  {
   "cell_type": "code",
   "execution_count": 298,
   "id": "27428f43-cd88-45fb-b6a8-99070df5c9b9",
   "metadata": {
    "tags": []
   },
   "outputs": [],
   "source": [
    "# install nltk\n",
    "#!pip install nltk"
   ]
  },
  {
   "cell_type": "markdown",
   "id": "0a3d5c28-471f-4d89-bfd3-e7e8f032396b",
   "metadata": {},
   "source": [
    "### Tokenization\n",
    "The purpose of tokenization is to break down the text of each review into discrete elements that can be processed by the RNN model. For this project, the goal of the tokenization process is to split the text in the Yelp reviews into substrings based on the presence of whitespace and punctuation."
   ]
  },
  {
   "cell_type": "code",
   "execution_count": 299,
   "id": "bc9fd812-e85c-42b5-9366-6d37e0d64c32",
   "metadata": {
    "tags": []
   },
   "outputs": [
    {
     "data": {
      "text/plain": [
       "0                              [wow, loved, this, place]\n",
       "1                                 [crust, is, not, good]\n",
       "2      [not, tasty, and, the, texture, was, just, nasty]\n",
       "3      [stopped, by, during, the, late, may, bank, ho...\n",
       "4      [the, selection, on, the, menu, was, great, an...\n",
       "                             ...                        \n",
       "987    [i, think, food, should, have, flavor, and, te...\n",
       "988                          [appetite, instantly, gone]\n",
       "989    [overall, i, was, not, impressed, and, would, ...\n",
       "990    [the, whole, experience, was, underwhelming, a...\n",
       "991    [then, as, if, i, hadn, t, wasted, enough, of,...\n",
       "Name: review, Length: 992, dtype: object"
      ]
     },
     "execution_count": 299,
     "metadata": {},
     "output_type": "execute_result"
    }
   ],
   "source": [
    "# import nltk for text pre-processing\n",
    "# tokenize each row in 'review'\n",
    "from nltk.tokenize import RegexpTokenizer\n",
    "\n",
    "tokenizer = RegexpTokenizer('\\w+')\n",
    "df.review = df.review.apply(tokenizer.tokenize)\n",
    "df.review"
   ]
  },
  {
   "cell_type": "markdown",
   "id": "014e1ff5-0fca-4d0c-88ea-cb8abc6a3d6a",
   "metadata": {},
   "source": [
    "### Stopword removal"
   ]
  },
  {
   "cell_type": "code",
   "execution_count": 300,
   "id": "8f76c49d-1a82-4467-8da9-dfe303e55f58",
   "metadata": {
    "tags": []
   },
   "outputs": [
    {
     "name": "stderr",
     "output_type": "stream",
     "text": [
      "[nltk_data] Downloading package stopwords to\n",
      "[nltk_data]     C:\\Users\\Shantel\\AppData\\Roaming\\nltk_data...\n",
      "[nltk_data]   Package stopwords is already up-to-date!\n"
     ]
    }
   ],
   "source": [
    "# download stopwords corpus\n",
    "# remove stopwords from each row in 'review'\n",
    "\n",
    "import nltk\n",
    "from nltk.corpus import stopwords\n",
    "\n",
    "nltk.download('stopwords')\n",
    "stop_words = set(stopwords.words('english'))\n",
    "stop_words = list(stop_words)\n",
    "\n",
    "# remove select words from stop_words array\n",
    "remove_words = ['isn', \"isn't\", \n",
    "                'not', 'nor', 'no', \n",
    "                'ain', 'aren', \"aren't\", \n",
    "                'couldn', \"couldn't\", \n",
    "                'didn', \"didn't\", 'doesn', \"doesn't\", \n",
    "                'haven', \"haven't\", 'hadn', \"hadn't\", 'hasn', \"hasn't\",\n",
    "                'mightn', \"mightn't\", 'mustn', \"mustn't\", \n",
    "                'shouldn', \"shouldn't\", 'shan', \"shan't\",\n",
    "                'wasn', \"wasn't\", 'weren', \"weren't\", 'won', \"won't\", 'wouldn', \"wouldn't\"]\n",
    "\n",
    "for word in stop_words:\n",
    "    if word in remove_words:\n",
    "        stop_words.remove(word)"
   ]
  },
  {
   "cell_type": "code",
   "execution_count": 301,
   "id": "27e533fc-bb85-4692-b091-0715a11ad1be",
   "metadata": {
    "tags": []
   },
   "outputs": [],
   "source": [
    "# function removes stopwords from each row in 'review'\n",
    "def remove_stops(review):\n",
    "    filtered_words = []\n",
    "    for word in review:\n",
    "        if word not in stop_words:\n",
    "            filtered_words.append(word)\n",
    "    return filtered_words"
   ]
  },
  {
   "cell_type": "code",
   "execution_count": 302,
   "id": "a000bb23-7316-4c14-a25b-ada95db2f96d",
   "metadata": {
    "tags": []
   },
   "outputs": [
    {
     "data": {
      "text/plain": [
       "0                                    [wow, loved, place]\n",
       "1                                     [crust, not, good]\n",
       "2                           [not, tasty, texture, nasty]\n",
       "3      [stopped, late, may, bank, holiday, rick, stev...\n",
       "4                       [selection, menu, great, prices]\n",
       "                             ...                        \n",
       "987              [think, food, flavor, texture, lacking]\n",
       "988                          [appetite, instantly, gone]\n",
       "989      [overall, not, impressed, would, not, go, back]\n",
       "990    [whole, experience, underwhelming, think, go, ...\n",
       "991    [hadn, wasted, enough, life, poured, salt, wou...\n",
       "Name: review, Length: 992, dtype: object"
      ]
     },
     "execution_count": 302,
     "metadata": {},
     "output_type": "execute_result"
    }
   ],
   "source": [
    "# remove stop_words\n",
    "df.review = df.review.apply(remove_stops)\n",
    "df.review"
   ]
  },
  {
   "cell_type": "markdown",
   "id": "a2cb698d-fadd-46fd-bed6-8c0a01c1472c",
   "metadata": {},
   "source": [
    "### Lemmatization"
   ]
  },
  {
   "cell_type": "code",
   "execution_count": 303,
   "id": "f93f1ec0-16ac-4f66-b4aa-6f3acb8d46f0",
   "metadata": {
    "tags": []
   },
   "outputs": [
    {
     "name": "stderr",
     "output_type": "stream",
     "text": [
      "[nltk_data] Downloading package wordnet to\n",
      "[nltk_data]     C:\\Users\\Shantel\\AppData\\Roaming\\nltk_data...\n",
      "[nltk_data]   Package wordnet is already up-to-date!\n"
     ]
    }
   ],
   "source": [
    "# lemmatize words using nltk\n",
    "from nltk.stem import WordNetLemmatizer\n",
    "nltk.download('wordnet')\n",
    " \n",
    "wnl = WordNetLemmatizer()"
   ]
  },
  {
   "cell_type": "code",
   "execution_count": 304,
   "id": "44a7860f-4efe-4b5d-899c-9107396f8488",
   "metadata": {
    "tags": []
   },
   "outputs": [],
   "source": [
    "def get_lemms(review):\n",
    "    lemms = []\n",
    "    for word in review:\n",
    "        lemms.append(wnl.lemmatize(word))\n",
    "    return lemms"
   ]
  },
  {
   "cell_type": "code",
   "execution_count": 305,
   "id": "972c5863-a96a-45e0-a8dc-58b3acd1da5f",
   "metadata": {
    "tags": []
   },
   "outputs": [
    {
     "data": {
      "text/plain": [
       "0                                    [wow, loved, place]\n",
       "1                                     [crust, not, good]\n",
       "2                           [not, tasty, texture, nasty]\n",
       "3      [stopped, late, may, bank, holiday, rick, stev...\n",
       "4                        [selection, menu, great, price]\n",
       "                             ...                        \n",
       "987              [think, food, flavor, texture, lacking]\n",
       "988                          [appetite, instantly, gone]\n",
       "989      [overall, not, impressed, would, not, go, back]\n",
       "990    [whole, experience, underwhelming, think, go, ...\n",
       "991    [hadn, wasted, enough, life, poured, salt, wou...\n",
       "Name: review, Length: 992, dtype: object"
      ]
     },
     "execution_count": 305,
     "metadata": {},
     "output_type": "execute_result"
    }
   ],
   "source": [
    "# lemmatize words\n",
    "df.review = df.review.apply(get_lemms)\n",
    "df.review"
   ]
  },
  {
   "cell_type": "code",
   "execution_count": 306,
   "id": "9bffb1f7-675b-4969-8e85-54969e2d1804",
   "metadata": {
    "tags": []
   },
   "outputs": [
    {
     "data": {
      "text/plain": [
       "0                                        wow loved place\n",
       "1                                         crust not good\n",
       "2                                not tasty texture nasty\n",
       "3      stopped late may bank holiday rick steve recom...\n",
       "4                             selection menu great price\n",
       "                             ...                        \n",
       "987                    think food flavor texture lacking\n",
       "988                              appetite instantly gone\n",
       "989              overall not impressed would not go back\n",
       "990    whole experience underwhelming think go ninja ...\n",
       "991    hadn wasted enough life poured salt wound draw...\n",
       "Name: review, Length: 992, dtype: object"
      ]
     },
     "execution_count": 306,
     "metadata": {},
     "output_type": "execute_result"
    }
   ],
   "source": [
    "# join string elements in 'review' column\n",
    "# required for vectorization\n",
    "df.review = df.review.str.join(' ')\n",
    "df.review"
   ]
  },
  {
   "cell_type": "markdown",
   "id": "977a4b44-3871-4acd-90d9-40da3b67ecb6",
   "metadata": {},
   "source": [
    "### Train/Test Split"
   ]
  },
  {
   "cell_type": "code",
   "execution_count": 307,
   "id": "e528bc08-9c58-490b-bcc6-ab266edd0326",
   "metadata": {
    "tags": []
   },
   "outputs": [],
   "source": [
    "# split data into train and test sets\n",
    "from sklearn.model_selection import train_test_split\n",
    "\n",
    "X_train, X_test, y_train, y_test = train_test_split(df.review, df.sentiment, test_size=0.3, random_state=42)"
   ]
  },
  {
   "cell_type": "markdown",
   "id": "1aa4c1f6-ef6a-42e7-b025-08a5840b21bb",
   "metadata": {
    "tags": []
   },
   "source": [
    "Train/test output"
   ]
  },
  {
   "cell_type": "code",
   "execution_count": 308,
   "id": "e988e952-56aa-43ce-92ac-949fa8986581",
   "metadata": {
    "tags": []
   },
   "outputs": [],
   "source": [
    "# save train/test splits as CSV files\n",
    "X_train.to_csv('output/x_train.csv', index=0)\n",
    "X_test.to_csv('output/x_test.csv', index=0)\n",
    "y_train.to_csv('output/y_train.csv', index=0)\n",
    "y_test.to_csv('output/y_test.csv', index=0)"
   ]
  },
  {
   "cell_type": "markdown",
   "id": "9fb8c80a-6e69-4aab-87b5-2070ccd88cf3",
   "metadata": {},
   "source": [
    "### Summary\n",
    "The steps used to prepare the data for analysis:\n",
    "\n",
    "1.\tFilling null values with whitespace\n",
    "\n",
    "2.\tCombining all columns, then slicing to create a ‘review’ and ‘sentiment’ column\n",
    "\n",
    "3.\tConverting the text in ‘review’ to lowercase\n",
    "\n",
    "4.\tTokenizing the text in ‘review’\n",
    "\n",
    "5.\tRemoving stopwords from ‘review’\n",
    "\n",
    "6.\tLemmatizing the tokens in ‘review’\n",
    "\n",
    "7.\tJoining the strings in ‘review’\n",
    "\n",
    "8.\tPartitioning the dataset into train and test splits"
   ]
  },
  {
   "cell_type": "markdown",
   "id": "a8b06d41-3277-4217-9e84-98b82678f13a",
   "metadata": {},
   "source": [
    "# Network Architecture"
   ]
  },
  {
   "cell_type": "markdown",
   "id": "6dfa59ac-b15c-4b6e-bbb7-7487fbdacbdc",
   "metadata": {},
   "source": [
    "## Word Embeddings"
   ]
  },
  {
   "cell_type": "code",
   "execution_count": 309,
   "id": "0099b4a4-de9e-44bc-be98-94779037e13a",
   "metadata": {
    "tags": []
   },
   "outputs": [],
   "source": [
    "# install tensorflow and keras\n",
    "#!pip install tensorflow"
   ]
  },
  {
   "cell_type": "code",
   "execution_count": 310,
   "id": "60e3f900-c5ff-4848-a5fe-808dc9c50ac4",
   "metadata": {
    "tags": []
   },
   "outputs": [],
   "source": [
    "# import tensorflow for\n",
    "import tensorflow as tf\n",
    "from tensorflow.keras import Sequential\n",
    "from tensorflow.keras.layers import Dense, Embedding, GlobalAveragePooling1D\n",
    "from tensorflow.keras.layers import TextVectorization"
   ]
  },
  {
   "cell_type": "code",
   "execution_count": 311,
   "id": "5f329f56-c609-4ae3-94a9-5ca7a12f24bc",
   "metadata": {
    "tags": []
   },
   "outputs": [],
   "source": [
    "# use the text vectorization layer to normalize and map strings to integers\n",
    "vectorize_layer = TextVectorization(\n",
    "    standardize=None,\n",
    "    output_mode='int',\n",
    "    output_sequence_length=32)"
   ]
  },
  {
   "cell_type": "markdown",
   "id": "69e29a1b-4a5c-49d8-90a5-cbff25960df5",
   "metadata": {},
   "source": [
    "Recall in 'Data Exploration' that the median number of words per review was 32. For this reason, the output_sequence_length will be set to 32."
   ]
  },
  {
   "cell_type": "code",
   "execution_count": 312,
   "id": "62d7686b-0082-4914-9d5f-5e8190868a2e",
   "metadata": {},
   "outputs": [],
   "source": [
    "# adapt train dataset to build the vocabulary.\n",
    "vectorize_layer.adapt(X_train)"
   ]
  },
  {
   "cell_type": "markdown",
   "id": "14fbb593-bf20-40e2-81c9-7d86e3dd5b1c",
   "metadata": {},
   "source": [
    "We will vectorize the first row of the train dataset (X_train) and view the output."
   ]
  },
  {
   "cell_type": "code",
   "execution_count": 313,
   "id": "888625d5-9e43-40d3-baf6-ca1e21d7d7a9",
   "metadata": {
    "tags": []
   },
   "outputs": [
    {
     "data": {
      "text/plain": [
       "array([ 99, 198,   3,  11,  88,  69, 462,  59,   0,   0,   0,   0,   0,\n",
       "         0,   0,   0,   0,   0,   0,   0,   0,   0,   0,   0,   0,   0,\n",
       "         0,   0,   0,   0,   0,   0], dtype=int64)"
      ]
     },
     "execution_count": 313,
     "metadata": {},
     "output_type": "execute_result"
    }
   ],
   "source": [
    "vectorize_layer(X_train.iloc[0]).numpy()"
   ]
  },
  {
   "cell_type": "markdown",
   "id": "aef6953b-2ee2-4046-a0ab-d0bd638a1ffd",
   "metadata": {},
   "source": [
    "In this example, we can see that padding occurs after the text sequence."
   ]
  },
  {
   "cell_type": "markdown",
   "id": "018fdc36-2682-4e83-90e4-707c627a93cb",
   "metadata": {},
   "source": [
    "Next, we will calculate Vocab Size, which will be used to set the max_features parameter of the embedding layer."
   ]
  },
  {
   "cell_type": "code",
   "execution_count": 314,
   "id": "2cefbe20-fd2c-4c6b-9bbc-f04c0977cb4e",
   "metadata": {
    "tags": []
   },
   "outputs": [
    {
     "name": "stdout",
     "output_type": "stream",
     "text": [
      "Vocab size: 1477\n"
     ]
    }
   ],
   "source": [
    "max_features = len(vectorize_layer.get_vocabulary())\n",
    "print('Vocab size: ' + str(max_features))"
   ]
  },
  {
   "cell_type": "markdown",
   "id": "e94ccb7c-7024-4b60-b936-73a44c3ad3bd",
   "metadata": {},
   "source": [
    "## Model"
   ]
  },
  {
   "cell_type": "code",
   "execution_count": 315,
   "id": "f6cafa2f-2fe1-4128-ab54-a47036b204da",
   "metadata": {
    "tags": []
   },
   "outputs": [],
   "source": [
    "# import layers and losses from tensorflow to create model\n",
    "from tensorflow.keras import layers\n",
    "from tensorflow.keras import losses"
   ]
  },
  {
   "cell_type": "code",
   "execution_count": 316,
   "id": "42e72faa-656c-436a-be5f-45db673afae0",
   "metadata": {
    "tags": []
   },
   "outputs": [
    {
     "name": "stdout",
     "output_type": "stream",
     "text": [
      "Model: \"sequential_7\"\n",
      "_________________________________________________________________\n",
      " Layer (type)                Output Shape              Param #   \n",
      "=================================================================\n",
      " embedding_7 (Embedding)     (None, None, 10)          14780     \n",
      "                                                                 \n",
      " lstm_7 (LSTM)               (None, 10)                840       \n",
      "                                                                 \n",
      " dense_14 (Dense)            (None, 10)                110       \n",
      "                                                                 \n",
      " dropout_7 (Dropout)         (None, 10)                0         \n",
      "                                                                 \n",
      " dense_15 (Dense)            (None, 1)                 11        \n",
      "                                                                 \n",
      "=================================================================\n",
      "Total params: 15741 (61.49 KB)\n",
      "Trainable params: 15741 (61.49 KB)\n",
      "Non-trainable params: 0 (0.00 Byte)\n",
      "_________________________________________________________________\n"
     ]
    }
   ],
   "source": [
    "model = tf.keras.Sequential([\n",
    "    layers.Embedding(max_features + 1, 10),\n",
    "    layers.LSTM(10,dropout=0.5),\n",
    "    layers.Dense(10, activation='relu'), \n",
    "    layers.Dropout(0.5),\n",
    "    layers.Dense(1)])\n",
    "\n",
    "model.summary()"
   ]
  },
  {
   "cell_type": "markdown",
   "id": "2ef17bb6-063f-4747-8722-4ee4bba19b7b",
   "metadata": {},
   "source": [
    "### Activation function\n",
    "Rectified Linear Unit (ReLU)\n",
    "\n",
    "### Layers\n",
    "Number of layers: 5\n",
    "\n",
    "Type of layers: Embedding,LSTM, dense, dropout\n",
    "\n",
    "Number of nodes per layer: 10\n",
    "\n",
    "Total number of parameters: 14K\n",
    "    \n",
    "### Sentiment Categories\n",
    "Two: Positive and negative"
   ]
  },
  {
   "cell_type": "markdown",
   "id": "d17934ad-6624-4d24-b10b-9cceaca9136f",
   "metadata": {},
   "source": [
    "## Loss Function and Optimizer"
   ]
  },
  {
   "cell_type": "code",
   "execution_count": 317,
   "id": "4267ec6c-2ceb-46fa-b1a8-17a231640d88",
   "metadata": {
    "tags": []
   },
   "outputs": [],
   "source": [
    "model.compile(loss=losses.BinaryCrossentropy(from_logits=True),\n",
    "              optimizer='adam',\n",
    "              metrics=tf.metrics.BinaryAccuracy(threshold=0.0))"
   ]
  },
  {
   "cell_type": "code",
   "execution_count": 318,
   "id": "8707aff9-7ce2-4f9c-9fdd-9ffc444e0b32",
   "metadata": {},
   "outputs": [],
   "source": [
    "callback = tf.keras.callbacks.EarlyStopping(monitor='val_loss', patience=50, restore_best_weights=True)"
   ]
  },
  {
   "cell_type": "markdown",
   "id": "3c65b96d-17dc-49a5-b2d4-5bc8f7930db2",
   "metadata": {},
   "source": [
    "### Loss function\n",
    "Binary Crossentropy\n",
    "\n",
    "### Optimizer\n",
    "Adam\n",
    "\n",
    "### Stopping criteria\n",
    "Validation loss, with a patience of 5.\n",
    "\n",
    "### Evaluation metric\n",
    "Binary Accuracy"
   ]
  },
  {
   "cell_type": "markdown",
   "id": "34591378-808a-4847-9178-edc1dbcda88d",
   "metadata": {},
   "source": [
    "## Training"
   ]
  },
  {
   "cell_type": "code",
   "execution_count": 319,
   "id": "c7ed7e19-1f82-4bbf-9341-4b9687e63e3e",
   "metadata": {
    "tags": []
   },
   "outputs": [
    {
     "name": "stdout",
     "output_type": "stream",
     "text": [
      "Epoch 1/1000\n"
     ]
    },
    {
     "name": "stderr",
     "output_type": "stream",
     "text": [
      "C:\\Users\\Shantel\\.conda\\envs\\myenv\\lib\\site-packages\\keras\\src\\engine\\data_adapter.py:1798: FutureWarning: The behavior of `series[i:j]` with an integer-dtype index is deprecated. In a future version, this will be treated as *label-based* indexing, consistent with e.g. `series[i]` lookups. To retain the old behavior, use `series.iloc[i:j]`. To get the future behavior, use `series.loc[i:j]`.\n",
      "  return t[start:end]\n"
     ]
    },
    {
     "name": "stdout",
     "output_type": "stream",
     "text": [
      "16/16 [==============================] - 3s 45ms/step - loss: 0.6934 - binary_accuracy: 0.4990 - val_loss: 0.6932 - val_binary_accuracy: 0.4928\n",
      "Epoch 2/1000\n",
      "16/16 [==============================] - 0s 15ms/step - loss: 0.6937 - binary_accuracy: 0.4990 - val_loss: 0.6934 - val_binary_accuracy: 0.4928\n",
      "Epoch 3/1000\n",
      "16/16 [==============================] - 0s 15ms/step - loss: 0.6933 - binary_accuracy: 0.4948 - val_loss: 0.6935 - val_binary_accuracy: 0.4928\n",
      "Epoch 4/1000\n",
      "16/16 [==============================] - 0s 15ms/step - loss: 0.6930 - binary_accuracy: 0.5010 - val_loss: 0.6938 - val_binary_accuracy: 0.4928\n",
      "Epoch 5/1000\n",
      "16/16 [==============================] - 0s 15ms/step - loss: 0.6937 - binary_accuracy: 0.5320 - val_loss: 0.6941 - val_binary_accuracy: 0.4928\n",
      "Epoch 6/1000\n",
      "16/16 [==============================] - 0s 15ms/step - loss: 0.6945 - binary_accuracy: 0.4948 - val_loss: 0.6939 - val_binary_accuracy: 0.4928\n",
      "Epoch 7/1000\n",
      "16/16 [==============================] - 0s 16ms/step - loss: 0.6934 - binary_accuracy: 0.5072 - val_loss: 0.6939 - val_binary_accuracy: 0.4928\n",
      "Epoch 8/1000\n",
      "16/16 [==============================] - 0s 15ms/step - loss: 0.6928 - binary_accuracy: 0.5072 - val_loss: 0.6942 - val_binary_accuracy: 0.4928\n",
      "Epoch 9/1000\n",
      "16/16 [==============================] - 0s 16ms/step - loss: 0.6936 - binary_accuracy: 0.5072 - val_loss: 0.6943 - val_binary_accuracy: 0.4928\n",
      "Epoch 10/1000\n",
      "16/16 [==============================] - 0s 17ms/step - loss: 0.6922 - binary_accuracy: 0.5052 - val_loss: 0.6943 - val_binary_accuracy: 0.4928\n",
      "Epoch 11/1000\n",
      "16/16 [==============================] - 0s 16ms/step - loss: 0.6937 - binary_accuracy: 0.5010 - val_loss: 0.6937 - val_binary_accuracy: 0.4928\n",
      "Epoch 12/1000\n",
      "16/16 [==============================] - 0s 16ms/step - loss: 0.6931 - binary_accuracy: 0.5196 - val_loss: 0.6936 - val_binary_accuracy: 0.4928\n",
      "Epoch 13/1000\n",
      "16/16 [==============================] - 0s 17ms/step - loss: 0.6935 - binary_accuracy: 0.5031 - val_loss: 0.6933 - val_binary_accuracy: 0.4928\n",
      "Epoch 14/1000\n",
      "16/16 [==============================] - 0s 17ms/step - loss: 0.6940 - binary_accuracy: 0.5072 - val_loss: 0.6935 - val_binary_accuracy: 0.4928\n",
      "Epoch 15/1000\n",
      "16/16 [==============================] - 0s 17ms/step - loss: 0.6932 - binary_accuracy: 0.4948 - val_loss: 0.6933 - val_binary_accuracy: 0.4928\n",
      "Epoch 16/1000\n",
      "16/16 [==============================] - 0s 16ms/step - loss: 0.6920 - binary_accuracy: 0.5299 - val_loss: 0.6936 - val_binary_accuracy: 0.4928\n",
      "Epoch 17/1000\n",
      "16/16 [==============================] - 0s 17ms/step - loss: 0.6926 - binary_accuracy: 0.5237 - val_loss: 0.6935 - val_binary_accuracy: 0.4928\n",
      "Epoch 18/1000\n",
      "16/16 [==============================] - 0s 16ms/step - loss: 0.6931 - binary_accuracy: 0.5052 - val_loss: 0.6934 - val_binary_accuracy: 0.4928\n",
      "Epoch 19/1000\n",
      "16/16 [==============================] - 0s 15ms/step - loss: 0.6926 - binary_accuracy: 0.5278 - val_loss: 0.6934 - val_binary_accuracy: 0.4928\n",
      "Epoch 20/1000\n",
      "16/16 [==============================] - 0s 16ms/step - loss: 0.6927 - binary_accuracy: 0.5320 - val_loss: 0.6934 - val_binary_accuracy: 0.4928\n",
      "Epoch 21/1000\n",
      "16/16 [==============================] - 0s 17ms/step - loss: 0.6929 - binary_accuracy: 0.5258 - val_loss: 0.6930 - val_binary_accuracy: 0.4928\n",
      "Epoch 22/1000\n",
      "16/16 [==============================] - 0s 16ms/step - loss: 0.6909 - binary_accuracy: 0.5567 - val_loss: 0.6928 - val_binary_accuracy: 0.4928\n",
      "Epoch 23/1000\n",
      "16/16 [==============================] - 0s 17ms/step - loss: 0.6876 - binary_accuracy: 0.5546 - val_loss: 0.6896 - val_binary_accuracy: 0.5024\n",
      "Epoch 24/1000\n",
      "16/16 [==============================] - 0s 16ms/step - loss: 0.6593 - binary_accuracy: 0.6000 - val_loss: 0.6359 - val_binary_accuracy: 0.7512\n",
      "Epoch 25/1000\n",
      "16/16 [==============================] - 0s 17ms/step - loss: 0.5379 - binary_accuracy: 0.7732 - val_loss: 0.5604 - val_binary_accuracy: 0.7416\n",
      "Epoch 26/1000\n",
      "16/16 [==============================] - 0s 15ms/step - loss: 0.4778 - binary_accuracy: 0.7732 - val_loss: 0.7806 - val_binary_accuracy: 0.5981\n",
      "Epoch 27/1000\n",
      "16/16 [==============================] - 0s 15ms/step - loss: 0.4227 - binary_accuracy: 0.8454 - val_loss: 0.5121 - val_binary_accuracy: 0.7895\n",
      "Epoch 28/1000\n",
      "16/16 [==============================] - 0s 15ms/step - loss: 0.3722 - binary_accuracy: 0.8825 - val_loss: 0.6913 - val_binary_accuracy: 0.7033\n",
      "Epoch 29/1000\n",
      "16/16 [==============================] - 0s 14ms/step - loss: 0.3581 - binary_accuracy: 0.8887 - val_loss: 0.5264 - val_binary_accuracy: 0.7799\n",
      "Epoch 30/1000\n",
      "16/16 [==============================] - 0s 15ms/step - loss: 0.3242 - binary_accuracy: 0.9113 - val_loss: 0.7909 - val_binary_accuracy: 0.6890\n",
      "Epoch 31/1000\n",
      "16/16 [==============================] - 0s 14ms/step - loss: 0.4063 - binary_accuracy: 0.8619 - val_loss: 0.6596 - val_binary_accuracy: 0.7321\n",
      "Epoch 32/1000\n",
      "16/16 [==============================] - 0s 13ms/step - loss: 0.3013 - binary_accuracy: 0.9031 - val_loss: 0.7023 - val_binary_accuracy: 0.7129\n",
      "Epoch 33/1000\n",
      "16/16 [==============================] - 0s 13ms/step - loss: 0.3461 - binary_accuracy: 0.8763 - val_loss: 0.6020 - val_binary_accuracy: 0.7608\n",
      "Epoch 34/1000\n",
      "16/16 [==============================] - 0s 12ms/step - loss: 0.3035 - binary_accuracy: 0.8825 - val_loss: 0.6143 - val_binary_accuracy: 0.7560\n",
      "Epoch 35/1000\n",
      "16/16 [==============================] - 0s 12ms/step - loss: 0.2732 - binary_accuracy: 0.9052 - val_loss: 0.5682 - val_binary_accuracy: 0.7943\n",
      "Epoch 36/1000\n",
      "16/16 [==============================] - 0s 12ms/step - loss: 0.3063 - binary_accuracy: 0.9237 - val_loss: 0.7550 - val_binary_accuracy: 0.7177\n",
      "Epoch 37/1000\n",
      "16/16 [==============================] - 0s 12ms/step - loss: 0.3224 - binary_accuracy: 0.8948 - val_loss: 0.6430 - val_binary_accuracy: 0.7656\n",
      "Epoch 38/1000\n",
      "16/16 [==============================] - 0s 12ms/step - loss: 0.2753 - binary_accuracy: 0.9113 - val_loss: 0.7634 - val_binary_accuracy: 0.7177\n",
      "Epoch 39/1000\n",
      "16/16 [==============================] - 0s 11ms/step - loss: 0.4089 - binary_accuracy: 0.8515 - val_loss: 0.9664 - val_binary_accuracy: 0.6077\n",
      "Epoch 40/1000\n",
      "16/16 [==============================] - 0s 12ms/step - loss: 0.4481 - binary_accuracy: 0.8165 - val_loss: 0.7873 - val_binary_accuracy: 0.6268\n",
      "Epoch 41/1000\n",
      "16/16 [==============================] - 0s 14ms/step - loss: 0.2695 - binary_accuracy: 0.9113 - val_loss: 0.6185 - val_binary_accuracy: 0.7512\n",
      "Epoch 42/1000\n",
      "16/16 [==============================] - 0s 12ms/step - loss: 0.2752 - binary_accuracy: 0.9196 - val_loss: 0.6579 - val_binary_accuracy: 0.7512\n",
      "Epoch 43/1000\n",
      "16/16 [==============================] - 0s 11ms/step - loss: 0.2571 - binary_accuracy: 0.9278 - val_loss: 0.6584 - val_binary_accuracy: 0.7656\n",
      "Epoch 44/1000\n",
      "16/16 [==============================] - 0s 12ms/step - loss: 0.2668 - binary_accuracy: 0.9072 - val_loss: 0.8327 - val_binary_accuracy: 0.6842\n",
      "Epoch 45/1000\n",
      "16/16 [==============================] - 0s 13ms/step - loss: 0.3337 - binary_accuracy: 0.8639 - val_loss: 0.8905 - val_binary_accuracy: 0.6555\n",
      "Epoch 46/1000\n",
      "16/16 [==============================] - 0s 13ms/step - loss: 0.2950 - binary_accuracy: 0.8969 - val_loss: 0.6576 - val_binary_accuracy: 0.7656\n",
      "Epoch 47/1000\n",
      "16/16 [==============================] - 0s 12ms/step - loss: 0.2386 - binary_accuracy: 0.9340 - val_loss: 0.6860 - val_binary_accuracy: 0.7656\n",
      "Epoch 48/1000\n",
      "16/16 [==============================] - 0s 12ms/step - loss: 0.2178 - binary_accuracy: 0.9155 - val_loss: 0.8061 - val_binary_accuracy: 0.7033\n",
      "Epoch 49/1000\n",
      "16/16 [==============================] - 0s 13ms/step - loss: 0.2782 - binary_accuracy: 0.9031 - val_loss: 0.9126 - val_binary_accuracy: 0.6603\n",
      "Epoch 50/1000\n",
      "16/16 [==============================] - 0s 12ms/step - loss: 0.2519 - binary_accuracy: 0.9216 - val_loss: 0.7221 - val_binary_accuracy: 0.7512\n",
      "Epoch 51/1000\n",
      "16/16 [==============================] - 0s 12ms/step - loss: 0.2381 - binary_accuracy: 0.9093 - val_loss: 0.6905 - val_binary_accuracy: 0.7703\n",
      "Epoch 52/1000\n",
      "16/16 [==============================] - 0s 13ms/step - loss: 0.2518 - binary_accuracy: 0.9093 - val_loss: 0.7087 - val_binary_accuracy: 0.7703\n",
      "Epoch 53/1000\n",
      "16/16 [==============================] - 0s 13ms/step - loss: 0.2587 - binary_accuracy: 0.9216 - val_loss: 0.7105 - val_binary_accuracy: 0.7703\n",
      "Epoch 54/1000\n",
      "16/16 [==============================] - 0s 13ms/step - loss: 0.2539 - binary_accuracy: 0.9175 - val_loss: 1.0511 - val_binary_accuracy: 0.6172\n",
      "Epoch 55/1000\n",
      "16/16 [==============================] - 0s 12ms/step - loss: 0.3743 - binary_accuracy: 0.8536 - val_loss: 0.9611 - val_binary_accuracy: 0.6029\n",
      "Epoch 56/1000\n",
      "16/16 [==============================] - 0s 12ms/step - loss: 0.3091 - binary_accuracy: 0.8825 - val_loss: 0.8475 - val_binary_accuracy: 0.6268\n",
      "Epoch 57/1000\n",
      "16/16 [==============================] - 0s 12ms/step - loss: 0.2827 - binary_accuracy: 0.8928 - val_loss: 0.9304 - val_binary_accuracy: 0.6364\n",
      "Epoch 58/1000\n",
      "16/16 [==============================] - 0s 12ms/step - loss: 0.2853 - binary_accuracy: 0.8928 - val_loss: 0.8446 - val_binary_accuracy: 0.6603\n",
      "Epoch 59/1000\n",
      "16/16 [==============================] - 0s 11ms/step - loss: 0.2414 - binary_accuracy: 0.8990 - val_loss: 0.8325 - val_binary_accuracy: 0.6507\n",
      "Epoch 60/1000\n",
      "16/16 [==============================] - 0s 11ms/step - loss: 0.2593 - binary_accuracy: 0.9072 - val_loss: 0.9028 - val_binary_accuracy: 0.6507\n",
      "Epoch 61/1000\n",
      "16/16 [==============================] - 0s 11ms/step - loss: 0.2191 - binary_accuracy: 0.9196 - val_loss: 0.8321 - val_binary_accuracy: 0.6938\n",
      "Epoch 62/1000\n",
      "16/16 [==============================] - 0s 12ms/step - loss: 0.2091 - binary_accuracy: 0.9258 - val_loss: 0.8333 - val_binary_accuracy: 0.7225\n",
      "Epoch 63/1000\n",
      "16/16 [==============================] - 0s 13ms/step - loss: 0.2137 - binary_accuracy: 0.9134 - val_loss: 0.8780 - val_binary_accuracy: 0.7033\n",
      "Epoch 64/1000\n",
      "16/16 [==============================] - 0s 13ms/step - loss: 0.1902 - binary_accuracy: 0.9134 - val_loss: 0.8921 - val_binary_accuracy: 0.7129\n",
      "Epoch 65/1000\n",
      "16/16 [==============================] - 0s 11ms/step - loss: 0.2228 - binary_accuracy: 0.9072 - val_loss: 0.8579 - val_binary_accuracy: 0.7225\n",
      "Epoch 66/1000\n",
      "16/16 [==============================] - 0s 12ms/step - loss: 0.2119 - binary_accuracy: 0.9134 - val_loss: 0.9090 - val_binary_accuracy: 0.7273\n",
      "Epoch 67/1000\n",
      "16/16 [==============================] - 0s 12ms/step - loss: 0.2076 - binary_accuracy: 0.9175 - val_loss: 0.9364 - val_binary_accuracy: 0.7225\n",
      "Epoch 68/1000\n",
      "16/16 [==============================] - 0s 12ms/step - loss: 0.2298 - binary_accuracy: 0.9155 - val_loss: 0.9364 - val_binary_accuracy: 0.7129\n",
      "Epoch 69/1000\n",
      "16/16 [==============================] - 0s 12ms/step - loss: 0.2205 - binary_accuracy: 0.9216 - val_loss: 0.9450 - val_binary_accuracy: 0.7129\n",
      "Epoch 70/1000\n",
      "16/16 [==============================] - 0s 12ms/step - loss: 0.2140 - binary_accuracy: 0.9113 - val_loss: 0.8612 - val_binary_accuracy: 0.6842\n",
      "Epoch 71/1000\n",
      "16/16 [==============================] - 0s 12ms/step - loss: 0.2089 - binary_accuracy: 0.9113 - val_loss: 0.8516 - val_binary_accuracy: 0.6794\n",
      "Epoch 72/1000\n",
      "16/16 [==============================] - 0s 14ms/step - loss: 0.1975 - binary_accuracy: 0.9052 - val_loss: 1.0079 - val_binary_accuracy: 0.6603\n",
      "Epoch 73/1000\n",
      "16/16 [==============================] - 0s 14ms/step - loss: 0.2349 - binary_accuracy: 0.9093 - val_loss: 0.9784 - val_binary_accuracy: 0.6842\n",
      "Epoch 74/1000\n",
      "16/16 [==============================] - 0s 15ms/step - loss: 0.1799 - binary_accuracy: 0.9278 - val_loss: 0.9474 - val_binary_accuracy: 0.6986\n",
      "Epoch 75/1000\n",
      "16/16 [==============================] - 0s 13ms/step - loss: 0.2169 - binary_accuracy: 0.9093 - val_loss: 0.9288 - val_binary_accuracy: 0.6794\n",
      "Epoch 76/1000\n",
      "16/16 [==============================] - 0s 13ms/step - loss: 0.1787 - binary_accuracy: 0.9237 - val_loss: 0.8585 - val_binary_accuracy: 0.7321\n",
      "Epoch 77/1000\n",
      "16/16 [==============================] - 0s 12ms/step - loss: 0.2422 - binary_accuracy: 0.9175 - val_loss: 0.7836 - val_binary_accuracy: 0.7225\n"
     ]
    }
   ],
   "source": [
    "history = model.fit(\n",
    "    x=vectorize_layer(X_train),\n",
    "    y=y_train.astype('int32'),\n",
    "    validation_split=0.3,\n",
    "    epochs=1000, \n",
    "    callbacks=[callback])"
   ]
  },
  {
   "cell_type": "code",
   "execution_count": 320,
   "id": "9614a74c-6f17-484e-91a0-43742d322aae",
   "metadata": {
    "tags": []
   },
   "outputs": [
    {
     "data": {
      "text/plain": [
       "<keras.src.callbacks.History at 0x1b9c26da2e0>"
      ]
     },
     "execution_count": 320,
     "metadata": {},
     "output_type": "execute_result"
    }
   ],
   "source": [
    "# fit model using training data\n",
    "# set no. of epochs no. reached using stopping criteria\n",
    "model.fit(\n",
    "    x=vectorize_layer(X_train),\n",
    "    y=y_train.astype('int32'),\n",
    "    epochs=len(history.history['loss']), \n",
    "    verbose=0)"
   ]
  },
  {
   "cell_type": "markdown",
   "id": "760ff4d9-2b9c-4f8f-8dca-b2c0e9a2a3db",
   "metadata": {},
   "source": [
    "# Model Evaluation"
   ]
  },
  {
   "cell_type": "markdown",
   "id": "f9552153-c043-49f9-95bf-e5e1af03044a",
   "metadata": {},
   "source": [
    "## Stopping Criteria\n",
    "\n",
    "Stopping criteria is used to prevent under/over-fitting on the training data. When model performance starts to level off or degrade (as determined by the stopping criteria), training stops. In this project, the number of training epochs was set to [XX], but training ended at [XX] epochs due to the stopping criteria.\n",
    "\n",
    "At the final epoch of training, the accuracy was [XX], while the validation accuracy was [XX]. This means that there is [slight/significant] [over-fitting/under-fitting] on the training data. Actions taken to prevent overfitting included incorporating stopping criteria (refer to the previous section) and dropout layers. "
   ]
  },
  {
   "cell_type": "markdown",
   "id": "f6500ed4-3fc8-4bb0-8ff9-398cb6fce089",
   "metadata": {},
   "source": [
    "## Training Process"
   ]
  },
  {
   "cell_type": "code",
   "execution_count": 321,
   "id": "01425262-4130-44ed-a328-38af6ff6b8a5",
   "metadata": {
    "tags": []
   },
   "outputs": [
    {
     "data": {
      "image/png": "[encoded data removed]",
      "text/plain": [
       "<Figure size 640x480 with 1 Axes>"
      ]
     },
     "metadata": {},
     "output_type": "display_data"
    }
   ],
   "source": [
    "# plot loss against training (no. of epochs)\n",
    "plt.plot(history.history['loss'])\n",
    "plt.xlabel('no. epoch')\n",
    "plt.ylabel('loss')\n",
    "plt.title('Training Process')\n",
    "plt.show()"
   ]
  },
  {
   "cell_type": "markdown",
   "id": "4595d351-0d8d-4fd1-9869-cf8937094a0b",
   "metadata": {},
   "source": [
    "## Predictive Accuracy"
   ]
  },
  {
   "cell_type": "code",
   "execution_count": 326,
   "id": "18a76c0b-2fbe-49de-9e94-940884ba7884",
   "metadata": {
    "tags": []
   },
   "outputs": [
    {
     "name": "stdout",
     "output_type": "stream",
     "text": [
      "10/10 [==============================] - 0s 4ms/step - loss: 0.8617 - binary_accuracy: 0.7886\n"
     ]
    },
    {
     "data": {
      "text/plain": [
       "[0.86165452003479, 0.7885906100273132]"
      ]
     },
     "execution_count": 326,
     "metadata": {},
     "output_type": "execute_result"
    }
   ],
   "source": [
    "# Calculate model accuracy on the test dataset\n",
    "\n",
    "model.evaluate(x=vectorize_layer(X_test), y=y_test.astype('int32'))"
   ]
  },
  {
   "cell_type": "code",
   "execution_count": 329,
   "id": "9f3dfc24-5913-44f2-aef6-d2d6ae6676e0",
   "metadata": {
    "tags": []
   },
   "outputs": [
    {
     "data": {
      "text/plain": [
       "['loss', 'binary_accuracy']"
      ]
     },
     "execution_count": 329,
     "metadata": {},
     "output_type": "execute_result"
    }
   ],
   "source": [
    "model.metrics_names"
   ]
  },
  {
   "cell_type": "markdown",
   "id": "33ea5c46-2f0e-4ffe-861f-29ec04b4ae1c",
   "metadata": {},
   "source": [
    "Using the test dataset, the predictive accuracy of the model was calculated to be [XX]."
   ]
  },
  {
   "cell_type": "markdown",
   "id": "7aa79c37-6c70-4176-8b4c-ad612c4af03c",
   "metadata": {},
   "source": [
    "# Summary\n",
    "\n",
    "## Functionality\n",
    "The RNN model can classify a Yelp review as either positive or negative (1 or 0, respectively). Recall in ‘Research Question’ that the goal of this analysis was to classify the following restaurant reviews:\n",
    "\n",
    "1.\tThe pizza was disappointing. After a few bites, it left a weird taste in my mouth.\n",
    "\n",
    "2.\tThe soup is spicy and super flavorful. This is my favorite place to eat!\n",
    "\n",
    "Below is the classification of each review: "
   ]
  },
  {
   "cell_type": "code",
   "execution_count": 323,
   "id": "34538d1b-f965-4062-8dab-10071a45c2e1",
   "metadata": {
    "tags": []
   },
   "outputs": [
    {
     "name": "stdout",
     "output_type": "stream",
     "text": [
      "1/1 [==============================] - 0s 299ms/step\n"
     ]
    },
    {
     "data": {
      "text/plain": [
       "array([[1.7707044],\n",
       "       [4.3911414]], dtype=float32)"
      ]
     },
     "execution_count": 323,
     "metadata": {},
     "output_type": "execute_result"
    }
   ],
   "source": [
    "# Predict the sentiment of both reviews\n",
    "data = vectorize_layer(['The pizza was disappointing. After a few bites, it left a weird taste in my mouth.', \n",
    "                        'The soup is spicy and super flavorful. This is my favorite place to eat!'])\n",
    "model.predict(data)"
   ]
  },
  {
   "cell_type": "markdown",
   "id": "709c7a41-77df-4a93-b5ea-8bd80dbf3821",
   "metadata": {},
   "source": [
    "## Recommendation\n",
    "\n",
    "At [XX] accuracy, the model performs reasonably well and can be used for monitoring customer satisfaction and decision-making at restaurants. I recommend containerizing the model, deploying the model to an endpoint for real-time inference, and integrating the model endpoint into existing business intelligence applications and workflows."
   ]
  },
  {
   "cell_type": "markdown",
   "id": "81edfba4-a9a0-419f-945f-3811d9d73cc3",
   "metadata": {},
   "source": [
    "# References"
   ]
  },
  {
   "cell_type": "code",
   "execution_count": null,
   "id": "6c5b04a6-7753-4606-8ab1-7ee14a43e116",
   "metadata": {},
   "outputs": [],
   "source": []
  }
 ],
 "metadata": {
  "kernelspec": {
   "display_name": "myenv",
   "language": "python",
   "name": "myenv"
  },
  "language_info": {
   "codemirror_mode": {
    "name": "ipython",
    "version": 3
   },
   "file_extension": ".py",
   "mimetype": "text/x-python",
   "name": "python",
   "nbconvert_exporter": "python",
   "pygments_lexer": "ipython3",
   "version": "3.9.15"
  }
 },
 "nbformat": 4,
 "nbformat_minor": 5
}
