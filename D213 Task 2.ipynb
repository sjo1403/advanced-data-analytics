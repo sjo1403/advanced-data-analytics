{
 "cells": [
  {
   "cell_type": "code",
   "execution_count": 1,
   "id": "d8a58739-cd7c-4bea-803a-bd46a3ec21b0",
   "metadata": {
    "tags": []
   },
   "outputs": [
    {
     "data": {
      "text/html": [
       "<div>\n",
       "<style scoped>\n",
       "    .dataframe tbody tr th:only-of-type {\n",
       "        vertical-align: middle;\n",
       "    }\n",
       "\n",
       "    .dataframe tbody tr th {\n",
       "        vertical-align: top;\n",
       "    }\n",
       "\n",
       "    .dataframe thead th {\n",
       "        text-align: right;\n",
       "    }\n",
       "</style>\n",
       "<table border=\"1\" class=\"dataframe\">\n",
       "  <thead>\n",
       "    <tr style=\"text-align: right;\">\n",
       "      <th></th>\n",
       "      <th>0</th>\n",
       "      <th>1</th>\n",
       "      <th>2</th>\n",
       "      <th>3</th>\n",
       "      <th>4</th>\n",
       "      <th>5</th>\n",
       "    </tr>\n",
       "  </thead>\n",
       "  <tbody>\n",
       "    <tr>\n",
       "      <th>0</th>\n",
       "      <td>Wow... Loved this place.</td>\n",
       "      <td>1</td>\n",
       "      <td>NaN</td>\n",
       "      <td>NaN</td>\n",
       "      <td>NaN</td>\n",
       "      <td>NaN</td>\n",
       "    </tr>\n",
       "    <tr>\n",
       "      <th>1</th>\n",
       "      <td>Crust is not good.</td>\n",
       "      <td>0</td>\n",
       "      <td>NaN</td>\n",
       "      <td>NaN</td>\n",
       "      <td>NaN</td>\n",
       "      <td>NaN</td>\n",
       "    </tr>\n",
       "    <tr>\n",
       "      <th>2</th>\n",
       "      <td>Not tasty and the texture was just nasty.</td>\n",
       "      <td>0</td>\n",
       "      <td>NaN</td>\n",
       "      <td>NaN</td>\n",
       "      <td>NaN</td>\n",
       "      <td>NaN</td>\n",
       "    </tr>\n",
       "    <tr>\n",
       "      <th>3</th>\n",
       "      <td>Stopped by during the late May bank holiday of...</td>\n",
       "      <td>1</td>\n",
       "      <td>NaN</td>\n",
       "      <td>NaN</td>\n",
       "      <td>NaN</td>\n",
       "      <td>NaN</td>\n",
       "    </tr>\n",
       "    <tr>\n",
       "      <th>4</th>\n",
       "      <td>The selection on the menu was great and so wer...</td>\n",
       "      <td>1</td>\n",
       "      <td>NaN</td>\n",
       "      <td>NaN</td>\n",
       "      <td>NaN</td>\n",
       "      <td>NaN</td>\n",
       "    </tr>\n",
       "  </tbody>\n",
       "</table>\n",
       "</div>"
      ],
      "text/plain": [
       "                                                   0  1    2    3    4   5\n",
       "0                           Wow... Loved this place.  1  NaN  NaN  NaN NaN\n",
       "1                                 Crust is not good.  0  NaN  NaN  NaN NaN\n",
       "2          Not tasty and the texture was just nasty.  0  NaN  NaN  NaN NaN\n",
       "3  Stopped by during the late May bank holiday of...  1  NaN  NaN  NaN NaN\n",
       "4  The selection on the menu was great and so wer...  1  NaN  NaN  NaN NaN"
      ]
     },
     "execution_count": 1,
     "metadata": {},
     "output_type": "execute_result"
    }
   ],
   "source": [
    "# read data into pandas DataFrame\n",
    "import pandas as pd\n",
    "\n",
    "df = pd.read_csv('source/yelp_labelled.csv', header=None)\n",
    "df.head(5)"
   ]
  },
  {
   "cell_type": "code",
   "execution_count": 2,
   "id": "31a86cca-14fd-4f25-a250-2718f257c46b",
   "metadata": {
    "tags": []
   },
   "outputs": [
    {
     "data": {
      "text/plain": [
       "(992, 6)"
      ]
     },
     "execution_count": 2,
     "metadata": {},
     "output_type": "execute_result"
    }
   ],
   "source": [
    "df.shape"
   ]
  },
  {
   "cell_type": "markdown",
   "id": "f3972987-de41-4bbd-971b-7800ea01a475",
   "metadata": {},
   "source": [
    "## Data Preparation"
   ]
  },
  {
   "cell_type": "code",
   "execution_count": 3,
   "id": "cfa95a5f-014b-4d9e-97bc-0c3ddf88c1e6",
   "metadata": {
    "tags": []
   },
   "outputs": [
    {
     "data": {
      "text/html": [
       "<div>\n",
       "<style scoped>\n",
       "    .dataframe tbody tr th:only-of-type {\n",
       "        vertical-align: middle;\n",
       "    }\n",
       "\n",
       "    .dataframe tbody tr th {\n",
       "        vertical-align: top;\n",
       "    }\n",
       "\n",
       "    .dataframe thead th {\n",
       "        text-align: right;\n",
       "    }\n",
       "</style>\n",
       "<table border=\"1\" class=\"dataframe\">\n",
       "  <thead>\n",
       "    <tr style=\"text-align: right;\">\n",
       "      <th></th>\n",
       "      <th>0</th>\n",
       "      <th>1</th>\n",
       "      <th>2</th>\n",
       "      <th>3</th>\n",
       "      <th>4</th>\n",
       "      <th>5</th>\n",
       "    </tr>\n",
       "  </thead>\n",
       "  <tbody>\n",
       "    <tr>\n",
       "      <th>0</th>\n",
       "      <td>Wow... Loved this place.</td>\n",
       "      <td>1</td>\n",
       "      <td></td>\n",
       "      <td></td>\n",
       "      <td></td>\n",
       "      <td></td>\n",
       "    </tr>\n",
       "    <tr>\n",
       "      <th>1</th>\n",
       "      <td>Crust is not good.</td>\n",
       "      <td>0</td>\n",
       "      <td></td>\n",
       "      <td></td>\n",
       "      <td></td>\n",
       "      <td></td>\n",
       "    </tr>\n",
       "    <tr>\n",
       "      <th>2</th>\n",
       "      <td>Not tasty and the texture was just nasty.</td>\n",
       "      <td>0</td>\n",
       "      <td></td>\n",
       "      <td></td>\n",
       "      <td></td>\n",
       "      <td></td>\n",
       "    </tr>\n",
       "    <tr>\n",
       "      <th>3</th>\n",
       "      <td>Stopped by during the late May bank holiday of...</td>\n",
       "      <td>1</td>\n",
       "      <td></td>\n",
       "      <td></td>\n",
       "      <td></td>\n",
       "      <td></td>\n",
       "    </tr>\n",
       "    <tr>\n",
       "      <th>4</th>\n",
       "      <td>The selection on the menu was great and so wer...</td>\n",
       "      <td>1</td>\n",
       "      <td></td>\n",
       "      <td></td>\n",
       "      <td></td>\n",
       "      <td></td>\n",
       "    </tr>\n",
       "  </tbody>\n",
       "</table>\n",
       "</div>"
      ],
      "text/plain": [
       "                                                   0  1 2 3 4 5\n",
       "0                           Wow... Loved this place.  1        \n",
       "1                                 Crust is not good.  0        \n",
       "2          Not tasty and the texture was just nasty.  0        \n",
       "3  Stopped by during the late May bank holiday of...  1        \n",
       "4  The selection on the menu was great and so wer...  1        "
      ]
     },
     "execution_count": 3,
     "metadata": {},
     "output_type": "execute_result"
    }
   ],
   "source": [
    "# fill NA values\n",
    "df.fillna(value='', inplace=True)\n",
    "df.head(5)"
   ]
  },
  {
   "cell_type": "code",
   "execution_count": 4,
   "id": "10651a71-ff0f-4f92-b751-1cbb27c377db",
   "metadata": {
    "tags": []
   },
   "outputs": [
    {
     "data": {
      "text/plain": [
       "0                              Wow... Loved this place.1\n",
       "1                                    Crust is not good.0\n",
       "2             Not tasty and the texture was just nasty.0\n",
       "3      Stopped by during the late May bank holiday of...\n",
       "4      The selection on the menu was great and so wer...\n",
       "                             ...                        \n",
       "987    I think food should have flavor and texture an...\n",
       "988                            Appetite instantly gone.0\n",
       "989    Overall I was not impressed and would not go b...\n",
       "990    The whole experience was underwhelming and I t...\n",
       "991    Then as if I hadn't wasted enough of my life t...\n",
       "Name: review, Length: 992, dtype: string"
      ]
     },
     "execution_count": 4,
     "metadata": {},
     "output_type": "execute_result"
    }
   ],
   "source": [
    "# combine all columns to create 'review' column\n",
    "df = df.astype('string')\n",
    "df['review'] = df[0] + df[1] + df[2] + df[3] + df[4] + df[5]\n",
    "df.review"
   ]
  },
  {
   "cell_type": "code",
   "execution_count": 5,
   "id": "a1ba4004-3069-4614-8aee-84183037f117",
   "metadata": {
    "tags": []
   },
   "outputs": [
    {
     "data": {
      "text/plain": [
       "0      1\n",
       "1      0\n",
       "2      0\n",
       "3      1\n",
       "4      1\n",
       "      ..\n",
       "987    0\n",
       "988    0\n",
       "989    0\n",
       "990    0\n",
       "991    0\n",
       "Name: sentiment, Length: 992, dtype: string"
      ]
     },
     "execution_count": 5,
     "metadata": {},
     "output_type": "execute_result"
    }
   ],
   "source": [
    "# create 'sentiment' column using slice of 'review' column\n",
    "df['sentiment'] = df.review.str.slice(start=-1)\n",
    "df.sentiment"
   ]
  },
  {
   "cell_type": "code",
   "execution_count": 6,
   "id": "6227d63f-2a84-4464-9ba6-c80df689773d",
   "metadata": {
    "tags": []
   },
   "outputs": [
    {
     "data": {
      "text/plain": [
       "0                               Wow... Loved this place.\n",
       "1                                     Crust is not good.\n",
       "2              Not tasty and the texture was just nasty.\n",
       "3      Stopped by during the late May bank holiday of...\n",
       "4      The selection on the menu was great and so wer...\n",
       "                             ...                        \n",
       "987    I think food should have flavor and texture an...\n",
       "988                             Appetite instantly gone.\n",
       "989    Overall I was not impressed and would not go b...\n",
       "990    The whole experience was underwhelming and I t...\n",
       "991    Then as if I hadn't wasted enough of my life t...\n",
       "Name: review, Length: 992, dtype: string"
      ]
     },
     "execution_count": 6,
     "metadata": {},
     "output_type": "execute_result"
    }
   ],
   "source": [
    "# remove score from 'review' column using slice of 'review' column\n",
    "df.review = df.review.str.slice(stop=-1)\n",
    "df.review"
   ]
  },
  {
   "cell_type": "code",
   "execution_count": 7,
   "id": "60b42484-3dcb-494b-ad06-99ab95d4a30b",
   "metadata": {
    "tags": []
   },
   "outputs": [
    {
     "data": {
      "text/html": [
       "<div>\n",
       "<style scoped>\n",
       "    .dataframe tbody tr th:only-of-type {\n",
       "        vertical-align: middle;\n",
       "    }\n",
       "\n",
       "    .dataframe tbody tr th {\n",
       "        vertical-align: top;\n",
       "    }\n",
       "\n",
       "    .dataframe thead th {\n",
       "        text-align: right;\n",
       "    }\n",
       "</style>\n",
       "<table border=\"1\" class=\"dataframe\">\n",
       "  <thead>\n",
       "    <tr style=\"text-align: right;\">\n",
       "      <th></th>\n",
       "      <th>review</th>\n",
       "      <th>sentiment</th>\n",
       "    </tr>\n",
       "  </thead>\n",
       "  <tbody>\n",
       "    <tr>\n",
       "      <th>0</th>\n",
       "      <td>Wow... Loved this place.</td>\n",
       "      <td>1</td>\n",
       "    </tr>\n",
       "    <tr>\n",
       "      <th>1</th>\n",
       "      <td>Crust is not good.</td>\n",
       "      <td>0</td>\n",
       "    </tr>\n",
       "    <tr>\n",
       "      <th>2</th>\n",
       "      <td>Not tasty and the texture was just nasty.</td>\n",
       "      <td>0</td>\n",
       "    </tr>\n",
       "    <tr>\n",
       "      <th>3</th>\n",
       "      <td>Stopped by during the late May bank holiday of...</td>\n",
       "      <td>1</td>\n",
       "    </tr>\n",
       "    <tr>\n",
       "      <th>4</th>\n",
       "      <td>The selection on the menu was great and so wer...</td>\n",
       "      <td>1</td>\n",
       "    </tr>\n",
       "  </tbody>\n",
       "</table>\n",
       "</div>"
      ],
      "text/plain": [
       "                                              review sentiment\n",
       "0                           Wow... Loved this place.         1\n",
       "1                                 Crust is not good.         0\n",
       "2          Not tasty and the texture was just nasty.         0\n",
       "3  Stopped by during the late May bank holiday of...         1\n",
       "4  The selection on the menu was great and so wer...         1"
      ]
     },
     "execution_count": 7,
     "metadata": {},
     "output_type": "execute_result"
    }
   ],
   "source": [
    "# update DataFrame to contain 'review' and 'sentiment' only\n",
    "df = df[['review', 'sentiment']]\n",
    "df.head(5)"
   ]
  },
  {
   "cell_type": "markdown",
   "id": "dcb2e753-6496-4ee9-8ef1-bfd51ee36a91",
   "metadata": {},
   "source": [
    "### Data Cleaning"
   ]
  },
  {
   "cell_type": "code",
   "execution_count": 8,
   "id": "201cba67-2a25-49fb-8932-b50f69acdcef",
   "metadata": {
    "tags": []
   },
   "outputs": [
    {
     "data": {
      "text/plain": [
       "0                               wow... loved this place.\n",
       "1                                     crust is not good.\n",
       "2              not tasty and the texture was just nasty.\n",
       "3      stopped by during the late may bank holiday of...\n",
       "4      the selection on the menu was great and so wer...\n",
       "                             ...                        \n",
       "987    i think food should have flavor and texture an...\n",
       "988                             appetite instantly gone.\n",
       "989    overall i was not impressed and would not go b...\n",
       "990    the whole experience was underwhelming and i t...\n",
       "991    then as if i hadn't wasted enough of my life t...\n",
       "Name: review, Length: 992, dtype: string"
      ]
     },
     "execution_count": 8,
     "metadata": {},
     "output_type": "execute_result"
    }
   ],
   "source": [
    "# convert 'review' column to lowercase\n",
    "df.review = df.review.str.lower()\n",
    "df.review"
   ]
  },
  {
   "cell_type": "code",
   "execution_count": 9,
   "id": "27428f43-cd88-45fb-b6a8-99070df5c9b9",
   "metadata": {
    "tags": []
   },
   "outputs": [],
   "source": [
    "# install nltk\n",
    "#!pip install nltk"
   ]
  },
  {
   "cell_type": "code",
   "execution_count": 10,
   "id": "bc9fd812-e85c-42b5-9366-6d37e0d64c32",
   "metadata": {
    "tags": []
   },
   "outputs": [
    {
     "data": {
      "text/plain": [
       "0                              [wow, loved, this, place]\n",
       "1                                 [crust, is, not, good]\n",
       "2      [not, tasty, and, the, texture, was, just, nasty]\n",
       "3      [stopped, by, during, the, late, may, bank, ho...\n",
       "4      [the, selection, on, the, menu, was, great, an...\n",
       "                             ...                        \n",
       "987    [i, think, food, should, have, flavor, and, te...\n",
       "988                          [appetite, instantly, gone]\n",
       "989    [overall, i, was, not, impressed, and, would, ...\n",
       "990    [the, whole, experience, was, underwhelming, a...\n",
       "991    [then, as, if, i, hadn, t, wasted, enough, of,...\n",
       "Name: review, Length: 992, dtype: object"
      ]
     },
     "execution_count": 10,
     "metadata": {},
     "output_type": "execute_result"
    }
   ],
   "source": [
    "# import nltk for text pre-processing\n",
    "# tokenize each row in 'review'\n",
    "from nltk.tokenize import RegexpTokenizer\n",
    "\n",
    "tokenizer = RegexpTokenizer('\\w+')\n",
    "df.review = df.review.apply(tokenizer.tokenize)\n",
    "df.review"
   ]
  },
  {
   "cell_type": "code",
   "execution_count": 11,
   "id": "8f76c49d-1a82-4467-8da9-dfe303e55f58",
   "metadata": {
    "tags": []
   },
   "outputs": [
    {
     "name": "stderr",
     "output_type": "stream",
     "text": [
      "[nltk_data] Downloading package stopwords to\n",
      "[nltk_data]     C:\\Users\\Shantel\\AppData\\Roaming\\nltk_data...\n",
      "[nltk_data]   Package stopwords is already up-to-date!\n"
     ]
    }
   ],
   "source": [
    "# download stopwords corpus\n",
    "# remove stopwords from each row in 'review'\n",
    "\n",
    "import nltk\n",
    "from nltk.corpus import stopwords\n",
    "\n",
    "nltk.download('stopwords')\n",
    "stop_words = set(stopwords.words('english'))\n",
    "stop_words = list(stop_words)\n",
    "\n",
    "# remove select words from stop_words array\n",
    "remove_words = ['isn', \"isn't\", \n",
    "                'not', 'nor', 'no', \n",
    "                'ain', 'aren', \"aren't\", \n",
    "                'couldn', \"couldn't\", \n",
    "                'didn', \"didn't\", 'doesn', \"doesn't\", \n",
    "                'haven', \"haven't\", 'hadn', \"hadn't\", 'hasn', \"hasn't\",\n",
    "                'mightn', \"mightn't\", 'mustn', \"mustn't\", \n",
    "                'shouldn', \"shouldn't\", 'shan', \"shan't\",\n",
    "                'wasn', \"wasn't\", 'weren', \"weren't\", 'won', \"won't\", 'wouldn', \"wouldn't\"]\n",
    "\n",
    "for word in stop_words:\n",
    "    if word in remove_words:\n",
    "        stop_words.remove(word)"
   ]
  },
  {
   "cell_type": "code",
   "execution_count": 12,
   "id": "27e533fc-bb85-4692-b091-0715a11ad1be",
   "metadata": {
    "tags": []
   },
   "outputs": [],
   "source": [
    "# function removes stopwords from each row in 'review'\n",
    "def remove_stops(review):\n",
    "    filtered_words = []\n",
    "    for word in review:\n",
    "        if word not in stop_words:\n",
    "            filtered_words.append(word)\n",
    "    return filtered_words"
   ]
  },
  {
   "cell_type": "code",
   "execution_count": 13,
   "id": "a000bb23-7316-4c14-a25b-ada95db2f96d",
   "metadata": {
    "tags": []
   },
   "outputs": [
    {
     "data": {
      "text/plain": [
       "0                                    [wow, loved, place]\n",
       "1                                     [crust, not, good]\n",
       "2                           [not, tasty, texture, nasty]\n",
       "3      [stopped, late, may, bank, holiday, rick, stev...\n",
       "4                       [selection, menu, great, prices]\n",
       "                             ...                        \n",
       "987              [think, food, flavor, texture, lacking]\n",
       "988                          [appetite, instantly, gone]\n",
       "989      [overall, not, impressed, would, not, go, back]\n",
       "990    [whole, experience, underwhelming, think, go, ...\n",
       "991    [hadn, wasted, enough, life, poured, salt, wou...\n",
       "Name: review, Length: 992, dtype: object"
      ]
     },
     "execution_count": 13,
     "metadata": {},
     "output_type": "execute_result"
    }
   ],
   "source": [
    "# remove stop_words\n",
    "df.review = df.review.apply(remove_stops)\n",
    "df.review"
   ]
  },
  {
   "cell_type": "code",
   "execution_count": 14,
   "id": "f93f1ec0-16ac-4f66-b4aa-6f3acb8d46f0",
   "metadata": {
    "tags": []
   },
   "outputs": [
    {
     "name": "stderr",
     "output_type": "stream",
     "text": [
      "[nltk_data] Downloading package wordnet to\n",
      "[nltk_data]     C:\\Users\\Shantel\\AppData\\Roaming\\nltk_data...\n",
      "[nltk_data]   Package wordnet is already up-to-date!\n"
     ]
    }
   ],
   "source": [
    "# lemmatize words using nltk\n",
    "from nltk.stem import WordNetLemmatizer\n",
    "nltk.download('wordnet')\n",
    " \n",
    "wnl = WordNetLemmatizer()"
   ]
  },
  {
   "cell_type": "code",
   "execution_count": 15,
   "id": "44a7860f-4efe-4b5d-899c-9107396f8488",
   "metadata": {
    "tags": []
   },
   "outputs": [],
   "source": [
    "def get_lemms(review):\n",
    "    lemms = []\n",
    "    for word in review:\n",
    "        lemms.append(wnl.lemmatize(word))\n",
    "    return lemms"
   ]
  },
  {
   "cell_type": "code",
   "execution_count": 16,
   "id": "972c5863-a96a-45e0-a8dc-58b3acd1da5f",
   "metadata": {
    "tags": []
   },
   "outputs": [
    {
     "data": {
      "text/plain": [
       "0                                    [wow, loved, place]\n",
       "1                                     [crust, not, good]\n",
       "2                           [not, tasty, texture, nasty]\n",
       "3      [stopped, late, may, bank, holiday, rick, stev...\n",
       "4                        [selection, menu, great, price]\n",
       "                             ...                        \n",
       "987              [think, food, flavor, texture, lacking]\n",
       "988                          [appetite, instantly, gone]\n",
       "989      [overall, not, impressed, would, not, go, back]\n",
       "990    [whole, experience, underwhelming, think, go, ...\n",
       "991    [hadn, wasted, enough, life, poured, salt, wou...\n",
       "Name: review, Length: 992, dtype: object"
      ]
     },
     "execution_count": 16,
     "metadata": {},
     "output_type": "execute_result"
    }
   ],
   "source": [
    "# lemmatize words\n",
    "df.review = df.review.apply(get_lemms)\n",
    "df.review"
   ]
  },
  {
   "cell_type": "code",
   "execution_count": 17,
   "id": "9bffb1f7-675b-4969-8e85-54969e2d1804",
   "metadata": {
    "tags": []
   },
   "outputs": [
    {
     "data": {
      "text/plain": [
       "0                                        wow loved place\n",
       "1                                         crust not good\n",
       "2                                not tasty texture nasty\n",
       "3      stopped late may bank holiday rick steve recom...\n",
       "4                             selection menu great price\n",
       "                             ...                        \n",
       "987                    think food flavor texture lacking\n",
       "988                              appetite instantly gone\n",
       "989              overall not impressed would not go back\n",
       "990    whole experience underwhelming think go ninja ...\n",
       "991    hadn wasted enough life poured salt wound draw...\n",
       "Name: review, Length: 992, dtype: object"
      ]
     },
     "execution_count": 17,
     "metadata": {},
     "output_type": "execute_result"
    }
   ],
   "source": [
    "# join string elements in 'review' column\n",
    "# required for vectorization\n",
    "df.review = df.review.str.join(' ')\n",
    "df.review"
   ]
  },
  {
   "cell_type": "markdown",
   "id": "977a4b44-3871-4acd-90d9-40da3b67ecb6",
   "metadata": {},
   "source": [
    "### Train/Test Split"
   ]
  },
  {
   "cell_type": "code",
   "execution_count": 18,
   "id": "e528bc08-9c58-490b-bcc6-ab266edd0326",
   "metadata": {
    "tags": []
   },
   "outputs": [],
   "source": [
    "# split data into train and test sets\n",
    "from sklearn.model_selection import train_test_split\n",
    "\n",
    "X_train, X_test, y_train, y_test = train_test_split(df.review, df.sentiment, test_size=0.3, random_state=42)"
   ]
  },
  {
   "cell_type": "markdown",
   "id": "1aa4c1f6-ef6a-42e7-b025-08a5840b21bb",
   "metadata": {
    "tags": []
   },
   "source": [
    "Train/test output"
   ]
  },
  {
   "cell_type": "code",
   "execution_count": 19,
   "id": "e988e952-56aa-43ce-92ac-949fa8986581",
   "metadata": {
    "tags": []
   },
   "outputs": [],
   "source": [
    "# save train/test splits as CSV files\n",
    "X_train.to_csv('output/x_train.csv', index=0)\n",
    "X_test.to_csv('output/x_test.csv', index=0)\n",
    "y_train.to_csv('output/y_train.csv', index=0)\n",
    "y_test.to_csv('output/y_test.csv', index=0)"
   ]
  },
  {
   "cell_type": "markdown",
   "id": "6dfa59ac-b15c-4b6e-bbb7-7487fbdacbdc",
   "metadata": {},
   "source": [
    "### Word Embeddings"
   ]
  },
  {
   "cell_type": "code",
   "execution_count": 20,
   "id": "0099b4a4-de9e-44bc-be98-94779037e13a",
   "metadata": {
    "tags": []
   },
   "outputs": [],
   "source": [
    "# install tensorflow and keras\n",
    "#!pip install tensorflow"
   ]
  },
  {
   "cell_type": "code",
   "execution_count": 21,
   "id": "60e3f900-c5ff-4848-a5fe-808dc9c50ac4",
   "metadata": {
    "tags": []
   },
   "outputs": [],
   "source": [
    "# import tensorflow for\n",
    "import tensorflow as tf\n",
    "from tensorflow.keras import Sequential\n",
    "from tensorflow.keras.layers import Dense, Embedding, GlobalAveragePooling1D\n",
    "from tensorflow.keras.layers import TextVectorization"
   ]
  },
  {
   "cell_type": "code",
   "execution_count": 22,
   "id": "5f329f56-c609-4ae3-94a9-5ca7a12f24bc",
   "metadata": {
    "tags": []
   },
   "outputs": [],
   "source": [
    "# use the text vectorization layer to normalize and map strings to integers\n",
    "vectorize_layer = TextVectorization(\n",
    "    standardize=None,\n",
    "    output_mode='int',\n",
    "    output_sequence_length=32)"
   ]
  },
  {
   "cell_type": "code",
   "execution_count": 23,
   "id": "62d7686b-0082-4914-9d5f-5e8190868a2e",
   "metadata": {},
   "outputs": [],
   "source": [
    "# adapt train dataset to build the vocabulary.\n",
    "vectorize_layer.adapt(X_train)"
   ]
  },
  {
   "cell_type": "code",
   "execution_count": 24,
   "id": "2cefbe20-fd2c-4c6b-9bbc-f04c0977cb4e",
   "metadata": {
    "tags": []
   },
   "outputs": [
    {
     "name": "stdout",
     "output_type": "stream",
     "text": [
      "Vocab size: 1477\n"
     ]
    }
   ],
   "source": [
    "max_features = len(vectorize_layer.get_vocabulary())\n",
    "print('Vocab size: ' + str(max_features))"
   ]
  },
  {
   "cell_type": "markdown",
   "id": "a8b06d41-3277-4217-9e84-98b82678f13a",
   "metadata": {},
   "source": [
    "### Model"
   ]
  },
  {
   "cell_type": "code",
   "execution_count": 25,
   "id": "f6cafa2f-2fe1-4128-ab54-a47036b204da",
   "metadata": {
    "tags": []
   },
   "outputs": [],
   "source": [
    "# import layers and losses from tensorflow to create model\n",
    "from tensorflow.keras import layers\n",
    "from tensorflow.keras import losses"
   ]
  },
  {
   "cell_type": "code",
   "execution_count": 26,
   "id": "42e72faa-656c-436a-be5f-45db673afae0",
   "metadata": {
    "tags": []
   },
   "outputs": [
    {
     "name": "stdout",
     "output_type": "stream",
     "text": [
      "Model: \"sequential\"\n",
      "_________________________________________________________________\n",
      " Layer (type)                Output Shape              Param #   \n",
      "=================================================================\n",
      " embedding (Embedding)       (None, None, 8)           11824     \n",
      "                                                                 \n",
      " lstm (LSTM)                 (None, 8)                 544       \n",
      "                                                                 \n",
      " dense (Dense)               (None, 4)                 36        \n",
      "                                                                 \n",
      " dropout (Dropout)           (None, 4)                 0         \n",
      "                                                                 \n",
      " dense_1 (Dense)             (None, 1)                 5         \n",
      "                                                                 \n",
      "=================================================================\n",
      "Total params: 12409 (48.47 KB)\n",
      "Trainable params: 12409 (48.47 KB)\n",
      "Non-trainable params: 0 (0.00 Byte)\n",
      "_________________________________________________________________\n"
     ]
    }
   ],
   "source": [
    "model = tf.keras.Sequential([\n",
    "    layers.Embedding(max_features + 1, 8),\n",
    "    layers.LSTM(8,dropout=0.5),\n",
    "    layers.Dense(4), \n",
    "    layers.Dropout(0.5),\n",
    "    layers.Dense(1)])\n",
    "\n",
    "model.summary()"
   ]
  },
  {
   "cell_type": "markdown",
   "id": "d17934ad-6624-4d24-b10b-9cceaca9136f",
   "metadata": {},
   "source": [
    "### Loss Function and Optimizer"
   ]
  },
  {
   "cell_type": "code",
   "execution_count": 27,
   "id": "4267ec6c-2ceb-46fa-b1a8-17a231640d88",
   "metadata": {
    "tags": []
   },
   "outputs": [],
   "source": [
    "model.compile(loss=losses.BinaryCrossentropy(from_logits=True),\n",
    "              optimizer='adam',\n",
    "              metrics=tf.metrics.BinaryAccuracy(threshold=0.0))"
   ]
  },
  {
   "cell_type": "markdown",
   "id": "34591378-808a-4847-9178-edc1dbcda88d",
   "metadata": {},
   "source": [
    "### Training"
   ]
  },
  {
   "cell_type": "code",
   "execution_count": 28,
   "id": "c7ed7e19-1f82-4bbf-9341-4b9687e63e3e",
   "metadata": {
    "tags": []
   },
   "outputs": [
    {
     "name": "stdout",
     "output_type": "stream",
     "text": [
      "Epoch 1/100\n"
     ]
    },
    {
     "name": "stderr",
     "output_type": "stream",
     "text": [
      "C:\\Users\\Shantel\\.conda\\envs\\myenv\\lib\\site-packages\\keras\\src\\engine\\data_adapter.py:1798: FutureWarning: The behavior of `series[i:j]` with an integer-dtype index is deprecated. In a future version, this will be treated as *label-based* indexing, consistent with e.g. `series[i]` lookups. To retain the old behavior, use `series.iloc[i:j]`. To get the future behavior, use `series.loc[i:j]`.\n",
      "  return t[start:end]\n"
     ]
    },
    {
     "name": "stdout",
     "output_type": "stream",
     "text": [
      "16/16 [==============================] - 3s 48ms/step - loss: 0.6941 - binary_accuracy: 0.5134 - val_loss: 0.6937 - val_binary_accuracy: 0.4928\n",
      "Epoch 2/100\n",
      "16/16 [==============================] - 0s 15ms/step - loss: 0.6951 - binary_accuracy: 0.5010 - val_loss: 0.6937 - val_binary_accuracy: 0.4928\n",
      "Epoch 3/100\n",
      "16/16 [==============================] - 0s 15ms/step - loss: 0.6931 - binary_accuracy: 0.4784 - val_loss: 0.6932 - val_binary_accuracy: 0.4928\n",
      "Epoch 4/100\n",
      "16/16 [==============================] - 0s 14ms/step - loss: 0.6930 - binary_accuracy: 0.4742 - val_loss: 0.6931 - val_binary_accuracy: 0.5072\n",
      "Epoch 5/100\n",
      "16/16 [==============================] - 0s 13ms/step - loss: 0.6940 - binary_accuracy: 0.4825 - val_loss: 0.6931 - val_binary_accuracy: 0.5072\n",
      "Epoch 6/100\n",
      "16/16 [==============================] - 0s 13ms/step - loss: 0.6922 - binary_accuracy: 0.5155 - val_loss: 0.6930 - val_binary_accuracy: 0.5072\n",
      "Epoch 7/100\n",
      "16/16 [==============================] - 0s 11ms/step - loss: 0.6924 - binary_accuracy: 0.5485 - val_loss: 0.6931 - val_binary_accuracy: 0.5072\n",
      "Epoch 8/100\n",
      "16/16 [==============================] - 0s 12ms/step - loss: 0.6947 - binary_accuracy: 0.4742 - val_loss: 0.6931 - val_binary_accuracy: 0.5072\n",
      "Epoch 9/100\n",
      "16/16 [==============================] - 0s 10ms/step - loss: 0.6940 - binary_accuracy: 0.5072 - val_loss: 0.6930 - val_binary_accuracy: 0.5072\n",
      "Epoch 10/100\n",
      "16/16 [==============================] - 0s 12ms/step - loss: 0.6937 - binary_accuracy: 0.4928 - val_loss: 0.6932 - val_binary_accuracy: 0.4928\n",
      "Epoch 11/100\n",
      "16/16 [==============================] - 0s 10ms/step - loss: 0.6928 - binary_accuracy: 0.5278 - val_loss: 0.6932 - val_binary_accuracy: 0.4928\n",
      "Epoch 12/100\n",
      "16/16 [==============================] - 0s 10ms/step - loss: 0.6931 - binary_accuracy: 0.5237 - val_loss: 0.6938 - val_binary_accuracy: 0.4928\n",
      "Epoch 13/100\n",
      "16/16 [==============================] - 0s 12ms/step - loss: 0.6936 - binary_accuracy: 0.5010 - val_loss: 0.6935 - val_binary_accuracy: 0.4928\n",
      "Epoch 14/100\n",
      "16/16 [==============================] - 0s 10ms/step - loss: 0.6924 - binary_accuracy: 0.5258 - val_loss: 0.6934 - val_binary_accuracy: 0.4928\n",
      "Epoch 15/100\n",
      "16/16 [==============================] - 0s 12ms/step - loss: 0.6952 - binary_accuracy: 0.4969 - val_loss: 0.6939 - val_binary_accuracy: 0.4928\n",
      "Epoch 16/100\n",
      "16/16 [==============================] - 0s 10ms/step - loss: 0.6923 - binary_accuracy: 0.5155 - val_loss: 0.6935 - val_binary_accuracy: 0.4928\n",
      "Epoch 17/100\n",
      "16/16 [==============================] - 0s 11ms/step - loss: 0.6922 - binary_accuracy: 0.5093 - val_loss: 0.6943 - val_binary_accuracy: 0.4928\n",
      "Epoch 18/100\n",
      "16/16 [==============================] - 0s 11ms/step - loss: 0.6919 - binary_accuracy: 0.5072 - val_loss: 0.6939 - val_binary_accuracy: 0.4928\n",
      "Epoch 19/100\n",
      "16/16 [==============================] - 0s 12ms/step - loss: 0.6910 - binary_accuracy: 0.5278 - val_loss: 0.6934 - val_binary_accuracy: 0.4928\n",
      "Epoch 20/100\n",
      "16/16 [==============================] - 0s 12ms/step - loss: 0.6932 - binary_accuracy: 0.4887 - val_loss: 0.6929 - val_binary_accuracy: 0.5072\n",
      "Epoch 21/100\n",
      "16/16 [==============================] - 0s 12ms/step - loss: 0.6922 - binary_accuracy: 0.5134 - val_loss: 0.6929 - val_binary_accuracy: 0.5072\n",
      "Epoch 22/100\n",
      "16/16 [==============================] - 0s 12ms/step - loss: 0.6924 - binary_accuracy: 0.5010 - val_loss: 0.6928 - val_binary_accuracy: 0.5024\n",
      "Epoch 23/100\n",
      "16/16 [==============================] - 0s 12ms/step - loss: 0.6922 - binary_accuracy: 0.5258 - val_loss: 0.6924 - val_binary_accuracy: 0.4928\n",
      "Epoch 24/100\n",
      "16/16 [==============================] - 0s 12ms/step - loss: 0.6851 - binary_accuracy: 0.6412 - val_loss: 0.6838 - val_binary_accuracy: 0.6220\n",
      "Epoch 25/100\n",
      "16/16 [==============================] - 0s 12ms/step - loss: 0.5624 - binary_accuracy: 0.8103 - val_loss: 0.5593 - val_binary_accuracy: 0.7225\n",
      "Epoch 26/100\n",
      "16/16 [==============================] - 0s 11ms/step - loss: 0.3820 - binary_accuracy: 0.8351 - val_loss: 0.5698 - val_binary_accuracy: 0.7751\n",
      "Epoch 27/100\n",
      "16/16 [==============================] - 0s 11ms/step - loss: 0.3465 - binary_accuracy: 0.8454 - val_loss: 0.6611 - val_binary_accuracy: 0.7416\n",
      "Epoch 28/100\n",
      "16/16 [==============================] - 0s 12ms/step - loss: 0.3647 - binary_accuracy: 0.8124 - val_loss: 0.4930 - val_binary_accuracy: 0.7847\n",
      "Epoch 29/100\n",
      "16/16 [==============================] - 0s 12ms/step - loss: 0.2832 - binary_accuracy: 0.8928 - val_loss: 0.6606 - val_binary_accuracy: 0.7560\n",
      "Epoch 30/100\n",
      "16/16 [==============================] - 0s 12ms/step - loss: 0.2369 - binary_accuracy: 0.8907 - val_loss: 0.5522 - val_binary_accuracy: 0.7608\n",
      "Epoch 31/100\n",
      "16/16 [==============================] - 0s 12ms/step - loss: 0.2092 - binary_accuracy: 0.8742 - val_loss: 0.6004 - val_binary_accuracy: 0.7608\n",
      "Epoch 32/100\n",
      "16/16 [==============================] - 0s 12ms/step - loss: 0.1829 - binary_accuracy: 0.8969 - val_loss: 0.6802 - val_binary_accuracy: 0.7560\n",
      "Epoch 33/100\n",
      "16/16 [==============================] - 0s 10ms/step - loss: 0.2129 - binary_accuracy: 0.9093 - val_loss: 0.7538 - val_binary_accuracy: 0.7464\n",
      "Epoch 34/100\n",
      "16/16 [==============================] - 0s 12ms/step - loss: 0.1819 - binary_accuracy: 0.9278 - val_loss: 0.6873 - val_binary_accuracy: 0.7656\n",
      "Epoch 35/100\n",
      "16/16 [==============================] - 0s 10ms/step - loss: 0.1638 - binary_accuracy: 0.9402 - val_loss: 0.9313 - val_binary_accuracy: 0.7273\n",
      "Epoch 36/100\n",
      "16/16 [==============================] - 0s 10ms/step - loss: 0.1951 - binary_accuracy: 0.9402 - val_loss: 0.6439 - val_binary_accuracy: 0.8038\n",
      "Epoch 37/100\n",
      "16/16 [==============================] - 0s 10ms/step - loss: 0.1942 - binary_accuracy: 0.9320 - val_loss: 0.9589 - val_binary_accuracy: 0.6890\n",
      "Epoch 38/100\n",
      "16/16 [==============================] - 0s 12ms/step - loss: 0.1938 - binary_accuracy: 0.9443 - val_loss: 0.5960 - val_binary_accuracy: 0.7943\n",
      "Epoch 39/100\n",
      "16/16 [==============================] - 0s 12ms/step - loss: 0.1605 - binary_accuracy: 0.9464 - val_loss: 0.8723 - val_binary_accuracy: 0.7273\n",
      "Epoch 40/100\n",
      "16/16 [==============================] - 0s 10ms/step - loss: 0.2131 - binary_accuracy: 0.9402 - val_loss: 0.7278 - val_binary_accuracy: 0.7512\n",
      "Epoch 41/100\n",
      "16/16 [==============================] - 0s 10ms/step - loss: 0.1564 - binary_accuracy: 0.9505 - val_loss: 0.6412 - val_binary_accuracy: 0.8086\n",
      "Epoch 42/100\n",
      "16/16 [==============================] - 0s 12ms/step - loss: 0.1366 - binary_accuracy: 0.9485 - val_loss: 0.9260 - val_binary_accuracy: 0.7129\n",
      "Epoch 43/100\n",
      "16/16 [==============================] - 0s 12ms/step - loss: 0.1683 - binary_accuracy: 0.9402 - val_loss: 0.8107 - val_binary_accuracy: 0.7560\n",
      "Epoch 44/100\n",
      "16/16 [==============================] - 0s 12ms/step - loss: 0.1525 - binary_accuracy: 0.9381 - val_loss: 0.7406 - val_binary_accuracy: 0.7751\n",
      "Epoch 45/100\n",
      "16/16 [==============================] - 0s 13ms/step - loss: 0.1625 - binary_accuracy: 0.9546 - val_loss: 0.7665 - val_binary_accuracy: 0.7703\n",
      "Epoch 46/100\n",
      "16/16 [==============================] - 0s 13ms/step - loss: 0.1304 - binary_accuracy: 0.9546 - val_loss: 0.7807 - val_binary_accuracy: 0.7656\n",
      "Epoch 47/100\n",
      "16/16 [==============================] - 0s 13ms/step - loss: 0.1159 - binary_accuracy: 0.9546 - val_loss: 0.7214 - val_binary_accuracy: 0.7847\n",
      "Epoch 48/100\n",
      "16/16 [==============================] - 0s 13ms/step - loss: 0.1331 - binary_accuracy: 0.9381 - val_loss: 0.8424 - val_binary_accuracy: 0.7560\n",
      "Epoch 49/100\n",
      "16/16 [==============================] - 0s 13ms/step - loss: 0.1333 - binary_accuracy: 0.9464 - val_loss: 0.7786 - val_binary_accuracy: 0.7799\n",
      "Epoch 50/100\n",
      "16/16 [==============================] - 0s 13ms/step - loss: 0.1284 - binary_accuracy: 0.9588 - val_loss: 0.9198 - val_binary_accuracy: 0.7177\n",
      "Epoch 51/100\n",
      "16/16 [==============================] - 0s 13ms/step - loss: 0.1130 - binary_accuracy: 0.9608 - val_loss: 0.7403 - val_binary_accuracy: 0.7895\n",
      "Epoch 52/100\n",
      "16/16 [==============================] - 0s 13ms/step - loss: 0.1337 - binary_accuracy: 0.9526 - val_loss: 0.7857 - val_binary_accuracy: 0.7703\n",
      "Epoch 53/100\n",
      "16/16 [==============================] - 0s 13ms/step - loss: 0.1022 - binary_accuracy: 0.9546 - val_loss: 0.8742 - val_binary_accuracy: 0.7608\n",
      "Epoch 54/100\n",
      "16/16 [==============================] - 0s 13ms/step - loss: 0.0995 - binary_accuracy: 0.9526 - val_loss: 0.7541 - val_binary_accuracy: 0.8134\n",
      "Epoch 55/100\n",
      "16/16 [==============================] - 0s 12ms/step - loss: 0.1035 - binary_accuracy: 0.9567 - val_loss: 1.0598 - val_binary_accuracy: 0.7416\n",
      "Epoch 56/100\n",
      "16/16 [==============================] - 0s 11ms/step - loss: 0.1054 - binary_accuracy: 0.9464 - val_loss: 0.8978 - val_binary_accuracy: 0.7847\n",
      "Epoch 57/100\n",
      "16/16 [==============================] - 0s 11ms/step - loss: 0.1083 - binary_accuracy: 0.9464 - val_loss: 0.8385 - val_binary_accuracy: 0.8038\n",
      "Epoch 58/100\n",
      "16/16 [==============================] - 0s 12ms/step - loss: 0.0958 - binary_accuracy: 0.9526 - val_loss: 1.0713 - val_binary_accuracy: 0.7512\n",
      "Epoch 59/100\n",
      "16/16 [==============================] - 0s 13ms/step - loss: 0.1039 - binary_accuracy: 0.9464 - val_loss: 0.8972 - val_binary_accuracy: 0.7943\n",
      "Epoch 60/100\n",
      "16/16 [==============================] - 0s 13ms/step - loss: 0.0853 - binary_accuracy: 0.9546 - val_loss: 1.0340 - val_binary_accuracy: 0.7560\n",
      "Epoch 61/100\n",
      "16/16 [==============================] - 0s 12ms/step - loss: 0.1106 - binary_accuracy: 0.9443 - val_loss: 0.9556 - val_binary_accuracy: 0.7751\n",
      "Epoch 62/100\n",
      "16/16 [==============================] - 0s 12ms/step - loss: 0.1008 - binary_accuracy: 0.9546 - val_loss: 1.0004 - val_binary_accuracy: 0.7321\n",
      "Epoch 63/100\n",
      "16/16 [==============================] - 0s 13ms/step - loss: 0.0766 - binary_accuracy: 0.9649 - val_loss: 0.8773 - val_binary_accuracy: 0.7656\n",
      "Epoch 64/100\n",
      "16/16 [==============================] - 0s 12ms/step - loss: 0.0835 - binary_accuracy: 0.9588 - val_loss: 0.9192 - val_binary_accuracy: 0.7943\n",
      "Epoch 65/100\n",
      "16/16 [==============================] - 0s 13ms/step - loss: 0.0772 - binary_accuracy: 0.9629 - val_loss: 1.1346 - val_binary_accuracy: 0.7416\n",
      "Epoch 66/100\n",
      "16/16 [==============================] - 0s 11ms/step - loss: 0.0694 - binary_accuracy: 0.9670 - val_loss: 1.1136 - val_binary_accuracy: 0.7512\n",
      "Epoch 67/100\n",
      "16/16 [==============================] - 0s 11ms/step - loss: 0.0702 - binary_accuracy: 0.9670 - val_loss: 1.3386 - val_binary_accuracy: 0.7225\n",
      "Epoch 68/100\n",
      "16/16 [==============================] - 0s 13ms/step - loss: 0.0834 - binary_accuracy: 0.9567 - val_loss: 1.1576 - val_binary_accuracy: 0.7512\n",
      "Epoch 69/100\n",
      "16/16 [==============================] - 0s 12ms/step - loss: 0.0757 - binary_accuracy: 0.9670 - val_loss: 1.0674 - val_binary_accuracy: 0.7895\n",
      "Epoch 70/100\n",
      "16/16 [==============================] - 0s 12ms/step - loss: 0.0652 - binary_accuracy: 0.9608 - val_loss: 1.1059 - val_binary_accuracy: 0.7847\n",
      "Epoch 71/100\n",
      "16/16 [==============================] - 0s 12ms/step - loss: 0.0642 - binary_accuracy: 0.9691 - val_loss: 1.3037 - val_binary_accuracy: 0.7512\n",
      "Epoch 72/100\n",
      "16/16 [==============================] - 0s 11ms/step - loss: 0.0623 - binary_accuracy: 0.9608 - val_loss: 1.1178 - val_binary_accuracy: 0.7895\n",
      "Epoch 73/100\n",
      "16/16 [==============================] - 0s 11ms/step - loss: 0.0842 - binary_accuracy: 0.9546 - val_loss: 1.1853 - val_binary_accuracy: 0.7608\n",
      "Epoch 74/100\n",
      "16/16 [==============================] - 0s 11ms/step - loss: 0.0713 - binary_accuracy: 0.9546 - val_loss: 1.2954 - val_binary_accuracy: 0.7560\n",
      "Epoch 75/100\n",
      "16/16 [==============================] - 0s 11ms/step - loss: 0.0703 - binary_accuracy: 0.9526 - val_loss: 1.3391 - val_binary_accuracy: 0.7608\n",
      "Epoch 76/100\n",
      "16/16 [==============================] - 0s 12ms/step - loss: 0.0569 - binary_accuracy: 0.9711 - val_loss: 1.3047 - val_binary_accuracy: 0.7656\n",
      "Epoch 77/100\n",
      "16/16 [==============================] - 0s 12ms/step - loss: 0.0709 - binary_accuracy: 0.9711 - val_loss: 1.2316 - val_binary_accuracy: 0.7799\n",
      "Epoch 78/100\n",
      "16/16 [==============================] - 0s 12ms/step - loss: 0.0622 - binary_accuracy: 0.9588 - val_loss: 1.3558 - val_binary_accuracy: 0.7560\n",
      "Epoch 79/100\n",
      "16/16 [==============================] - 0s 12ms/step - loss: 0.0652 - binary_accuracy: 0.9691 - val_loss: 1.1822 - val_binary_accuracy: 0.7943\n",
      "Epoch 80/100\n",
      "16/16 [==============================] - 0s 11ms/step - loss: 0.0575 - binary_accuracy: 0.9691 - val_loss: 1.4389 - val_binary_accuracy: 0.7464\n",
      "Epoch 81/100\n",
      "16/16 [==============================] - 0s 12ms/step - loss: 0.0683 - binary_accuracy: 0.9691 - val_loss: 1.2534 - val_binary_accuracy: 0.7895\n",
      "Epoch 82/100\n",
      "16/16 [==============================] - 0s 12ms/step - loss: 0.0507 - binary_accuracy: 0.9753 - val_loss: 1.3863 - val_binary_accuracy: 0.7560\n",
      "Epoch 83/100\n",
      "16/16 [==============================] - 0s 10ms/step - loss: 0.0573 - binary_accuracy: 0.9711 - val_loss: 1.4243 - val_binary_accuracy: 0.7608\n",
      "Epoch 84/100\n",
      "16/16 [==============================] - 0s 13ms/step - loss: 0.0550 - binary_accuracy: 0.9753 - val_loss: 1.6852 - val_binary_accuracy: 0.7225\n",
      "Epoch 85/100\n",
      "16/16 [==============================] - 0s 12ms/step - loss: 0.0548 - binary_accuracy: 0.9732 - val_loss: 1.1548 - val_binary_accuracy: 0.8134\n",
      "Epoch 86/100\n",
      "16/16 [==============================] - 0s 12ms/step - loss: 0.0681 - binary_accuracy: 0.9588 - val_loss: 1.7547 - val_binary_accuracy: 0.7273\n",
      "Epoch 87/100\n",
      "16/16 [==============================] - 0s 11ms/step - loss: 0.0543 - binary_accuracy: 0.9629 - val_loss: 1.4591 - val_binary_accuracy: 0.7799\n",
      "Epoch 88/100\n",
      "16/16 [==============================] - 0s 12ms/step - loss: 0.0617 - binary_accuracy: 0.9773 - val_loss: 1.6142 - val_binary_accuracy: 0.7464\n",
      "Epoch 89/100\n",
      "16/16 [==============================] - 0s 13ms/step - loss: 0.0827 - binary_accuracy: 0.9526 - val_loss: 1.7445 - val_binary_accuracy: 0.7177\n",
      "Epoch 90/100\n",
      "16/16 [==============================] - 0s 12ms/step - loss: 0.0894 - binary_accuracy: 0.9670 - val_loss: 1.1844 - val_binary_accuracy: 0.8182\n",
      "Epoch 91/100\n",
      "16/16 [==============================] - 0s 12ms/step - loss: 0.0795 - binary_accuracy: 0.9588 - val_loss: 1.3238 - val_binary_accuracy: 0.7560\n",
      "Epoch 92/100\n",
      "16/16 [==============================] - 0s 12ms/step - loss: 0.0921 - binary_accuracy: 0.9485 - val_loss: 1.1806 - val_binary_accuracy: 0.7847\n",
      "Epoch 93/100\n",
      "16/16 [==============================] - 0s 13ms/step - loss: 0.0594 - binary_accuracy: 0.9670 - val_loss: 1.2201 - val_binary_accuracy: 0.7895\n",
      "Epoch 94/100\n",
      "16/16 [==============================] - 0s 12ms/step - loss: 0.0753 - binary_accuracy: 0.9649 - val_loss: 1.4155 - val_binary_accuracy: 0.7368\n",
      "Epoch 95/100\n",
      "16/16 [==============================] - 0s 11ms/step - loss: 0.0639 - binary_accuracy: 0.9691 - val_loss: 1.2684 - val_binary_accuracy: 0.7656\n",
      "Epoch 96/100\n",
      "16/16 [==============================] - 0s 11ms/step - loss: 0.0604 - binary_accuracy: 0.9567 - val_loss: 1.2090 - val_binary_accuracy: 0.7895\n",
      "Epoch 97/100\n",
      "16/16 [==============================] - 0s 12ms/step - loss: 0.0657 - binary_accuracy: 0.9814 - val_loss: 1.5891 - val_binary_accuracy: 0.7177\n",
      "Epoch 98/100\n",
      "16/16 [==============================] - 0s 10ms/step - loss: 0.0624 - binary_accuracy: 0.9608 - val_loss: 1.2443 - val_binary_accuracy: 0.7751\n",
      "Epoch 99/100\n",
      "16/16 [==============================] - 0s 12ms/step - loss: 0.0723 - binary_accuracy: 0.9711 - val_loss: 1.1627 - val_binary_accuracy: 0.7943\n",
      "Epoch 100/100\n",
      "16/16 [==============================] - 0s 12ms/step - loss: 0.0829 - binary_accuracy: 0.9546 - val_loss: 1.1292 - val_binary_accuracy: 0.7560\n"
     ]
    }
   ],
   "source": [
    "history = model.fit(\n",
    "    x=vectorize_layer(X_train),\n",
    "    y=y_train.astype('int32'),\n",
    "    validation_split=0.3,\n",
    "    epochs=100)"
   ]
  },
  {
   "cell_type": "code",
   "execution_count": null,
   "id": "492fa24e-520a-4e3a-b40b-0f0908a57909",
   "metadata": {},
   "outputs": [],
   "source": []
  }
 ],
 "metadata": {
  "kernelspec": {
   "display_name": "myenv",
   "language": "python",
   "name": "myenv"
  },
  "language_info": {
   "codemirror_mode": {
    "name": "ipython",
    "version": 3
   },
   "file_extension": ".py",
   "mimetype": "text/x-python",
   "name": "python",
   "nbconvert_exporter": "python",
   "pygments_lexer": "ipython3",
   "version": "3.9.15"
  }
 },
 "nbformat": 4,
 "nbformat_minor": 5
}
